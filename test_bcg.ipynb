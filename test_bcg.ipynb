{
 "cells": [
  {
   "cell_type": "code",
   "execution_count": 1,
   "metadata": {},
   "outputs": [],
   "source": [
    "import h5py\n",
    "import numpy as np"
   ]
  },
  {
   "cell_type": "code",
   "execution_count": 3,
   "metadata": {},
   "outputs": [],
   "source": [
    "File = h5py.File('SatelliteList.h5', 'r')\n",
    "Satellites = File['SatelliteList'][()]\n",
    "Centrals = File['SatelliteCentral'][()]"
   ]
  },
  {
   "cell_type": "code",
   "execution_count": 4,
   "metadata": {},
   "outputs": [],
   "source": [
    "File2 = h5py.File('SatelliteList_V2.h5', 'r')\n",
    "Satellites2 = File2['SatelliteList'][()]\n",
    "Centrals2 = File2['SatelliteCentral'][()]"
   ]
  },
  {
   "cell_type": "code",
   "execution_count": 19,
   "metadata": {},
   "outputs": [
    {
     "name": "stdout",
     "output_type": "stream",
     "text": [
      "2401\n",
      "[2398 2399 2400 2401]\n"
     ]
    }
   ],
   "source": [
    "c1 = np.random.choice(Centrals, 1)[0]\n",
    "\n",
    "ii = np.where(Centrals==c1)\n",
    "print(c1)\n",
    "print(Satellites[ii])"
   ]
  },
  {
   "cell_type": "code",
   "execution_count": 24,
   "metadata": {},
   "outputs": [
    {
     "name": "stdout",
     "output_type": "stream",
     "text": [
      "4337\n",
      "[4338 4339 4340 4341 4342 4343 4344 4345 4346 4347 4348 4349 4350 4351\n",
      " 4352 4353 4354 4355 4356 4357 4358 4359 4360 4361 4362 4363 4364 4365\n",
      " 4366 4367 4368 4369 4370 4371 4372 4373 4374 4375 4376 4377 4378 4379\n",
      " 4380 4381 4382 4383 4384 4385 4386 4387 4388 4389 4390 4391 4392 4393\n",
      " 4394 4395 4396 4397 4398 4399 4400 4401 4402 4403 4404 4405 4406 4407\n",
      " 4408 4409 4410 4411 4412 4413 4414 4415 4416 4417 4418 4419 4420 4421\n",
      " 4422 4423 4424 4425 4426 4427 4428 4429 4430 4431 4432 4433 4434 4435\n",
      " 4436 4437 4438 4439 4440 4441 4442 4443 4444 4445 4446 4447 4448 4449\n",
      " 4450 4451 4452 4453 4454 4455 4456 4457 4458 4459 4460 4461 4462 4463\n",
      " 4464 4465 4466 4467 4468]\n"
     ]
    }
   ],
   "source": [
    "c2 = np.random.choice(Centrals2, 1)[0]\n",
    "\n",
    "ii2 = np.where(Centrals2==c2)\n",
    "print(c2)\n",
    "print(Satellites2[ii2])"
   ]
  },
  {
   "cell_type": "code",
   "execution_count": null,
   "metadata": {},
   "outputs": [],
   "source": []
  }
 ],
 "metadata": {
  "kernelspec": {
   "display_name": "Python 3",
   "language": "python",
   "name": "python3"
  },
  "language_info": {
   "codemirror_mode": {
    "name": "ipython",
    "version": 3
   },
   "file_extension": ".py",
   "mimetype": "text/x-python",
   "name": "python",
   "nbconvert_exporter": "python",
   "pygments_lexer": "ipython3",
   "version": "3.8.1"
  }
 },
 "nbformat": 4,
 "nbformat_minor": 4
}
