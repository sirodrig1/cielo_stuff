{
 "cells": [
  {
   "cell_type": "code",
   "execution_count": 1,
   "metadata": {},
   "outputs": [],
   "source": [
    "import h5py\n",
    "import pylab as pl\n",
    "import numpy as np\n",
    "import scipy.stats as sp\n",
    "import matplotlib as mpl\n",
    "import networkx\n",
    "import progressbar"
   ]
  },
  {
   "cell_type": "code",
   "execution_count": 2,
   "metadata": {},
   "outputs": [],
   "source": [
    "def split_unique_id(unique_id):\n",
    "    \"\"\"Splits the ids assign to the subhalos by the merger tree code by snap number and subfind number \"\"\"\n",
    "    subfind_number = int(unique_id % 1e6)\n",
    "    snap_number = int((unique_id - subfind_number) / 1e6)\n",
    "    \n",
    "    return snap_number, subfind_number\n",
    "\n",
    "def get_main_branch_unique_ids(subtree, node):\n",
    "    \"\"\"Gets the unique ids of the subhalos belonging to the main branch of the selected subhalo (node)\"\"\"\n",
    "    mpb = [node, ]\n",
    "    i = 0\n",
    "    while True:\n",
    "        succesors = list(subtree.successors(node))\n",
    "        if len(succesors) == 0:\n",
    "            break\n",
    "        node = succesors[0] # select only the first succesor (main branch)\n",
    "        mpb.append(node)\n",
    "        \n",
    "    return mpb"
   ]
  },
  {
   "cell_type": "code",
   "execution_count": 3,
   "metadata": {},
   "outputs": [],
   "source": [
    "pl.rc('font', size = 20)\n",
    "pl.rc('legend', fontsize = 20)\n",
    "sim = h5py.File('/data/cielo/simulations/LG1/LG1.hdf5', 'r')\n",
    "trees = networkx.read_multiline_adjlist('/data/cielo/simulations/LG1/LG1_tree.dat')"
   ]
  },
  {
   "cell_type": "code",
   "execution_count": 4,
   "metadata": {},
   "outputs": [],
   "source": [
    "Slist = h5py.File('SatelliteList_V2_cont1R200.h5', 'r')\n",
    "Satellites = Slist['SatelliteList'][()]\n",
    "Centrals = Slist['SatelliteCentral'][()]"
   ]
  },
  {
   "cell_type": "code",
   "execution_count": 5,
   "metadata": {},
   "outputs": [],
   "source": [
    "#ok, now the serialized version of the get particles for each Satellite, lets see.\n",
    "TdayTotalIDs = sim['SnapNumber_128/PartType0/ParticleIDs'][()] # need this first\n",
    "I= np.identity(3) # and this"
   ]
  },
  {
   "cell_type": "code",
   "execution_count": 6,
   "metadata": {},
   "outputs": [],
   "source": [
    "def getAllLastP(fofID, centralID):\n",
    "    \"\"\"\n",
    "    get position, masses and abundances of all particles that in past snapshot belong to a given subhalo,\n",
    "    and a z=0 are located at athe maximum distance of 600 kpc to the subhalo,\n",
    "    rotated by the velocity and the vector to the centre.\n",
    "    \"\"\"\n",
    "    uniqueID = int(128*1e6+fofID)\n",
    "    stree = networkx.dfs_tree(trees, str(uniqueID))\n",
    "    mtree = get_main_branch_unique_ids(stree, str(uniqueID))\n",
    "    \n",
    "    #firts find all the particleIDs that once belong to the subgroup\n",
    "    Idlist = []\n",
    "\n",
    "    for mm in mtree[1:]: # ignore the first one\n",
    "        snap, idd = split_unique_id(int(mm))\n",
    "        tempOff = sim['SnapNumber_{}/SubGroups/PartType0/Offsets'.format(snap)][idd].astype('int')\n",
    "        if tempOff[0]>= 0 and tempOff[1]>=0:\n",
    "            tempIds = sim['SnapNumber_{}/PartType0/ParticleIDs'.format(snap)][tempOff[0]:tempOff[1]]\n",
    "            Idlist.extend(list(tempIds))\n",
    "\n",
    "    Idlist = np.array(Idlist)\n",
    "    Idlist = np.unique(Idlist) # remove duplicates\n",
    "    \n",
    "    TdayOff = sim['SnapNumber_128/SubGroups/PartType0/Offsets'][fofID].astype('int')\n",
    "    \n",
    "    IndexToday = np.in1d(TdayTotalIDs, Idlist)\n",
    "    IndexToday_ = np.where(IndexToday)[0]\n",
    "    \n",
    "    # lets remove the ones that are not part of the group today.\n",
    "    TdayIDs = sim['SnapNumber_128/PartType0/ParticleIDs'][TdayOff[0]:TdayOff[1]]\n",
    "\n",
    "    IndexNot = np.in1d(Idlist, TdayIDs)\n",
    "    IdNot = Idlist[np.where(IndexNot==False)[0]]\n",
    "\n",
    "    IndexT = np.in1d(TdayTotalIDs, IdNot)\n",
    "    IndexT_ = np.where(IndexT)[0]\n",
    "    \n",
    "    #print(IndexT_[0], IndexT_[int(IndexT_.size/2)], IndexT_[-1])\n",
    "    \n",
    "    #now lets cut at  a certain distance\n",
    "    distance = 600 # distance in ckpc\n",
    "    \n",
    "    posGal = sim['SnapNumber_128/SubGroups/SubGroupPos'][fofID]\n",
    "    posCen = sim['SnapNumber_128/SubGroups/SubGroupPos'][centralID]\n",
    "\n",
    "    LostCoord = sim['SnapNumber_128/PartType0/Coordinates'][IndexT_]\n",
    "    \n",
    "    \n",
    "    dx, dy, dz = LostCoord[:,0]-posGal[0], LostCoord[:,1]-posGal[1], LostCoord[:,2]-posGal[2]\n",
    "    distToC = np.sqrt(dx**2+dy**2+dz**2)\n",
    "\n",
    "    icut = np.where(distToC<distance)[0]\n",
    "    IndexT_near = IndexT_[icut] # this is the final list of particles ids\n",
    "  \n",
    "    # ok, lets see the current status\n",
    "    # the code: 0, completely free, 1 ICM, 2 in the central, 3 in other galaxy of the cluster, 4 in other galaxy or group.\n",
    "    Status = np.zeros(IndexT_near.size)\n",
    "    \n",
    "    Thegroup = sim['SnapNumber_128/SubGroups/GroupNumber'][fofID]\n",
    "    gro = sim['SnapNumber_128/SubGroups/GroupNumber'][centralID]\n",
    "    \n",
    "    PartGroup = sim['SnapNumber_128/PartType0/GroupNumber'][IndexT_near]\n",
    "    PartSubGroup = sim['SnapNumber_128/PartType0/SubGroupNumber'][IndexT_near]\n",
    "    \n",
    "    free = np.where((PartGroup == -1) & (PartSubGroup ==-1))\n",
    "    ICM = np.where((PartGroup == Thegroup) & (PartSubGroup ==-1))\n",
    "    centralGal = np.where(PartSubGroup == 0)\n",
    "    otherGal = np.where((PartGroup == Thegroup) & (PartSubGroup > 0))\n",
    "    otherGroup = np.where((PartGroup != Thegroup) & (PartGroup != -1))\n",
    "    \n",
    "    Status[free] = 0\n",
    "    Status[ICM] = 1\n",
    "    Status[centralGal] = 2\n",
    "    Status[otherGal] = 3\n",
    "    Status[otherGroup] = 4\n",
    "    \n",
    "    return IndexT_near, Status"
   ]
  },
  {
   "cell_type": "code",
   "execution_count": 7,
   "metadata": {},
   "outputs": [
    {
     "name": "stdout",
     "output_type": "stream",
     "text": [
      "[95917 97421]\n",
      "22302\n"
     ]
    }
   ],
   "source": [
    "# ok, lets try if this works before apply some serialized use.\n",
    "Index, status = getAllLastP(4338, 4337)\n",
    "print(status.size)"
   ]
  },
  {
   "cell_type": "code",
   "execution_count": 8,
   "metadata": {},
   "outputs": [
    {
     "data": {
      "text/plain": [
       "([<matplotlib.axis.XTick at 0x7f1dd8db8be0>,\n",
       "  <matplotlib.axis.XTick at 0x7f1dd8db8bb0>,\n",
       "  <matplotlib.axis.XTick at 0x7f1dd8db8490>,\n",
       "  <matplotlib.axis.XTick at 0x7f1dd8d52610>,\n",
       "  <matplotlib.axis.XTick at 0x7f1dd8d52b20>],\n",
       " <a list of 5 Text xticklabel objects>)"
      ]
     },
     "execution_count": 8,
     "metadata": {},
     "output_type": "execute_result"
    },
    {
     "data": {
      "image/png": "[encoded data removed]",
      "text/plain": [
       "<Figure size 1008x1008 with 1 Axes>"
      ]
     },
     "metadata": {
      "needs_background": "light"
     },
     "output_type": "display_data"
    }
   ],
   "source": [
    "mark = ','\n",
    "pl.figure(figsize=(14, 14))\n",
    "\n",
    "bins = np.array([-0.5, 0.5, 1.5, 2.5, 3.5, 4.5])\n",
    "pl.hist(status, bins=bins, histtype='step')\n",
    "\n",
    "pl.ylabel('Number Of Particles')\n",
    "pl.xticks((0, 1, 2, 3, 4), ('free', 'ICM', 'central', 'other galaxy', 'other group'))"
   ]
  },
  {
   "cell_type": "code",
   "execution_count": 9,
   "metadata": {},
   "outputs": [
    {
     "name": "stdout",
     "output_type": "stream",
     "text": [
      "[98292 98732]\n"
     ]
    },
    {
     "data": {
      "text/plain": [
       "([<matplotlib.axis.XTick at 0x7f1dd8d58340>,\n",
       "  <matplotlib.axis.XTick at 0x7f1dd8d58310>,\n",
       "  <matplotlib.axis.XTick at 0x7f1dd8d66b80>,\n",
       "  <matplotlib.axis.XTick at 0x7f1dd8d71d00>,\n",
       "  <matplotlib.axis.XTick at 0x7f1dd8d04250>],\n",
       " <a list of 5 Text xticklabel objects>)"
      ]
     },
     "execution_count": 9,
     "metadata": {},
     "output_type": "execute_result"
    },
    {
     "data": {
      "image/png": "[encoded data removed]",
      "text/plain": [
       "<Figure size 1008x1008 with 1 Axes>"
      ]
     },
     "metadata": {
      "needs_background": "light"
     },
     "output_type": "display_data"
    }
   ],
   "source": [
    "Index, status = getAllLastP(4341, 4337)\n",
    "\n",
    "pl.figure(figsize=(14, 14))\n",
    "\n",
    "bins = np.array([-0.5, 0.5, 1.5, 2.5, 3.5, 4.5])\n",
    "pl.hist(status, bins=bins, histtype='step')\n",
    "\n",
    "pl.ylabel('Number Of Particles')\n",
    "pl.xticks((0, 1, 2, 3, 4), ('free', 'ICM', 'central', 'other galaxy', 'other group'))"
   ]
  },
  {
   "cell_type": "code",
   "execution_count": 10,
   "metadata": {},
   "outputs": [
    {
     "name": "stdout",
     "output_type": "stream",
     "text": [
      "[193399 229080]\n"
     ]
    },
    {
     "data": {
      "text/plain": [
       "([<matplotlib.axis.XTick at 0x7f1dd7f19820>,\n",
       "  <matplotlib.axis.XTick at 0x7f1dd7f19b80>,\n",
       "  <matplotlib.axis.XTick at 0x7f1e2862caf0>,\n",
       "  <matplotlib.axis.XTick at 0x7f1dd8ce4970>,\n",
       "  <matplotlib.axis.XTick at 0x7f1dd7455520>],\n",
       " <a list of 5 Text xticklabel objects>)"
      ]
     },
     "execution_count": 10,
     "metadata": {},
     "output_type": "execute_result"
    },
    {
     "data": {
      "image/png": "[encoded data removed]",
      "text/plain": [
       "<Figure size 1008x1008 with 1 Axes>"
      ]
     },
     "metadata": {
      "needs_background": "light"
     },
     "output_type": "display_data"
    }
   ],
   "source": [
    "Index, status = getAllLastP(4470, 4469)\n",
    "\n",
    "pl.figure(figsize=(14, 14))\n",
    "\n",
    "bins = np.array([-0.5, 0.5, 1.5, 2.5, 3.5, 4.5])\n",
    "pl.hist(status, bins=bins, histtype='step')\n",
    "\n",
    "pl.ylabel('Number Of Particles')\n",
    "pl.xticks((0, 1, 2, 3, 4), ('free', 'ICM', 'central', 'other galaxy', 'other group'))"
   ]
  },
  {
   "cell_type": "code",
   "execution_count": 11,
   "metadata": {},
   "outputs": [
    {
     "name": "stdout",
     "output_type": "stream",
     "text": [
      "[254002 261427]\n"
     ]
    },
    {
     "data": {
      "text/plain": [
       "([<matplotlib.axis.XTick at 0x7f1dd8ae8b20>,\n",
       "  <matplotlib.axis.XTick at 0x7f1dd8ae8af0>,\n",
       "  <matplotlib.axis.XTick at 0x7f1dd8ae83a0>,\n",
       "  <matplotlib.axis.XTick at 0x7f1dd7b84520>,\n",
       "  <matplotlib.axis.XTick at 0x7f1dd7b84a30>],\n",
       " <a list of 5 Text xticklabel objects>)"
      ]
     },
     "execution_count": 11,
     "metadata": {},
     "output_type": "execute_result"
    },
    {
     "data": {
      "image/png": "[encoded data removed]",
      "text/plain": [
       "<Figure size 1008x1008 with 1 Axes>"
      ]
     },
     "metadata": {
      "needs_background": "light"
     },
     "output_type": "display_data"
    }
   ],
   "source": [
    "Index, status = getAllLastP(4474, 4469)\n",
    "\n",
    "pl.figure(figsize=(14, 14))\n",
    "\n",
    "bins = np.array([-0.5, 0.5, 1.5, 2.5, 3.5, 4.5])\n",
    "pl.hist(status, bins=bins, histtype='step')\n",
    "\n",
    "pl.ylabel('Number Of Particles')\n",
    "pl.xticks((0, 1, 2, 3, 4), ('free', 'ICM', 'central', 'other galaxy', 'other group'))"
   ]
  },
  {
   "cell_type": "code",
   "execution_count": 12,
   "metadata": {},
   "outputs": [
    {
     "name": "stdout",
     "output_type": "stream",
     "text": [
      "[771955 772362]\n"
     ]
    },
    {
     "name": "stderr",
     "output_type": "stream",
     "text": [
      "\r",
      "                                                                               \r",
      "\r",
      "N/A% (0 of 515) |                        | Elapsed Time: 0:00:00 ETA:  --:--:--"
     ]
    },
    {
     "name": "stdout",
     "output_type": "stream",
     "text": [
      "[-9223372036854775808 -9223372036854775808]\n"
     ]
    },
    {
     "name": "stderr",
     "output_type": "stream",
     "text": [
      "\r",
      "                                                                               \r",
      "\r",
      "  0% (2 of 515) |                        | Elapsed Time: 0:00:03 ETA:   0:16:59"
     ]
    },
    {
     "name": "stdout",
     "output_type": "stream",
     "text": [
      "[-9223372036854775808 -9223372036854775808]\n"
     ]
    },
    {
     "name": "stderr",
     "output_type": "stream",
     "text": [
      "\r",
      "                                                                               \r",
      "\r",
      "  0% (3 of 515) |                        | Elapsed Time: 0:00:04 ETA:   0:13:36"
     ]
    },
    {
     "name": "stdout",
     "output_type": "stream",
     "text": [
      "[-9223372036854775808 -9223372036854775808]\n",
      "[-9223372036854775808 -9223372036854775808]\n",
      "[-9223372036854775808 -9223372036854775808]\n",
      "[-9223372036854775808 -9223372036854775808]\n"
     ]
    },
    {
     "name": "stderr",
     "output_type": "stream",
     "text": [
      "\r",
      "                                                                               \r",
      "\r",
      "  1% (7 of 515) |                        | Elapsed Time: 0:00:05 ETA:   0:06:45"
     ]
    },
    {
     "name": "stdout",
     "output_type": "stream",
     "text": [
      "[835368 835497]\n"
     ]
    },
    {
     "name": "stderr",
     "output_type": "stream",
     "text": [
      "  1% (10 of 515) |                       | Elapsed Time: 0:00:10 ETA:   0:12:41"
     ]
    },
    {
     "name": "stdout",
     "output_type": "stream",
     "text": [
      "[-9223372036854775808 -9223372036854775808]\n",
      "[-9223372036854775808 -9223372036854775808]\n",
      "[-9223372036854775808 -9223372036854775808]\n"
     ]
    },
    {
     "name": "stderr",
     "output_type": "stream",
     "text": [
      "\r",
      "                                                                               \r",
      "\r",
      "  2% (11 of 515) |                       | Elapsed Time: 0:00:10 ETA:   0:10:29"
     ]
    },
    {
     "name": "stdout",
     "output_type": "stream",
     "text": [
      "[-9223372036854775808 -9223372036854775808]\n"
     ]
    },
    {
     "name": "stderr",
     "output_type": "stream",
     "text": [
      "\r",
      "                                                                               \r",
      "\r",
      "  2% (12 of 515) |                       | Elapsed Time: 0:00:14 ETA:   0:30:21"
     ]
    },
    {
     "name": "stdout",
     "output_type": "stream",
     "text": [
      "[870024 870025]\n",
      "[-9223372036854775808 -9223372036854775808]\n"
     ]
    },
    {
     "name": "stderr",
     "output_type": "stream",
     "text": [
      "  3% (16 of 515) |                       | Elapsed Time: 0:00:17 ETA:   0:07:47"
     ]
    },
    {
     "name": "stdout",
     "output_type": "stream",
     "text": [
      "[-9223372036854775808 -9223372036854775808]\n",
      "[-9223372036854775808 -9223372036854775808]\n",
      "[-9223372036854775808 -9223372036854775808]"
     ]
    },
    {
     "name": "stderr",
     "output_type": "stream",
     "text": [
      "\r",
      "                                                                               \r",
      "\r",
      "  3% (17 of 515) |                       | Elapsed Time: 0:00:18 ETA:   0:06:23"
     ]
    },
    {
     "name": "stdout",
     "output_type": "stream",
     "text": [
      "\n",
      "[-9223372036854775808 -9223372036854775808]\n",
      "[-9223372036854775808 -9223372036854775808]\n"
     ]
    },
    {
     "name": "stderr",
     "output_type": "stream",
     "text": [
      "  3% (20 of 515) |                       | Elapsed Time: 0:00:19 ETA:   0:05:19"
     ]
    },
    {
     "name": "stdout",
     "output_type": "stream",
     "text": [
      "[-9223372036854775808 -9223372036854775808]\n",
      "[882027 882029]\n"
     ]
    },
    {
     "name": "stderr",
     "output_type": "stream",
     "text": [
      "  4% (23 of 515) |#                      | Elapsed Time: 0:00:20 ETA:   0:03:11"
     ]
    },
    {
     "name": "stdout",
     "output_type": "stream",
     "text": [
      "[-9223372036854775808 -9223372036854775808]\n",
      "[-9223372036854775808 -9223372036854775808]\n",
      "[-9223372036854775808 -9223372036854775808]\n"
     ]
    },
    {
     "name": "stderr",
     "output_type": "stream",
     "text": [
      "  4% (25 of 515) |#                      | Elapsed Time: 0:00:21 ETA:   0:03:04"
     ]
    },
    {
     "name": "stdout",
     "output_type": "stream",
     "text": [
      "[-9223372036854775808 -9223372036854775808]\n",
      "[-9223372036854775808 -9223372036854775808]\n",
      "[-9223372036854775808 -9223372036854775808]\n"
     ]
    },
    {
     "name": "stderr",
     "output_type": "stream",
     "text": [
      "  6% (32 of 515) |#                      | Elapsed Time: 0:00:21 ETA:   0:01:29"
     ]
    },
    {
     "name": "stdout",
     "output_type": "stream",
     "text": [
      "[-9223372036854775808 -9223372036854775808]\n",
      "[-9223372036854775808 -9223372036854775808]\n",
      "[-9223372036854775808 -9223372036854775808]\n",
      "[-9223372036854775808 -9223372036854775808]\n",
      "[-9223372036854775808 -9223372036854775808]\n",
      "[-9223372036854775808 -9223372036854775808]\n"
     ]
    },
    {
     "name": "stderr",
     "output_type": "stream",
     "text": [
      "  7% (40 of 515) |#                      | Elapsed Time: 0:00:22 ETA:   0:01:17"
     ]
    },
    {
     "name": "stdout",
     "output_type": "stream",
     "text": [
      "[-9223372036854775808 -9223372036854775808]\n",
      "[-9223372036854775808 -9223372036854775808]\n",
      "[-9223372036854775808 -9223372036854775808]\n",
      "[-9223372036854775808 -9223372036854775808]\n",
      "[-9223372036854775808 -9223372036854775808]\n",
      "[-9223372036854775808 -9223372036854775808]\n",
      "[-9223372036854775808 -9223372036854775808]\n",
      "[-9223372036854775808 -9223372036854775808]\n",
      "[-9223372036854775808 -9223372036854775808]\n"
     ]
    },
    {
     "name": "stderr",
     "output_type": "stream",
     "text": [
      "\r",
      "                                                                               \r",
      "\r",
      "  8% (42 of 515) |#                      | Elapsed Time: 0:00:23 ETA:   0:01:06"
     ]
    },
    {
     "name": "stdout",
     "output_type": "stream",
     "text": [
      "[-9223372036854775808 -9223372036854775808]\n",
      "[-9223372036854775808 -9223372036854775808]\n",
      "[-9223372036854775808 -9223372036854775808]\n"
     ]
    },
    {
     "name": "stderr",
     "output_type": "stream",
     "text": [
      "  9% (48 of 515) |##                     | Elapsed Time: 0:00:23 ETA:   0:01:04"
     ]
    },
    {
     "name": "stdout",
     "output_type": "stream",
     "text": [
      "[-9223372036854775808 -9223372036854775808]\n",
      "[938690 938692]\n",
      "[-9223372036854775808 -9223372036854775808]\n",
      "[-9223372036854775808 -9223372036854775808]\n"
     ]
    },
    {
     "name": "stderr",
     "output_type": "stream",
     "text": [
      " 10% (53 of 515) |##                     | Elapsed Time: 0:00:24 ETA:   0:00:58"
     ]
    },
    {
     "name": "stdout",
     "output_type": "stream",
     "text": [
      "[-9223372036854775808 -9223372036854775808]\n",
      "[-9223372036854775808 -9223372036854775808]\n",
      "[-9223372036854775808 -9223372036854775808]\n",
      "[-9223372036854775808 -9223372036854775808]\n",
      "[-9223372036854775808 -9223372036854775808]\n"
     ]
    },
    {
     "name": "stderr",
     "output_type": "stream",
     "text": [
      " 11% (58 of 515) |##                     | Elapsed Time: 0:00:24 ETA:   0:00:49"
     ]
    },
    {
     "name": "stdout",
     "output_type": "stream",
     "text": [
      "[-9223372036854775808 -9223372036854775808]\n",
      "[-9223372036854775808 -9223372036854775808]\n",
      "[-9223372036854775808 -9223372036854775808]\n",
      "[-9223372036854775808 -9223372036854775808]\n",
      "[-9223372036854775808 -9223372036854775808]\n",
      "[-9223372036854775808 -9223372036854775808]\n"
     ]
    },
    {
     "name": "stderr",
     "output_type": "stream",
     "text": [
      " 12% (66 of 515) |##                     | Elapsed Time: 0:00:25 ETA:   0:00:49"
     ]
    },
    {
     "name": "stdout",
     "output_type": "stream",
     "text": [
      "[-9223372036854775808 -9223372036854775808]\n",
      "[-9223372036854775808 -9223372036854775808]\n",
      "[-9223372036854775808 -9223372036854775808]\n",
      "[-9223372036854775808 -9223372036854775808]\n",
      "[-9223372036854775808 -9223372036854775808]\n",
      "[-9223372036854775808 -9223372036854775808]\n",
      "[-9223372036854775808 -9223372036854775808]\n"
     ]
    },
    {
     "name": "stderr",
     "output_type": "stream",
     "text": [
      " 13% (72 of 515) |###                    | Elapsed Time: 0:00:25 ETA:   0:00:42"
     ]
    },
    {
     "name": "stdout",
     "output_type": "stream",
     "text": [
      "[-9223372036854775808 -9223372036854775808]\n",
      "[-9223372036854775808 -9223372036854775808]\n",
      "[-9223372036854775808 -9223372036854775808]\n",
      "[-9223372036854775808 -9223372036854775808]\n",
      "[-9223372036854775808 -9223372036854775808]\n",
      "[-9223372036854775808 -9223372036854775808]\n",
      "[-9223372036854775808 -9223372036854775808]\n",
      "[-9223372036854775808 -9223372036854775808]\n",
      "[-9223372036854775808 -9223372036854775808]\n"
     ]
    },
    {
     "name": "stderr",
     "output_type": "stream",
     "text": [
      "\r",
      "                                                                               \r",
      "\r",
      " 14% (77 of 515) |###                    | Elapsed Time: 0:00:25 ETA:   0:00:25"
     ]
    },
    {
     "name": "stdout",
     "output_type": "stream",
     "text": [
      "[951470 951471]\n",
      "[709335 709606]\n"
     ]
    },
    {
     "name": "stderr",
     "output_type": "stream",
     "text": [
      "\r",
      "                                                                               \r",
      "\r",
      " 15% (78 of 515) |###                    | Elapsed Time: 0:00:29 ETA:   0:31:00"
     ]
    },
    {
     "name": "stdout",
     "output_type": "stream",
     "text": [
      "[-9223372036854775808 -9223372036854775808]\n"
     ]
    },
    {
     "name": "stderr",
     "output_type": "stream",
     "text": [
      " 15% (80 of 515) |###                    | Elapsed Time: 0:00:30 ETA:   0:12:20"
     ]
    },
    {
     "name": "stdout",
     "output_type": "stream",
     "text": [
      "[-9223372036854775808 -9223372036854775808]\n",
      "[-9223372036854775808 -9223372036854775808]\n"
     ]
    },
    {
     "name": "stderr",
     "output_type": "stream",
     "text": [
      "\r",
      "                                                                               \r",
      "\r",
      " 15% (81 of 515) |###                    | Elapsed Time: 0:00:31 ETA:   0:10:54"
     ]
    },
    {
     "name": "stdout",
     "output_type": "stream",
     "text": [
      "[835170 835171]\n"
     ]
    },
    {
     "name": "stderr",
     "output_type": "stream",
     "text": [
      "\r",
      "                                                                               \r",
      "\r",
      " 15% (82 of 515) |###                    | Elapsed Time: 0:00:32 ETA:   0:04:43"
     ]
    },
    {
     "name": "stdout",
     "output_type": "stream",
     "text": [
      "[-9223372036854775808 -9223372036854775808]\n",
      "[852465 852628]\n"
     ]
    },
    {
     "name": "stderr",
     "output_type": "stream",
     "text": [
      "\r",
      "                                                                               \r",
      "\r",
      " 16% (84 of 515) |###                    | Elapsed Time: 0:00:37 ETA:   0:17:15"
     ]
    },
    {
     "name": "stdout",
     "output_type": "stream",
     "text": [
      "[853803 853972]\n"
     ]
    },
    {
     "name": "stderr",
     "output_type": "stream",
     "text": [
      " 16% (87 of 515) |###                    | Elapsed Time: 0:00:41 ETA:   0:10:57"
     ]
    },
    {
     "name": "stdout",
     "output_type": "stream",
     "text": [
      "[-9223372036854775808 -9223372036854775808]\n",
      "[-9223372036854775808 -9223372036854775808]\n",
      "[-9223372036854775808 -9223372036854775808]\n",
      "[-9223372036854775808 -9223372036854775808]\n"
     ]
    },
    {
     "name": "stderr",
     "output_type": "stream",
     "text": [
      " 17% (90 of 515) |####                   | Elapsed Time: 0:00:42 ETA:   0:05:50"
     ]
    },
    {
     "name": "stdout",
     "output_type": "stream",
     "text": [
      "[-9223372036854775808 -9223372036854775808]\n",
      "[-9223372036854775808 -9223372036854775808]\n",
      "[-9223372036854775808 -9223372036854775808]\n"
     ]
    },
    {
     "name": "stderr",
     "output_type": "stream",
     "text": [
      " 18% (95 of 515) |####                   | Elapsed Time: 0:00:46 ETA:   0:05:42"
     ]
    },
    {
     "name": "stdout",
     "output_type": "stream",
     "text": [
      "[-9223372036854775808 -9223372036854775808]\n",
      "[-9223372036854775808 -9223372036854775808]\n",
      "[-9223372036854775808 -9223372036854775808]\n",
      "[-9223372036854775808 -9223372036854775808]\n",
      "[-9223372036854775808 -9223372036854775808]\n",
      "[-9223372036854775808 -9223372036854775808]\n"
     ]
    },
    {
     "name": "stderr",
     "output_type": "stream",
     "text": [
      "\r",
      "                                                                               \r",
      "\r",
      " 19% (98 of 515) |####                   | Elapsed Time: 0:00:47 ETA:   0:04:27"
     ]
    },
    {
     "name": "stdout",
     "output_type": "stream",
     "text": [
      "[-9223372036854775808 -9223372036854775808]\n"
     ]
    },
    {
     "name": "stderr",
     "output_type": "stream",
     "text": [
      " 19% (101 of 515) |####                  | Elapsed Time: 0:00:48 ETA:   0:02:53"
     ]
    },
    {
     "name": "stdout",
     "output_type": "stream",
     "text": [
      "[-9223372036854775808 -9223372036854775808]\n",
      "[-9223372036854775808 -9223372036854775808]\n",
      "[-9223372036854775808 -9223372036854775808]\n",
      "[920770 920784]\n"
     ]
    },
    {
     "name": "stderr",
     "output_type": "stream",
     "text": [
      " 20% (104 of 515) |####                  | Elapsed Time: 0:00:52 ETA:   0:09:34"
     ]
    },
    {
     "name": "stdout",
     "output_type": "stream",
     "text": [
      "[-9223372036854775808 -9223372036854775808]\n",
      "[-9223372036854775808 -9223372036854775808]\n",
      "[-9223372036854775808 -9223372036854775808]\n",
      "[-9223372036854775808 -9223372036854775808]\n"
     ]
    },
    {
     "name": "stderr",
     "output_type": "stream",
     "text": [
      "\r",
      "                                                                               \r",
      "\r",
      " 20% (108 of 515) |####                  | Elapsed Time: 0:00:52 ETA:   0:04:11"
     ]
    },
    {
     "name": "stdout",
     "output_type": "stream",
     "text": [
      "[-9223372036854775808 -9223372036854775808]\n",
      "[-9223372036854775808 -9223372036854775808]\n"
     ]
    },
    {
     "name": "stderr",
     "output_type": "stream",
     "text": [
      "\r",
      "                                                                               \r",
      "\r",
      " 21% (109 of 515) |####                  | Elapsed Time: 0:00:53 ETA:   0:04:15"
     ]
    },
    {
     "name": "stdout",
     "output_type": "stream",
     "text": [
      "[933264 933266]\n"
     ]
    },
    {
     "name": "stderr",
     "output_type": "stream",
     "text": [
      " 21% (113 of 515) |####                  | Elapsed Time: 0:00:57 ETA:   0:06:39"
     ]
    },
    {
     "name": "stdout",
     "output_type": "stream",
     "text": [
      "[-9223372036854775808 -9223372036854775808]\n",
      "[935606 935607]\n",
      "[-9223372036854775808 -9223372036854775808]\n",
      "[-9223372036854775808 -9223372036854775808]\n"
     ]
    },
    {
     "name": "stderr",
     "output_type": "stream",
     "text": [
      " 22% (118 of 515) |#####                 | Elapsed Time: 0:00:58 ETA:   0:04:43"
     ]
    },
    {
     "name": "stdout",
     "output_type": "stream",
     "text": [
      "[-9223372036854775808 -9223372036854775808]\n",
      "[-9223372036854775808 -9223372036854775808]\n",
      "[-9223372036854775808 -9223372036854775808]\n",
      "[-9223372036854775808 -9223372036854775808]\n",
      "[-9223372036854775808 -9223372036854775808]\n",
      "[-9223372036854775808 -9223372036854775808]\n",
      "[-9223372036854775808 -9223372036854775808]\n"
     ]
    },
    {
     "name": "stderr",
     "output_type": "stream",
     "text": [
      " 23% (122 of 515) |#####                 | Elapsed Time: 0:01:02 ETA:   0:03:52"
     ]
    },
    {
     "name": "stdout",
     "output_type": "stream",
     "text": [
      "[-9223372036854775808 -9223372036854775808]\n",
      "[-9223372036854775808 -9223372036854775808]\n"
     ]
    },
    {
     "name": "stderr",
     "output_type": "stream",
     "text": [
      "\r",
      "                                                                               \r",
      "\r",
      " 24% (124 of 515) |#####                 | Elapsed Time: 0:01:02 ETA:   0:03:09"
     ]
    },
    {
     "name": "stdout",
     "output_type": "stream",
     "text": [
      "[-9223372036854775808 -9223372036854775808]\n",
      "[-9223372036854775808 -9223372036854775808]\n"
     ]
    },
    {
     "name": "stderr",
     "output_type": "stream",
     "text": [
      " 25% (130 of 515) |#####                 | Elapsed Time: 0:01:03 ETA:   0:02:10"
     ]
    },
    {
     "name": "stdout",
     "output_type": "stream",
     "text": [
      "[-9223372036854775808 -9223372036854775808]\n",
      "[-9223372036854775808 -9223372036854775808]\n",
      "[-9223372036854775808 -9223372036854775808]\n",
      "[-9223372036854775808 -9223372036854775808]\n",
      "[-9223372036854775808 -9223372036854775808]\n",
      "[-9223372036854775808 -9223372036854775808]\n"
     ]
    },
    {
     "name": "stderr",
     "output_type": "stream",
     "text": [
      " 26% (134 of 515) |#####                 | Elapsed Time: 0:01:03 ETA:   0:01:46"
     ]
    },
    {
     "name": "stdout",
     "output_type": "stream",
     "text": [
      "[-9223372036854775808 -9223372036854775808]\n",
      "[-9223372036854775808 -9223372036854775808]\n",
      "[-9223372036854775808 -9223372036854775808]\n",
      "[-9223372036854775808 -9223372036854775808]\n",
      "[-9223372036854775808 -9223372036854775808]\n"
     ]
    },
    {
     "name": "stderr",
     "output_type": "stream",
     "text": [
      " 26% (139 of 515) |#####                 | Elapsed Time: 0:01:03 ETA:   0:01:26"
     ]
    },
    {
     "name": "stdout",
     "output_type": "stream",
     "text": [
      "[-9223372036854775808 -9223372036854775808]\n",
      "[-9223372036854775808 -9223372036854775808]\n",
      "[-9223372036854775808 -9223372036854775808]\n",
      "[-9223372036854775808 -9223372036854775808]\n",
      "[-9223372036854775808 -9223372036854775808]\n"
     ]
    },
    {
     "name": "stderr",
     "output_type": "stream",
     "text": [
      "\r",
      "                                                                               \r",
      "\r",
      " 27% (142 of 515) |######                | Elapsed Time: 0:01:03 ETA:   0:01:18"
     ]
    },
    {
     "name": "stdout",
     "output_type": "stream",
     "text": [
      "[-9223372036854775808 -9223372036854775808]\n",
      "[-9223372036854775808 -9223372036854775808]\n"
     ]
    },
    {
     "name": "stderr",
     "output_type": "stream",
     "text": [
      " 28% (148 of 515) |######                | Elapsed Time: 0:01:04 ETA:   0:00:29"
     ]
    },
    {
     "name": "stdout",
     "output_type": "stream",
     "text": [
      "[-9223372036854775808 -9223372036854775808]\n",
      "[-9223372036854775808 -9223372036854775808]\n",
      "[-9223372036854775808 -9223372036854775808]\n",
      "[-9223372036854775808 -9223372036854775808]\n",
      "[-9223372036854775808 -9223372036854775808]\n",
      "[-9223372036854775808 -9223372036854775808]\n",
      "[-9223372036854775808 -9223372036854775808]\n",
      "[95917 97421]\n"
     ]
    },
    {
     "name": "stderr",
     "output_type": "stream",
     "text": [
      "\r",
      "                                                                               \r",
      "\r",
      " 29% (151 of 515) |######                | Elapsed Time: 0:02:58 ETA:   3:50:37"
     ]
    },
    {
     "name": "stdout",
     "output_type": "stream",
     "text": [
      "[97421 98292]\n"
     ]
    },
    {
     "name": "stderr",
     "output_type": "stream",
     "text": [
      "\r",
      "                                                                               \r",
      "\r",
      " 29% (152 of 515) |######                | Elapsed Time: 0:03:18 ETA:   2:03:27"
     ]
    },
    {
     "name": "stdout",
     "output_type": "stream",
     "text": [
      "[-9223372036854775808 -9223372036854775808]\n"
     ]
    },
    {
     "name": "stderr",
     "output_type": "stream",
     "text": [
      "\r",
      "                                                                               \r",
      "\r",
      " 29% (153 of 515) |######                | Elapsed Time: 0:03:35 ETA:   1:38:52"
     ]
    },
    {
     "name": "stdout",
     "output_type": "stream",
     "text": [
      "[98292 98732]\n"
     ]
    },
    {
     "name": "stderr",
     "output_type": "stream",
     "text": [
      "\r",
      "                                                                               \r",
      "\r",
      " 29% (154 of 515) |######                | Elapsed Time: 0:03:50 ETA:   1:33:01"
     ]
    },
    {
     "name": "stdout",
     "output_type": "stream",
     "text": [
      "[-9223372036854775808 -9223372036854775808]\n"
     ]
    },
    {
     "name": "stderr",
     "output_type": "stream",
     "text": [
      "\r",
      "                                                                               \r",
      "\r",
      " 30% (155 of 515) |######                | Elapsed Time: 0:06:29 ETA:  15:53:10"
     ]
    },
    {
     "name": "stdout",
     "output_type": "stream",
     "text": [
      "[-9223372036854775808 -9223372036854775808]\n"
     ]
    },
    {
     "name": "stderr",
     "output_type": "stream",
     "text": [
      "\r",
      "                                                                               \r",
      "\r",
      " 30% (156 of 515) |######                | Elapsed Time: 0:06:53 ETA:   2:22:28"
     ]
    },
    {
     "name": "stdout",
     "output_type": "stream",
     "text": [
      "[-9223372036854775808 -9223372036854775808]\n"
     ]
    },
    {
     "name": "stderr",
     "output_type": "stream",
     "text": [
      "\r",
      "                                                                               \r",
      "\r",
      " 30% (157 of 515) |######                | Elapsed Time: 0:06:57 ETA:   0:27:46"
     ]
    },
    {
     "name": "stdout",
     "output_type": "stream",
     "text": [
      "[-9223372036854775808 -9223372036854775808]\n"
     ]
    },
    {
     "name": "stderr",
     "output_type": "stream",
     "text": [
      "\r",
      "                                                                               \r",
      "\r",
      " 30% (158 of 515) |######                | Elapsed Time: 0:07:02 ETA:   0:25:51"
     ]
    },
    {
     "name": "stdout",
     "output_type": "stream",
     "text": [
      "[-9223372036854775808 -9223372036854775808]\n"
     ]
    },
    {
     "name": "stderr",
     "output_type": "stream",
     "text": [
      "\r",
      "                                                                               \r",
      "\r",
      " 30% (159 of 515) |######                | Elapsed Time: 0:07:06 ETA:   0:22:54"
     ]
    },
    {
     "name": "stdout",
     "output_type": "stream",
     "text": [
      "[-9223372036854775808 -9223372036854775808]\n"
     ]
    },
    {
     "name": "stderr",
     "output_type": "stream",
     "text": [
      "\r",
      "                                                                               \r",
      "\r",
      " 31% (160 of 515) |######                | Elapsed Time: 0:07:10 ETA:   0:24:01"
     ]
    },
    {
     "name": "stdout",
     "output_type": "stream",
     "text": [
      "[-9223372036854775808 -9223372036854775808]\n"
     ]
    },
    {
     "name": "stderr",
     "output_type": "stream",
     "text": [
      "\r",
      "                                                                               \r",
      "\r",
      " 31% (161 of 515) |######                | Elapsed Time: 0:07:14 ETA:   0:24:30"
     ]
    },
    {
     "name": "stdout",
     "output_type": "stream",
     "text": [
      "[-9223372036854775808 -9223372036854775808]\n"
     ]
    },
    {
     "name": "stderr",
     "output_type": "stream",
     "text": [
      "\r",
      "                                                                               \r",
      "\r",
      " 31% (162 of 515) |######                | Elapsed Time: 0:07:18 ETA:   0:22:45"
     ]
    },
    {
     "name": "stdout",
     "output_type": "stream",
     "text": [
      "[-9223372036854775808 -9223372036854775808]\n"
     ]
    },
    {
     "name": "stderr",
     "output_type": "stream",
     "text": [
      "\r",
      "                                                                               \r",
      "\r",
      " 31% (163 of 515) |######                | Elapsed Time: 0:07:21 ETA:   0:21:47"
     ]
    },
    {
     "name": "stdout",
     "output_type": "stream",
     "text": [
      "[-9223372036854775808 -9223372036854775808]\n",
      "[-9223372036854775808 -9223372036854775808]\n"
     ]
    },
    {
     "name": "stderr",
     "output_type": "stream",
     "text": [
      "\r",
      "                                                                               \r",
      "\r",
      " 32% (165 of 515) |#######               | Elapsed Time: 0:07:25 ETA:   0:11:27"
     ]
    },
    {
     "name": "stdout",
     "output_type": "stream",
     "text": [
      "[-9223372036854775808 -9223372036854775808]\n"
     ]
    },
    {
     "name": "stderr",
     "output_type": "stream",
     "text": [
      "\r",
      "                                                                               \r",
      "\r",
      " 32% (166 of 515) |#######               | Elapsed Time: 0:07:30 ETA:   0:26:40"
     ]
    },
    {
     "name": "stdout",
     "output_type": "stream",
     "text": [
      "[-9223372036854775808 -9223372036854775808]\n"
     ]
    },
    {
     "name": "stderr",
     "output_type": "stream",
     "text": [
      "\r",
      "                                                                               \r",
      "\r",
      " 32% (167 of 515) |#######               | Elapsed Time: 0:07:34 ETA:   0:21:22"
     ]
    },
    {
     "name": "stdout",
     "output_type": "stream",
     "text": [
      "[-9223372036854775808 -9223372036854775808]\n"
     ]
    },
    {
     "name": "stderr",
     "output_type": "stream",
     "text": [
      "\r",
      "                                                                               \r",
      "\r",
      " 32% (168 of 515) |#######               | Elapsed Time: 0:07:37 ETA:   0:21:51"
     ]
    },
    {
     "name": "stdout",
     "output_type": "stream",
     "text": [
      "[-9223372036854775808 -9223372036854775808]\n"
     ]
    },
    {
     "name": "stderr",
     "output_type": "stream",
     "text": [
      "\r",
      "                                                                               \r",
      "\r",
      " 32% (169 of 515) |#######               | Elapsed Time: 0:07:43 ETA:   0:30:29"
     ]
    },
    {
     "name": "stdout",
     "output_type": "stream",
     "text": [
      "[-9223372036854775808 -9223372036854775808]\n"
     ]
    },
    {
     "name": "stderr",
     "output_type": "stream",
     "text": [
      "\r",
      "                                                                               \r",
      "\r",
      " 33% (170 of 515) |#######               | Elapsed Time: 0:07:43 ETA:   0:16:27"
     ]
    },
    {
     "name": "stdout",
     "output_type": "stream",
     "text": [
      "[-9223372036854775808 -9223372036854775808]\n"
     ]
    },
    {
     "name": "stderr",
     "output_type": "stream",
     "text": [
      "\r",
      "                                                                               \r",
      "\r",
      " 33% (171 of 515) |#######               | Elapsed Time: 0:07:47 ETA:   0:21:45"
     ]
    },
    {
     "name": "stdout",
     "output_type": "stream",
     "text": [
      "[-9223372036854775808 -9223372036854775808]\n",
      "[-9223372036854775808 -9223372036854775808]\n"
     ]
    },
    {
     "name": "stderr",
     "output_type": "stream",
     "text": [
      "\r",
      "                                                                               \r",
      "\r",
      " 33% (173 of 515) |#######               | Elapsed Time: 0:07:51 ETA:   0:11:22"
     ]
    },
    {
     "name": "stdout",
     "output_type": "stream",
     "text": [
      "[-9223372036854775808 -9223372036854775808]\n"
     ]
    },
    {
     "name": "stderr",
     "output_type": "stream",
     "text": [
      "\r",
      "                                                                               \r",
      "\r",
      " 33% (174 of 515) |#######               | Elapsed Time: 0:07:55 ETA:   0:21:55"
     ]
    },
    {
     "name": "stdout",
     "output_type": "stream",
     "text": [
      "[-9223372036854775808 -9223372036854775808]\n"
     ]
    },
    {
     "name": "stderr",
     "output_type": "stream",
     "text": [
      "\r",
      "                                                                               \r",
      "\r",
      " 33% (175 of 515) |#######               | Elapsed Time: 0:07:58 ETA:   0:21:04"
     ]
    },
    {
     "name": "stdout",
     "output_type": "stream",
     "text": [
      "[-9223372036854775808 -9223372036854775808]\n"
     ]
    },
    {
     "name": "stderr",
     "output_type": "stream",
     "text": [
      "\r",
      "                                                                               \r",
      "\r",
      " 34% (176 of 515) |#######               | Elapsed Time: 0:08:02 ETA:   0:20:58"
     ]
    },
    {
     "name": "stdout",
     "output_type": "stream",
     "text": [
      "[-9223372036854775808 -9223372036854775808]\n"
     ]
    },
    {
     "name": "stderr",
     "output_type": "stream",
     "text": [
      "\r",
      "                                                                               \r",
      "\r",
      " 34% (177 of 515) |#######               | Elapsed Time: 0:08:06 ETA:   0:20:56"
     ]
    },
    {
     "name": "stdout",
     "output_type": "stream",
     "text": [
      "[-9223372036854775808 -9223372036854775808]\n"
     ]
    },
    {
     "name": "stderr",
     "output_type": "stream",
     "text": [
      "\r",
      "                                                                               \r",
      "\r",
      " 34% (178 of 515) |#######               | Elapsed Time: 0:08:10 ETA:   0:21:04"
     ]
    },
    {
     "name": "stdout",
     "output_type": "stream",
     "text": [
      "[-9223372036854775808 -9223372036854775808]\n"
     ]
    },
    {
     "name": "stderr",
     "output_type": "stream",
     "text": [
      "\r",
      "                                                                               \r",
      "\r",
      " 34% (179 of 515) |#######               | Elapsed Time: 0:08:13 ETA:   0:20:52"
     ]
    },
    {
     "name": "stdout",
     "output_type": "stream",
     "text": [
      "[-9223372036854775808 -9223372036854775808]\n"
     ]
    },
    {
     "name": "stderr",
     "output_type": "stream",
     "text": [
      "\r",
      "                                                                               \r",
      "\r",
      " 34% (180 of 515) |#######               | Elapsed Time: 0:08:17 ETA:   0:21:28"
     ]
    },
    {
     "name": "stdout",
     "output_type": "stream",
     "text": [
      "[-9223372036854775808 -9223372036854775808]\n"
     ]
    },
    {
     "name": "stderr",
     "output_type": "stream",
     "text": [
      "\r",
      "                                                                               \r",
      "\r",
      " 35% (181 of 515) |#######               | Elapsed Time: 0:08:21 ETA:   0:20:00"
     ]
    },
    {
     "name": "stdout",
     "output_type": "stream",
     "text": [
      "[-9223372036854775808 -9223372036854775808]\n"
     ]
    },
    {
     "name": "stderr",
     "output_type": "stream",
     "text": [
      "\r",
      "                                                                               \r",
      "\r",
      " 35% (182 of 515) |#######               | Elapsed Time: 0:08:24 ETA:   0:19:07"
     ]
    },
    {
     "name": "stdout",
     "output_type": "stream",
     "text": [
      "[-9223372036854775808 -9223372036854775808]\n"
     ]
    },
    {
     "name": "stderr",
     "output_type": "stream",
     "text": [
      "\r",
      "                                                                               \r",
      "\r",
      " 35% (183 of 515) |#######               | Elapsed Time: 0:08:28 ETA:   0:19:12"
     ]
    },
    {
     "name": "stdout",
     "output_type": "stream",
     "text": [
      "[-9223372036854775808 -9223372036854775808]\n",
      "[-9223372036854775808 -9223372036854775808]\n"
     ]
    },
    {
     "name": "stderr",
     "output_type": "stream",
     "text": [
      "\r",
      "                                                                               \r",
      "\r",
      " 35% (185 of 515) |#######               | Elapsed Time: 0:08:29 ETA:   0:08:14"
     ]
    },
    {
     "name": "stdout",
     "output_type": "stream",
     "text": [
      "[-9223372036854775808 -9223372036854775808]\n",
      "[-9223372036854775808 -9223372036854775808]\n"
     ]
    },
    {
     "name": "stderr",
     "output_type": "stream",
     "text": [
      "\r",
      "                                                                               \r",
      "\r",
      " 36% (187 of 515) |#######               | Elapsed Time: 0:08:29 ETA:   0:05:31"
     ]
    },
    {
     "name": "stdout",
     "output_type": "stream",
     "text": [
      "[-9223372036854775808 -9223372036854775808]\n"
     ]
    },
    {
     "name": "stderr",
     "output_type": "stream",
     "text": [
      "\r",
      "                                                                               \r",
      "\r",
      " 36% (188 of 515) |########              | Elapsed Time: 0:08:33 ETA:   0:19:34"
     ]
    },
    {
     "name": "stdout",
     "output_type": "stream",
     "text": [
      "[-9223372036854775808 -9223372036854775808]\n"
     ]
    },
    {
     "name": "stderr",
     "output_type": "stream",
     "text": [
      "\r",
      "                                                                               \r",
      "\r",
      " 36% (189 of 515) |########              | Elapsed Time: 0:08:36 ETA:   0:18:47"
     ]
    },
    {
     "name": "stdout",
     "output_type": "stream",
     "text": [
      "[-9223372036854775808 -9223372036854775808]\n"
     ]
    },
    {
     "name": "stderr",
     "output_type": "stream",
     "text": [
      "\r",
      "                                                                               \r",
      "\r",
      " 36% (190 of 515) |########              | Elapsed Time: 0:08:40 ETA:   0:18:10"
     ]
    },
    {
     "name": "stdout",
     "output_type": "stream",
     "text": [
      "[-9223372036854775808 -9223372036854775808]\n"
     ]
    },
    {
     "name": "stderr",
     "output_type": "stream",
     "text": [
      "\r",
      "                                                                               \r",
      "\r",
      " 37% (191 of 515) |########              | Elapsed Time: 0:08:43 ETA:   0:20:06"
     ]
    },
    {
     "name": "stdout",
     "output_type": "stream",
     "text": [
      "[-9223372036854775808 -9223372036854775808]\n"
     ]
    },
    {
     "name": "stderr",
     "output_type": "stream",
     "text": [
      "\r",
      "                                                                               \r",
      "\r",
      " 37% (192 of 515) |########              | Elapsed Time: 0:08:47 ETA:   0:20:39"
     ]
    },
    {
     "name": "stdout",
     "output_type": "stream",
     "text": [
      "[-9223372036854775808 -9223372036854775808]\n"
     ]
    },
    {
     "name": "stderr",
     "output_type": "stream",
     "text": [
      "\r",
      "                                                                               \r",
      "\r",
      " 37% (193 of 515) |########              | Elapsed Time: 0:08:51 ETA:   0:20:24"
     ]
    },
    {
     "name": "stdout",
     "output_type": "stream",
     "text": [
      "[-9223372036854775808 -9223372036854775808]\n"
     ]
    },
    {
     "name": "stderr",
     "output_type": "stream",
     "text": [
      "\r",
      "                                                                               \r",
      "\r",
      " 37% (194 of 515) |########              | Elapsed Time: 0:08:55 ETA:   0:19:50"
     ]
    },
    {
     "name": "stdout",
     "output_type": "stream",
     "text": [
      "[-9223372036854775808 -9223372036854775808]\n"
     ]
    },
    {
     "name": "stderr",
     "output_type": "stream",
     "text": [
      "\r",
      "                                                                               \r",
      "\r",
      " 37% (195 of 515) |########              | Elapsed Time: 0:08:58 ETA:   0:20:04"
     ]
    },
    {
     "name": "stdout",
     "output_type": "stream",
     "text": [
      "[-9223372036854775808 -9223372036854775808]\n"
     ]
    },
    {
     "name": "stderr",
     "output_type": "stream",
     "text": [
      "\r",
      "                                                                               \r",
      "\r",
      " 38% (196 of 515) |########              | Elapsed Time: 0:09:02 ETA:   0:20:31"
     ]
    },
    {
     "name": "stdout",
     "output_type": "stream",
     "text": [
      "[-9223372036854775808 -9223372036854775808]\n"
     ]
    },
    {
     "name": "stderr",
     "output_type": "stream",
     "text": [
      "\r",
      "                                                                               \r",
      "\r",
      " 38% (197 of 515) |########              | Elapsed Time: 0:09:06 ETA:   0:19:09"
     ]
    },
    {
     "name": "stdout",
     "output_type": "stream",
     "text": [
      "[-9223372036854775808 -9223372036854775808]\n"
     ]
    },
    {
     "name": "stderr",
     "output_type": "stream",
     "text": [
      "\r",
      "                                                                               \r",
      "\r",
      " 38% (198 of 515) |########              | Elapsed Time: 0:09:10 ETA:   0:19:56"
     ]
    },
    {
     "name": "stdout",
     "output_type": "stream",
     "text": [
      "[-9223372036854775808 -9223372036854775808]\n",
      "[-9223372036854775808 -9223372036854775808]\n"
     ]
    },
    {
     "name": "stderr",
     "output_type": "stream",
     "text": [
      "\r",
      "                                                                               \r",
      "\r",
      " 38% (200 of 515) |########              | Elapsed Time: 0:09:14 ETA:   0:10:21"
     ]
    },
    {
     "name": "stdout",
     "output_type": "stream",
     "text": [
      "[-9223372036854775808 -9223372036854775808]\n"
     ]
    },
    {
     "name": "stderr",
     "output_type": "stream",
     "text": [
      "\r",
      "                                                                               \r",
      "\r",
      " 39% (201 of 515) |########              | Elapsed Time: 0:09:14 ETA:   0:08:16"
     ]
    },
    {
     "name": "stdout",
     "output_type": "stream",
     "text": [
      "[-9223372036854775808 -9223372036854775808]\n"
     ]
    },
    {
     "name": "stderr",
     "output_type": "stream",
     "text": [
      " 39% (203 of 515) |########              | Elapsed Time: 0:09:15 ETA:   0:07:06"
     ]
    },
    {
     "name": "stdout",
     "output_type": "stream",
     "text": [
      "[-9223372036854775808 -9223372036854775808]\n",
      "[-9223372036854775808 -9223372036854775808]\n"
     ]
    },
    {
     "name": "stderr",
     "output_type": "stream",
     "text": [
      "\r",
      "                                                                               \r",
      "\r",
      " 39% (204 of 515) |########              | Elapsed Time: 0:09:16 ETA:   0:03:07"
     ]
    },
    {
     "name": "stdout",
     "output_type": "stream",
     "text": [
      "[-9223372036854775808 -9223372036854775808]\n"
     ]
    },
    {
     "name": "stderr",
     "output_type": "stream",
     "text": [
      "\r",
      "                                                                               \r",
      "\r",
      " 39% (205 of 515) |########              | Elapsed Time: 0:09:17 ETA:   0:03:05"
     ]
    },
    {
     "name": "stdout",
     "output_type": "stream",
     "text": [
      "[-9223372036854775808 -9223372036854775808]\n"
     ]
    },
    {
     "name": "stderr",
     "output_type": "stream",
     "text": [
      "\r",
      "                                                                               \r",
      "\r",
      " 40% (206 of 515) |########              | Elapsed Time: 0:09:18 ETA:   0:03:00"
     ]
    },
    {
     "name": "stdout",
     "output_type": "stream",
     "text": [
      "[-9223372036854775808 -9223372036854775808]\n"
     ]
    },
    {
     "name": "stderr",
     "output_type": "stream",
     "text": [
      " 40% (209 of 515) |########              | Elapsed Time: 0:09:21 ETA:   0:06:31"
     ]
    },
    {
     "name": "stdout",
     "output_type": "stream",
     "text": [
      "[-9223372036854775808 -9223372036854775808]\n",
      "[-9223372036854775808 -9223372036854775808]\n",
      "[-9223372036854775808 -9223372036854775808]\n"
     ]
    },
    {
     "name": "stderr",
     "output_type": "stream",
     "text": [
      " 40% (211 of 515) |#########             | Elapsed Time: 0:09:23 ETA:   0:05:16"
     ]
    },
    {
     "name": "stdout",
     "output_type": "stream",
     "text": [
      "[-9223372036854775808 -9223372036854775808]\n",
      "[-9223372036854775808 -9223372036854775808]\n"
     ]
    },
    {
     "name": "stderr",
     "output_type": "stream",
     "text": [
      "\r",
      "                                                                               \r",
      "\r",
      " 41% (212 of 515) |#########             | Elapsed Time: 0:09:27 ETA:   0:19:21"
     ]
    },
    {
     "name": "stdout",
     "output_type": "stream",
     "text": [
      "[-9223372036854775808 -9223372036854775808]\n",
      "[-9223372036854775808 -9223372036854775808]\n"
     ]
    },
    {
     "name": "stderr",
     "output_type": "stream",
     "text": [
      "\r",
      "                                                                               \r",
      "\r",
      " 41% (214 of 515) |#########             | Elapsed Time: 0:09:27 ETA:   0:06:56"
     ]
    },
    {
     "name": "stdout",
     "output_type": "stream",
     "text": [
      "[-9223372036854775808 -9223372036854775808]\n"
     ]
    },
    {
     "name": "stderr",
     "output_type": "stream",
     "text": [
      "\r",
      "                                                                               \r",
      "\r",
      " 41% (215 of 515) |#########             | Elapsed Time: 0:09:28 ETA:   0:06:38"
     ]
    },
    {
     "name": "stdout",
     "output_type": "stream",
     "text": [
      "[-9223372036854775808 -9223372036854775808]\n",
      "[-9223372036854775808 -9223372036854775808]\n",
      "[-9223372036854775808 -9223372036854775808]\n"
     ]
    },
    {
     "name": "stderr",
     "output_type": "stream",
     "text": [
      "\r",
      "                                                                               \r",
      "\r",
      " 42% (218 of 515) |#########             | Elapsed Time: 0:09:32 ETA:   0:06:24"
     ]
    },
    {
     "name": "stdout",
     "output_type": "stream",
     "text": [
      "[-9223372036854775808 -9223372036854775808]\n",
      "[-9223372036854775808 -9223372036854775808]\n"
     ]
    },
    {
     "name": "stderr",
     "output_type": "stream",
     "text": [
      " 43% (222 of 515) |#########             | Elapsed Time: 0:09:36 ETA:   0:09:29"
     ]
    },
    {
     "name": "stdout",
     "output_type": "stream",
     "text": [
      "[-9223372036854775808 -9223372036854775808]\n",
      "[-9223372036854775808 -9223372036854775808]\n",
      "[-9223372036854775808 -9223372036854775808]\n",
      "[-9223372036854775808 -9223372036854775808]\n"
     ]
    },
    {
     "name": "stderr",
     "output_type": "stream",
     "text": [
      "\r",
      "                                                                               \r",
      "\r",
      " 43% (224 of 515) |#########             | Elapsed Time: 0:09:36 ETA:   0:03:20"
     ]
    },
    {
     "name": "stdout",
     "output_type": "stream",
     "text": [
      "[-9223372036854775808 -9223372036854775808]\n"
     ]
    },
    {
     "name": "stderr",
     "output_type": "stream",
     "text": [
      "\r",
      "                                                                               \r",
      "\r",
      " 43% (225 of 515) |#########             | Elapsed Time: 0:09:40 ETA:   0:18:26"
     ]
    },
    {
     "name": "stdout",
     "output_type": "stream",
     "text": [
      "[-9223372036854775808 -9223372036854775808]\n",
      "[-9223372036854775808 -9223372036854775808]\n"
     ]
    },
    {
     "name": "stderr",
     "output_type": "stream",
     "text": [
      "\r",
      "                                                                               \r",
      "\r",
      " 44% (227 of 515) |#########             | Elapsed Time: 0:09:41 ETA:   0:07:20"
     ]
    },
    {
     "name": "stdout",
     "output_type": "stream",
     "text": [
      "[-9223372036854775808 -9223372036854775808]\n"
     ]
    },
    {
     "name": "stderr",
     "output_type": "stream",
     "text": [
      "\r",
      "                                                                               \r",
      "\r",
      " 44% (228 of 515) |#########             | Elapsed Time: 0:09:42 ETA:   0:03:26"
     ]
    },
    {
     "name": "stdout",
     "output_type": "stream",
     "text": [
      "[-9223372036854775808 -9223372036854775808]\n"
     ]
    },
    {
     "name": "stderr",
     "output_type": "stream",
     "text": [
      "\r",
      "                                                                               \r",
      "\r",
      " 44% (229 of 515) |#########             | Elapsed Time: 0:09:46 ETA:   0:18:02"
     ]
    },
    {
     "name": "stdout",
     "output_type": "stream",
     "text": [
      "[-9223372036854775808 -9223372036854775808]\n"
     ]
    },
    {
     "name": "stderr",
     "output_type": "stream",
     "text": [
      " 45% (232 of 515) |#########             | Elapsed Time: 0:09:46 ETA:   0:05:07"
     ]
    },
    {
     "name": "stdout",
     "output_type": "stream",
     "text": [
      "[-9223372036854775808 -9223372036854775808]\n",
      "[-9223372036854775808 -9223372036854775808]\n",
      "[-9223372036854775808 -9223372036854775808]\n",
      "[-9223372036854775808 -9223372036854775808]\n",
      "[-9223372036854775808 -9223372036854775808]\n"
     ]
    },
    {
     "name": "stderr",
     "output_type": "stream",
     "text": [
      " 45% (236 of 515) |##########            | Elapsed Time: 0:09:47 ETA:   0:03:08"
     ]
    },
    {
     "name": "stdout",
     "output_type": "stream",
     "text": [
      "[-9223372036854775808 -9223372036854775808]\n",
      "[-9223372036854775808 -9223372036854775808]\n",
      "[-9223372036854775808 -9223372036854775808]\n"
     ]
    },
    {
     "name": "stderr",
     "output_type": "stream",
     "text": [
      "\r",
      "                                                                               \r",
      "\r",
      " 46% (239 of 515) |##########            | Elapsed Time: 0:09:48 ETA:   0:02:19"
     ]
    },
    {
     "name": "stdout",
     "output_type": "stream",
     "text": [
      "[-9223372036854775808 -9223372036854775808]\n",
      "[-9223372036854775808 -9223372036854775808]\n"
     ]
    },
    {
     "name": "stderr",
     "output_type": "stream",
     "text": [
      "\r",
      "                                                                               \r",
      "\r",
      " 46% (240 of 515) |##########            | Elapsed Time: 0:09:49 ETA:   0:01:15"
     ]
    },
    {
     "name": "stdout",
     "output_type": "stream",
     "text": [
      "[-9223372036854775808 -9223372036854775808]\n",
      "[-9223372036854775808 -9223372036854775808]\n",
      "[-9223372036854775808 -9223372036854775808]\n"
     ]
    },
    {
     "name": "stderr",
     "output_type": "stream",
     "text": [
      "\r",
      "                                                                               \r",
      "\r",
      " 47% (243 of 515) |##########            | Elapsed Time: 0:09:52 ETA:   0:05:39"
     ]
    },
    {
     "name": "stdout",
     "output_type": "stream",
     "text": [
      "[-9223372036854775808 -9223372036854775808]\n",
      "[-9223372036854775808 -9223372036854775808]\n"
     ]
    },
    {
     "name": "stderr",
     "output_type": "stream",
     "text": [
      " 48% (248 of 515) |##########            | Elapsed Time: 0:09:54 ETA:   0:02:54"
     ]
    },
    {
     "name": "stdout",
     "output_type": "stream",
     "text": [
      "[-9223372036854775808 -9223372036854775808]\n",
      "[-9223372036854775808 -9223372036854775808]\n",
      "[-9223372036854775808 -9223372036854775808]\n",
      "[-9223372036854775808 -9223372036854775808]\n",
      "[-9223372036854775808 -9223372036854775808]\n",
      "[-9223372036854775808 -9223372036854775808]\n"
     ]
    },
    {
     "name": "stderr",
     "output_type": "stream",
     "text": [
      " 49% (254 of 515) |##########            | Elapsed Time: 0:09:54 ETA:   0:01:41"
     ]
    },
    {
     "name": "stdout",
     "output_type": "stream",
     "text": [
      "[-9223372036854775808 -9223372036854775808]\n",
      "[-9223372036854775808 -9223372036854775808]\n",
      "[-9223372036854775808 -9223372036854775808]\n",
      "[-9223372036854775808 -9223372036854775808]\n",
      "[-9223372036854775808 -9223372036854775808]\n",
      "[-9223372036854775808 -9223372036854775808]\n",
      "[-9223372036854775808 -9223372036854775808]\n"
     ]
    },
    {
     "name": "stderr",
     "output_type": "stream",
     "text": [
      " 51% (264 of 515) |###########           | Elapsed Time: 0:09:54 ETA:   0:00:24"
     ]
    },
    {
     "name": "stdout",
     "output_type": "stream",
     "text": [
      "[-9223372036854775808 -9223372036854775808]\n",
      "[-9223372036854775808 -9223372036854775808]\n",
      "[-9223372036854775808 -9223372036854775808]\n",
      "[-9223372036854775808 -9223372036854775808]\n",
      "[-9223372036854775808 -9223372036854775808]\n",
      "[-9223372036854775808 -9223372036854775808]\n",
      "[-9223372036854775808 -9223372036854775808]\n",
      "[-9223372036854775808 -9223372036854775808]\n"
     ]
    },
    {
     "name": "stderr",
     "output_type": "stream",
     "text": [
      "\r",
      "                                                                               \r",
      "\r",
      " 52% (268 of 515) |###########           | Elapsed Time: 0:09:55 ETA:   0:00:22"
     ]
    },
    {
     "name": "stdout",
     "output_type": "stream",
     "text": [
      "[-9223372036854775808 -9223372036854775808]\n",
      "[-9223372036854775808 -9223372036854775808]\n",
      "[-9223372036854775808 -9223372036854775808]\n",
      "[-9223372036854775808 -9223372036854775808]\n",
      "[-9223372036854775808 -9223372036854775808]\n"
     ]
    },
    {
     "name": "stderr",
     "output_type": "stream",
     "text": [
      " 53% (278 of 515) |###########           | Elapsed Time: 0:09:55 ETA:   0:00:16"
     ]
    },
    {
     "name": "stdout",
     "output_type": "stream",
     "text": [
      "[-9223372036854775808 -9223372036854775808]\n",
      "[-9223372036854775808 -9223372036854775808]\n",
      "[-9223372036854775808 -9223372036854775808]\n",
      "[-9223372036854775808 -9223372036854775808]\n",
      "[-9223372036854775808 -9223372036854775808]\n",
      "[-9223372036854775808 -9223372036854775808]\n",
      "[-9223372036854775808 -9223372036854775808]\n",
      "[-9223372036854775808 -9223372036854775808]\n",
      "[-9223372036854775808 -9223372036854775808]\n"
     ]
    },
    {
     "name": "stderr",
     "output_type": "stream",
     "text": [
      "\r",
      "                                                                               \r",
      "\r",
      " 54% (280 of 515) |###########           | Elapsed Time: 0:09:56 ETA:   0:00:17"
     ]
    },
    {
     "name": "stdout",
     "output_type": "stream",
     "text": [
      "[-9223372036854775808 -9223372036854775808]\n",
      "[193399 229080]\n"
     ]
    },
    {
     "name": "stderr",
     "output_type": "stream",
     "text": [
      "\r",
      "                                                                               \r",
      "\r",
      " 54% (282 of 515) |############          | Elapsed Time: 0:18:12 ETA:  16:02:08"
     ]
    },
    {
     "name": "stdout",
     "output_type": "stream",
     "text": [
      "[229080 246041]\n"
     ]
    },
    {
     "name": "stderr",
     "output_type": "stream",
     "text": [
      "\r",
      "                                                                               \r",
      "\r",
      " 54% (283 of 515) |########       | Elapsed Time: 0:43:45 ETA:  4 days, 2:48:22"
     ]
    },
    {
     "name": "stdout",
     "output_type": "stream",
     "text": [
      "[246041 250423]\n"
     ]
    },
    {
     "name": "stderr",
     "output_type": "stream",
     "text": [
      "\r",
      "                                                                               \r",
      "\r",
      " 55% (284 of 515) |############          | Elapsed Time: 0:44:08 ETA:   1:28:36"
     ]
    },
    {
     "name": "stdout",
     "output_type": "stream",
     "text": [
      "[250423 254002]\n"
     ]
    },
    {
     "name": "stderr",
     "output_type": "stream",
     "text": [
      "\r",
      "                                                                               \r",
      "\r",
      " 55% (285 of 515) |############          | Elapsed Time: 0:44:23 ETA:   1:00:15"
     ]
    },
    {
     "name": "stdout",
     "output_type": "stream",
     "text": [
      "[254002 261427]\n"
     ]
    },
    {
     "name": "stderr",
     "output_type": "stream",
     "text": [
      "\r",
      "                                                                               \r",
      "\r",
      " 55% (286 of 515) |############          | Elapsed Time: 0:44:57 ETA:   2:06:28"
     ]
    },
    {
     "name": "stdout",
     "output_type": "stream",
     "text": [
      "[261427 261429]\n"
     ]
    },
    {
     "name": "stderr",
     "output_type": "stream",
     "text": [
      "\r",
      "                                                                               \r",
      "\r",
      " 55% (287 of 515) |############          | Elapsed Time: 0:45:02 ETA:   0:19:53"
     ]
    },
    {
     "name": "stdout",
     "output_type": "stream",
     "text": [
      "[261429 261505]\n"
     ]
    },
    {
     "name": "stderr",
     "output_type": "stream",
     "text": [
      "\r",
      "                                                                               \r",
      "\r",
      " 55% (288 of 515) |############          | Elapsed Time: 0:45:14 ETA:   0:46:44"
     ]
    },
    {
     "name": "stdout",
     "output_type": "stream",
     "text": [
      "[261505 261755]\n"
     ]
    },
    {
     "name": "stderr",
     "output_type": "stream",
     "text": [
      "\r",
      "                                                                               \r",
      "\r",
      " 56% (289 of 515) |############          | Elapsed Time: 0:45:22 ETA:   0:28:15"
     ]
    },
    {
     "name": "stdout",
     "output_type": "stream",
     "text": [
      "[261755 262315]\n"
     ]
    },
    {
     "name": "stderr",
     "output_type": "stream",
     "text": [
      "\r",
      "                                                                               \r",
      "\r",
      " 56% (290 of 515) |############          | Elapsed Time: 0:45:31 ETA:   0:36:38"
     ]
    },
    {
     "name": "stdout",
     "output_type": "stream",
     "text": [
      "[262315 262462]\n"
     ]
    },
    {
     "name": "stderr",
     "output_type": "stream",
     "text": [
      "\r",
      "                                                                               \r",
      "\r",
      " 56% (291 of 515) |############          | Elapsed Time: 0:45:36 ETA:   0:16:21"
     ]
    },
    {
     "name": "stdout",
     "output_type": "stream",
     "text": [
      "[262462 262738]\n"
     ]
    },
    {
     "name": "stderr",
     "output_type": "stream",
     "text": [
      "\r",
      "                                                                               \r",
      "\r",
      " 56% (292 of 515) |############          | Elapsed Time: 0:45:44 ETA:   0:30:27"
     ]
    },
    {
     "name": "stdout",
     "output_type": "stream",
     "text": [
      "[262738 262794]\n"
     ]
    },
    {
     "name": "stderr",
     "output_type": "stream",
     "text": [
      "\r",
      "                                                                               \r",
      "\r",
      " 56% (293 of 515) |############          | Elapsed Time: 0:45:49 ETA:   0:17:02"
     ]
    },
    {
     "name": "stdout",
     "output_type": "stream",
     "text": [
      "[262794 263030]\n"
     ]
    },
    {
     "name": "stderr",
     "output_type": "stream",
     "text": [
      "\r",
      "                                                                               \r",
      "\r",
      " 57% (294 of 515) |############          | Elapsed Time: 0:45:53 ETA:   0:16:05"
     ]
    },
    {
     "name": "stdout",
     "output_type": "stream",
     "text": [
      "[-9223372036854775808 -9223372036854775808]\n"
     ]
    },
    {
     "name": "stderr",
     "output_type": "stream",
     "text": [
      "\r",
      "                                                                               \r",
      "\r",
      " 57% (295 of 515) |############          | Elapsed Time: 0:45:58 ETA:   0:19:22"
     ]
    },
    {
     "name": "stdout",
     "output_type": "stream",
     "text": [
      "[-9223372036854775808 -9223372036854775808]\n"
     ]
    },
    {
     "name": "stderr",
     "output_type": "stream",
     "text": [
      "\r",
      "                                                                               \r",
      "\r",
      " 57% (296 of 515) |############          | Elapsed Time: 0:46:07 ETA:   0:30:31"
     ]
    },
    {
     "name": "stdout",
     "output_type": "stream",
     "text": [
      "[-9223372036854775808 -9223372036854775808]\n"
     ]
    },
    {
     "name": "stderr",
     "output_type": "stream",
     "text": [
      "\r",
      "                                                                               \r",
      "\r",
      " 57% (297 of 515) |############          | Elapsed Time: 0:46:11 ETA:   0:15:33"
     ]
    },
    {
     "name": "stdout",
     "output_type": "stream",
     "text": [
      "[-9223372036854775808 -9223372036854775808]\n"
     ]
    },
    {
     "name": "stderr",
     "output_type": "stream",
     "text": [
      "\r",
      "                                                                               \r",
      "\r",
      " 57% (298 of 515) |############          | Elapsed Time: 0:46:15 ETA:   0:13:49"
     ]
    },
    {
     "name": "stdout",
     "output_type": "stream",
     "text": [
      "[-9223372036854775808 -9223372036854775808]\n"
     ]
    },
    {
     "name": "stderr",
     "output_type": "stream",
     "text": [
      "\r",
      "                                                                               \r",
      "\r",
      " 58% (299 of 515) |############          | Elapsed Time: 0:46:19 ETA:   0:14:06"
     ]
    },
    {
     "name": "stdout",
     "output_type": "stream",
     "text": [
      "[-9223372036854775808 -9223372036854775808]\n"
     ]
    },
    {
     "name": "stderr",
     "output_type": "stream",
     "text": [
      "\r",
      "                                                                               \r",
      "\r",
      " 58% (300 of 515) |############          | Elapsed Time: 0:46:23 ETA:   0:13:54"
     ]
    },
    {
     "name": "stdout",
     "output_type": "stream",
     "text": [
      "[-9223372036854775808 -9223372036854775808]\n"
     ]
    },
    {
     "name": "stderr",
     "output_type": "stream",
     "text": [
      "\r",
      "                                                                               \r",
      "\r",
      " 58% (301 of 515) |############          | Elapsed Time: 0:46:27 ETA:   0:15:01"
     ]
    },
    {
     "name": "stdout",
     "output_type": "stream",
     "text": [
      "[-9223372036854775808 -9223372036854775808]\n"
     ]
    },
    {
     "name": "stderr",
     "output_type": "stream",
     "text": [
      "\r",
      "                                                                               \r",
      "\r",
      " 58% (302 of 515) |############          | Elapsed Time: 0:46:30 ETA:   0:12:20"
     ]
    },
    {
     "name": "stdout",
     "output_type": "stream",
     "text": [
      "[-9223372036854775808 -9223372036854775808]\n"
     ]
    },
    {
     "name": "stderr",
     "output_type": "stream",
     "text": [
      "\r",
      "                                                                               \r",
      "\r",
      " 58% (303 of 515) |############          | Elapsed Time: 0:46:34 ETA:   0:13:44"
     ]
    },
    {
     "name": "stdout",
     "output_type": "stream",
     "text": [
      "[-9223372036854775808 -9223372036854775808]\n"
     ]
    },
    {
     "name": "stderr",
     "output_type": "stream",
     "text": [
      " 59% (305 of 515) |#############         | Elapsed Time: 0:46:38 ETA:   0:06:55"
     ]
    },
    {
     "name": "stdout",
     "output_type": "stream",
     "text": [
      "[-9223372036854775808 -9223372036854775808]\n"
     ]
    },
    {
     "name": "stderr",
     "output_type": "stream",
     "text": [
      "\r",
      "                                                                               \r",
      "\r",
      " 59% (306 of 515) |#############         | Elapsed Time: 0:46:39 ETA:   0:05:22"
     ]
    },
    {
     "name": "stdout",
     "output_type": "stream",
     "text": [
      "[-9223372036854775808 -9223372036854775808]\n",
      "[-9223372036854775808 -9223372036854775808]\n"
     ]
    },
    {
     "name": "stderr",
     "output_type": "stream",
     "text": [
      "\r",
      "                                                                               \r",
      "\r",
      " 59% (307 of 515) |#############         | Elapsed Time: 0:46:42 ETA:   0:12:10"
     ]
    },
    {
     "name": "stdout",
     "output_type": "stream",
     "text": [
      "[-9223372036854775808 -9223372036854775808]\n"
     ]
    },
    {
     "name": "stderr",
     "output_type": "stream",
     "text": [
      "\r",
      "                                                                               \r",
      "\r",
      " 59% (308 of 515) |#############         | Elapsed Time: 0:46:46 ETA:   0:12:41"
     ]
    },
    {
     "name": "stdout",
     "output_type": "stream",
     "text": [
      "[-9223372036854775808 -9223372036854775808]\n"
     ]
    },
    {
     "name": "stderr",
     "output_type": "stream",
     "text": [
      "\r",
      "                                                                               \r",
      "\r",
      " 60% (309 of 515) |#############         | Elapsed Time: 0:46:47 ETA:   0:08:02"
     ]
    },
    {
     "name": "stdout",
     "output_type": "stream",
     "text": [
      "[-9223372036854775808 -9223372036854775808]\n"
     ]
    },
    {
     "name": "stderr",
     "output_type": "stream",
     "text": [
      "\r",
      "                                                                               \r",
      "\r",
      " 60% (310 of 515) |#############         | Elapsed Time: 0:46:48 ETA:   0:06:07"
     ]
    },
    {
     "name": "stdout",
     "output_type": "stream",
     "text": [
      "[-9223372036854775808 -9223372036854775808]\n"
     ]
    },
    {
     "name": "stderr",
     "output_type": "stream",
     "text": [
      " 60% (312 of 515) |#############         | Elapsed Time: 0:46:52 ETA:   0:06:50"
     ]
    },
    {
     "name": "stdout",
     "output_type": "stream",
     "text": [
      "[-9223372036854775808 -9223372036854775808]\n",
      "[-9223372036854775808 -9223372036854775808]\n"
     ]
    },
    {
     "name": "stderr",
     "output_type": "stream",
     "text": [
      "\r",
      "                                                                               \r",
      "\r",
      " 60% (313 of 515) |#############         | Elapsed Time: 0:46:52 ETA:   0:05:23"
     ]
    },
    {
     "name": "stdout",
     "output_type": "stream",
     "text": [
      "[-9223372036854775808 -9223372036854775808]\n"
     ]
    },
    {
     "name": "stderr",
     "output_type": "stream",
     "text": [
      "\r",
      "                                                                               \r",
      "\r",
      " 60% (314 of 515) |#############         | Elapsed Time: 0:46:56 ETA:   0:12:28"
     ]
    },
    {
     "name": "stdout",
     "output_type": "stream",
     "text": [
      "[-9223372036854775808 -9223372036854775808]\n"
     ]
    },
    {
     "name": "stderr",
     "output_type": "stream",
     "text": [
      "\r",
      "                                                                               \r",
      "\r",
      " 61% (315 of 515) |#############         | Elapsed Time: 0:46:57 ETA:   0:07:02"
     ]
    },
    {
     "name": "stdout",
     "output_type": "stream",
     "text": [
      "[-9223372036854775808 -9223372036854775808]\n"
     ]
    },
    {
     "name": "stderr",
     "output_type": "stream",
     "text": [
      " 61% (317 of 515) |#############         | Elapsed Time: 0:46:58 ETA:   0:02:12"
     ]
    },
    {
     "name": "stdout",
     "output_type": "stream",
     "text": [
      "[-9223372036854775808 -9223372036854775808]\n",
      "[-9223372036854775808 -9223372036854775808]\n"
     ]
    },
    {
     "name": "stderr",
     "output_type": "stream",
     "text": [
      "\r",
      "                                                                               \r",
      "\r",
      " 61% (318 of 515) |#############         | Elapsed Time: 0:47:02 ETA:   0:13:58"
     ]
    },
    {
     "name": "stdout",
     "output_type": "stream",
     "text": [
      "[-9223372036854775808 -9223372036854775808]\n"
     ]
    },
    {
     "name": "stderr",
     "output_type": "stream",
     "text": [
      "\r",
      "                                                                               \r",
      "\r",
      " 61% (319 of 515) |#############         | Elapsed Time: 0:47:06 ETA:   0:12:26"
     ]
    },
    {
     "name": "stdout",
     "output_type": "stream",
     "text": [
      "[-9223372036854775808 -9223372036854775808]\n"
     ]
    },
    {
     "name": "stderr",
     "output_type": "stream",
     "text": [
      "\r",
      "                                                                               \r",
      "\r",
      " 62% (320 of 515) |#############         | Elapsed Time: 0:47:10 ETA:   0:12:20"
     ]
    },
    {
     "name": "stdout",
     "output_type": "stream",
     "text": [
      "[-9223372036854775808 -9223372036854775808]\n"
     ]
    },
    {
     "name": "stderr",
     "output_type": "stream",
     "text": [
      "\r",
      "                                                                               \r",
      "\r",
      " 62% (321 of 515) |#############         | Elapsed Time: 0:47:14 ETA:   0:13:14"
     ]
    },
    {
     "name": "stdout",
     "output_type": "stream",
     "text": [
      "[-9223372036854775808 -9223372036854775808]\n"
     ]
    },
    {
     "name": "stderr",
     "output_type": "stream",
     "text": [
      "\r",
      "                                                                               \r",
      "\r",
      " 62% (322 of 515) |#############         | Elapsed Time: 0:47:18 ETA:   0:12:19"
     ]
    },
    {
     "name": "stdout",
     "output_type": "stream",
     "text": [
      "[-9223372036854775808 -9223372036854775808]\n"
     ]
    },
    {
     "name": "stderr",
     "output_type": "stream",
     "text": [
      "\r",
      "                                                                               \r",
      "\r",
      " 62% (323 of 515) |#############         | Elapsed Time: 0:47:22 ETA:   0:12:11"
     ]
    },
    {
     "name": "stdout",
     "output_type": "stream",
     "text": [
      "[-9223372036854775808 -9223372036854775808]\n"
     ]
    },
    {
     "name": "stderr",
     "output_type": "stream",
     "text": [
      "\r",
      "                                                                               \r",
      "\r",
      " 62% (324 of 515) |#############         | Elapsed Time: 0:47:26 ETA:   0:12:11"
     ]
    },
    {
     "name": "stdout",
     "output_type": "stream",
     "text": [
      "[-9223372036854775808 -9223372036854775808]\n"
     ]
    },
    {
     "name": "stderr",
     "output_type": "stream",
     "text": [
      "\r",
      "                                                                               \r",
      "\r",
      " 63% (325 of 515) |#############         | Elapsed Time: 0:47:26 ETA:   0:07:23"
     ]
    },
    {
     "name": "stdout",
     "output_type": "stream",
     "text": [
      "[-9223372036854775808 -9223372036854775808]\n"
     ]
    },
    {
     "name": "stderr",
     "output_type": "stream",
     "text": [
      "\r",
      "                                                                               \r",
      "\r",
      " 63% (326 of 515) |#############         | Elapsed Time: 0:47:27 ETA:   0:05:55"
     ]
    },
    {
     "name": "stdout",
     "output_type": "stream",
     "text": [
      "[-9223372036854775808 -9223372036854775808]\n"
     ]
    },
    {
     "name": "stderr",
     "output_type": "stream",
     "text": [
      " 63% (328 of 515) |##############        | Elapsed Time: 0:47:31 ETA:   0:06:17"
     ]
    },
    {
     "name": "stdout",
     "output_type": "stream",
     "text": [
      "[-9223372036854775808 -9223372036854775808]\n",
      "[-9223372036854775808 -9223372036854775808]\n"
     ]
    },
    {
     "name": "stderr",
     "output_type": "stream",
     "text": [
      "\r",
      "                                                                               \r",
      "\r",
      " 63% (329 of 515) |##############        | Elapsed Time: 0:47:32 ETA:   0:04:33"
     ]
    },
    {
     "name": "stdout",
     "output_type": "stream",
     "text": [
      "[-9223372036854775808 -9223372036854775808]\n"
     ]
    },
    {
     "name": "stderr",
     "output_type": "stream",
     "text": [
      "\r",
      "                                                                               \r",
      "\r",
      " 64% (330 of 515) |##############        | Elapsed Time: 0:47:33 ETA:   0:04:01"
     ]
    },
    {
     "name": "stdout",
     "output_type": "stream",
     "text": [
      "[-9223372036854775808 -9223372036854775808]\n"
     ]
    },
    {
     "name": "stderr",
     "output_type": "stream",
     "text": [
      "\r",
      "                                                                               \r",
      "\r",
      " 64% (331 of 515) |##############        | Elapsed Time: 0:47:36 ETA:   0:11:27"
     ]
    },
    {
     "name": "stdout",
     "output_type": "stream",
     "text": [
      "[-9223372036854775808 -9223372036854775808]\n"
     ]
    },
    {
     "name": "stderr",
     "output_type": "stream",
     "text": [
      " 64% (333 of 515) |##############        | Elapsed Time: 0:47:40 ETA:   0:06:00"
     ]
    },
    {
     "name": "stdout",
     "output_type": "stream",
     "text": [
      "[-9223372036854775808 -9223372036854775808]\n",
      "[-9223372036854775808 -9223372036854775808]\n"
     ]
    },
    {
     "name": "stderr",
     "output_type": "stream",
     "text": [
      "\r",
      "                                                                               \r",
      "\r",
      " 64% (334 of 515) |##############        | Elapsed Time: 0:47:44 ETA:   0:11:23"
     ]
    },
    {
     "name": "stdout",
     "output_type": "stream",
     "text": [
      "[-9223372036854775808 -9223372036854775808]\n",
      "[-9223372036854775808 -9223372036854775808]\n",
      "[-9223372036854775808 -9223372036854775808]\n"
     ]
    },
    {
     "name": "stderr",
     "output_type": "stream",
     "text": [
      "\r",
      "                                                                               \r",
      "\r",
      " 65% (337 of 515) |##############        | Elapsed Time: 0:47:45 ETA:   0:03:23"
     ]
    },
    {
     "name": "stdout",
     "output_type": "stream",
     "text": [
      "[-9223372036854775808 -9223372036854775808]\n"
     ]
    },
    {
     "name": "stderr",
     "output_type": "stream",
     "text": [
      "\r",
      "                                                                               \r",
      "\r",
      " 65% (338 of 515) |##############        | Elapsed Time: 0:47:49 ETA:   0:11:22"
     ]
    },
    {
     "name": "stdout",
     "output_type": "stream",
     "text": [
      "[-9223372036854775808 -9223372036854775808]\n"
     ]
    },
    {
     "name": "stderr",
     "output_type": "stream",
     "text": [
      "\r",
      "                                                                               \r",
      "\r",
      " 65% (339 of 515) |##############        | Elapsed Time: 0:47:50 ETA:   0:06:56"
     ]
    },
    {
     "name": "stdout",
     "output_type": "stream",
     "text": [
      "[-9223372036854775808 -9223372036854775808]\n"
     ]
    },
    {
     "name": "stderr",
     "output_type": "stream",
     "text": [
      "\r",
      "                                                                               \r",
      "\r",
      " 66% (340 of 515) |##############        | Elapsed Time: 0:47:50 ETA:   0:05:00"
     ]
    },
    {
     "name": "stdout",
     "output_type": "stream",
     "text": [
      "[-9223372036854775808 -9223372036854775808]\n"
     ]
    },
    {
     "name": "stderr",
     "output_type": "stream",
     "text": [
      "\r",
      "                                                                               \r",
      "\r",
      " 66% (341 of 515) |##############        | Elapsed Time: 0:47:54 ETA:   0:11:18"
     ]
    },
    {
     "name": "stdout",
     "output_type": "stream",
     "text": [
      "[-9223372036854775808 -9223372036854775808]\n"
     ]
    },
    {
     "name": "stderr",
     "output_type": "stream",
     "text": [
      "\r",
      "                                                                               \r",
      "\r",
      " 66% (342 of 515) |##############        | Elapsed Time: 0:47:55 ETA:   0:06:35"
     ]
    },
    {
     "name": "stdout",
     "output_type": "stream",
     "text": [
      "[-9223372036854775808 -9223372036854775808]\n"
     ]
    },
    {
     "name": "stderr",
     "output_type": "stream",
     "text": [
      "\r",
      "                                                                               \r",
      "\r",
      " 66% (343 of 515) |##############        | Elapsed Time: 0:47:55 ETA:   0:05:10"
     ]
    },
    {
     "name": "stdout",
     "output_type": "stream",
     "text": [
      "[-9223372036854775808 -9223372036854775808]\n"
     ]
    },
    {
     "name": "stderr",
     "output_type": "stream",
     "text": [
      "\r",
      "                                                                               \r",
      "\r",
      " 66% (344 of 515) |##############        | Elapsed Time: 0:47:57 ETA:   0:03:17"
     ]
    },
    {
     "name": "stdout",
     "output_type": "stream",
     "text": [
      "[-9223372036854775808 -9223372036854775808]\n"
     ]
    },
    {
     "name": "stderr",
     "output_type": "stream",
     "text": [
      "\r",
      "                                                                               \r",
      "\r",
      " 66% (345 of 515) |##############        | Elapsed Time: 0:47:58 ETA:   0:03:45"
     ]
    },
    {
     "name": "stdout",
     "output_type": "stream",
     "text": [
      "[-9223372036854775808 -9223372036854775808]\n"
     ]
    },
    {
     "name": "stderr",
     "output_type": "stream",
     "text": [
      "\r",
      "                                                                               \r",
      "\r",
      " 67% (346 of 515) |##############        | Elapsed Time: 0:47:59 ETA:   0:02:52"
     ]
    },
    {
     "name": "stdout",
     "output_type": "stream",
     "text": [
      "[-9223372036854775808 -9223372036854775808]\n",
      "[-9223372036854775808 -9223372036854775808]\n"
     ]
    },
    {
     "name": "stderr",
     "output_type": "stream",
     "text": [
      " 67% (350 of 515) |##############        | Elapsed Time: 0:47:59 ETA:   0:01:08"
     ]
    },
    {
     "name": "stdout",
     "output_type": "stream",
     "text": [
      "[-9223372036854775808 -9223372036854775808]\n",
      "[-9223372036854775808 -9223372036854775808]\n"
     ]
    },
    {
     "name": "stderr",
     "output_type": "stream",
     "text": [
      "\r",
      "                                                                               \r",
      "\r",
      " 68% (351 of 515) |##############        | Elapsed Time: 0:48:03 ETA:   0:10:17"
     ]
    },
    {
     "name": "stdout",
     "output_type": "stream",
     "text": [
      "[-9223372036854775808 -9223372036854775808]\n",
      "[-9223372036854775808 -9223372036854775808]\n"
     ]
    },
    {
     "name": "stderr",
     "output_type": "stream",
     "text": [
      "\r",
      "                                                                               \r",
      "\r",
      " 68% (352 of 515) |###############       | Elapsed Time: 0:48:05 ETA:   0:07:00"
     ]
    },
    {
     "name": "stdout",
     "output_type": "stream",
     "text": [
      "[-9223372036854775808 -9223372036854775808]\n"
     ]
    },
    {
     "name": "stderr",
     "output_type": "stream",
     "text": [
      "\r",
      "                                                                               \r",
      "\r",
      " 68% (353 of 515) |###############       | Elapsed Time: 0:48:06 ETA:   0:03:06"
     ]
    },
    {
     "name": "stdout",
     "output_type": "stream",
     "text": [
      "[-9223372036854775808 -9223372036854775808]\n"
     ]
    },
    {
     "name": "stderr",
     "output_type": "stream",
     "text": [
      "\r",
      "                                                                               \r",
      "\r",
      " 68% (354 of 515) |###############       | Elapsed Time: 0:48:09 ETA:   0:10:05"
     ]
    },
    {
     "name": "stdout",
     "output_type": "stream",
     "text": [
      "[-9223372036854775808 -9223372036854775808]\n"
     ]
    },
    {
     "name": "stderr",
     "output_type": "stream",
     "text": [
      "\r",
      "                                                                               \r",
      "\r",
      " 68% (355 of 515) |###############       | Elapsed Time: 0:48:10 ETA:   0:06:04"
     ]
    },
    {
     "name": "stdout",
     "output_type": "stream",
     "text": [
      "[-9223372036854775808 -9223372036854775808]\n"
     ]
    },
    {
     "name": "stderr",
     "output_type": "stream",
     "text": [
      " 69% (357 of 515) |###############       | Elapsed Time: 0:48:11 ETA:   0:03:47"
     ]
    },
    {
     "name": "stdout",
     "output_type": "stream",
     "text": [
      "[-9223372036854775808 -9223372036854775808]\n",
      "[-9223372036854775808 -9223372036854775808]\n"
     ]
    },
    {
     "name": "stderr",
     "output_type": "stream",
     "text": [
      "\r",
      "                                                                               \r",
      "\r",
      " 69% (358 of 515) |###############       | Elapsed Time: 0:48:12 ETA:   0:01:45"
     ]
    },
    {
     "name": "stdout",
     "output_type": "stream",
     "text": [
      "[-9223372036854775808 -9223372036854775808]\n",
      "[-9223372036854775808 -9223372036854775808]\n"
     ]
    },
    {
     "name": "stderr",
     "output_type": "stream",
     "text": [
      " 70% (362 of 515) |###############       | Elapsed Time: 0:48:13 ETA:   0:00:55"
     ]
    },
    {
     "name": "stdout",
     "output_type": "stream",
     "text": [
      "[-9223372036854775808 -9223372036854775808]\n",
      "[-9223372036854775808 -9223372036854775808]\n",
      "[-9223372036854775808 -9223372036854775808]\n"
     ]
    },
    {
     "name": "stderr",
     "output_type": "stream",
     "text": [
      "\r",
      "                                                                               \r",
      "\r",
      " 70% (363 of 515) |###############       | Elapsed Time: 0:48:13 ETA:   0:00:50"
     ]
    },
    {
     "name": "stdout",
     "output_type": "stream",
     "text": [
      "[-9223372036854775808 -9223372036854775808]\n"
     ]
    },
    {
     "name": "stderr",
     "output_type": "stream",
     "text": [
      " 71% (367 of 515) |###############       | Elapsed Time: 0:48:14 ETA:   0:00:38"
     ]
    },
    {
     "name": "stdout",
     "output_type": "stream",
     "text": [
      "[-9223372036854775808 -9223372036854775808]\n",
      "[-9223372036854775808 -9223372036854775808]\n",
      "[-9223372036854775808 -9223372036854775808]\n",
      "[-9223372036854775808 -9223372036854775808]\n",
      "[-9223372036854775808 -9223372036854775808]\n"
     ]
    },
    {
     "name": "stderr",
     "output_type": "stream",
     "text": [
      " 71% (370 of 515) |###############       | Elapsed Time: 0:48:18 ETA:   0:03:10"
     ]
    },
    {
     "name": "stdout",
     "output_type": "stream",
     "text": [
      "[-9223372036854775808 -9223372036854775808]\n",
      "[-9223372036854775808 -9223372036854775808]\n"
     ]
    },
    {
     "name": "stderr",
     "output_type": "stream",
     "text": [
      " 72% (373 of 515) |###############       | Elapsed Time: 0:48:19 ETA:   0:01:46"
     ]
    },
    {
     "name": "stdout",
     "output_type": "stream",
     "text": [
      "[-9223372036854775808 -9223372036854775808]\n",
      "[-9223372036854775808 -9223372036854775808]\n",
      "[-9223372036854775808 -9223372036854775808]\n"
     ]
    },
    {
     "name": "stderr",
     "output_type": "stream",
     "text": [
      " 73% (376 of 515) |################      | Elapsed Time: 0:48:19 ETA:   0:01:13"
     ]
    },
    {
     "name": "stdout",
     "output_type": "stream",
     "text": [
      "[-9223372036854775808 -9223372036854775808]\n",
      "[-9223372036854775808 -9223372036854775808]\n",
      "[-9223372036854775808 -9223372036854775808]\n"
     ]
    },
    {
     "name": "stderr",
     "output_type": "stream",
     "text": [
      "\r",
      "                                                                               \r",
      "\r",
      " 73% (378 of 515) |################      | Elapsed Time: 0:48:19 ETA:   0:01:00"
     ]
    },
    {
     "name": "stdout",
     "output_type": "stream",
     "text": [
      "[-9223372036854775808 -9223372036854775808]\n",
      "[-9223372036854775808 -9223372036854775808]\n"
     ]
    },
    {
     "name": "stderr",
     "output_type": "stream",
     "text": [
      "\r",
      "                                                                               \r",
      "\r",
      " 73% (379 of 515) |################      | Elapsed Time: 0:48:23 ETA:   0:08:29"
     ]
    },
    {
     "name": "stdout",
     "output_type": "stream",
     "text": [
      "[-9223372036854775808 -9223372036854775808]\n",
      "[-9223372036854775808 -9223372036854775808]\n"
     ]
    },
    {
     "name": "stderr",
     "output_type": "stream",
     "text": [
      "\r",
      "                                                                               \r",
      "\r",
      " 73% (381 of 515) |################      | Elapsed Time: 0:48:24 ETA:   0:03:45"
     ]
    },
    {
     "name": "stdout",
     "output_type": "stream",
     "text": [
      "[-9223372036854775808 -9223372036854775808]\n"
     ]
    },
    {
     "name": "stderr",
     "output_type": "stream",
     "text": [
      " 74% (384 of 515) |################      | Elapsed Time: 0:48:28 ETA:   0:02:55"
     ]
    },
    {
     "name": "stdout",
     "output_type": "stream",
     "text": [
      "[-9223372036854775808 -9223372036854775808]\n",
      "[-9223372036854775808 -9223372036854775808]\n",
      "[-9223372036854775808 -9223372036854775808]\n"
     ]
    },
    {
     "name": "stderr",
     "output_type": "stream",
     "text": [
      " 75% (388 of 515) |################      | Elapsed Time: 0:48:29 ETA:   0:01:20"
     ]
    },
    {
     "name": "stdout",
     "output_type": "stream",
     "text": [
      "[-9223372036854775808 -9223372036854775808]\n",
      "[-9223372036854775808 -9223372036854775808]\n",
      "[-9223372036854775808 -9223372036854775808]\n",
      "[-9223372036854775808 -9223372036854775808]\n"
     ]
    },
    {
     "name": "stderr",
     "output_type": "stream",
     "text": [
      "\r",
      "                                                                               \r",
      "\r",
      " 75% (389 of 515) |################      | Elapsed Time: 0:48:33 ETA:   0:08:02"
     ]
    },
    {
     "name": "stdout",
     "output_type": "stream",
     "text": [
      "[-9223372036854775808 -9223372036854775808]\n",
      "[-9223372036854775808 -9223372036854775808]\n",
      "[-9223372036854775808 -9223372036854775808]\n"
     ]
    },
    {
     "name": "stderr",
     "output_type": "stream",
     "text": [
      " 76% (395 of 515) |################      | Elapsed Time: 0:48:37 ETA:   0:01:18"
     ]
    },
    {
     "name": "stdout",
     "output_type": "stream",
     "text": [
      "[-9223372036854775808 -9223372036854775808]\n",
      "[-9223372036854775808 -9223372036854775808]\n",
      "[-9223372036854775808 -9223372036854775808]\n",
      "[-9223372036854775808 -9223372036854775808]\n"
     ]
    },
    {
     "name": "stderr",
     "output_type": "stream",
     "text": [
      " 77% (398 of 515) |#################     | Elapsed Time: 0:48:40 ETA:   0:02:32"
     ]
    },
    {
     "name": "stdout",
     "output_type": "stream",
     "text": [
      "[-9223372036854775808 -9223372036854775808]\n",
      "[-9223372036854775808 -9223372036854775808]\n",
      "[-9223372036854775808 -9223372036854775808]\n",
      "[-9223372036854775808 -9223372036854775808]\n"
     ]
    },
    {
     "name": "stderr",
     "output_type": "stream",
     "text": [
      " 78% (403 of 515) |#################     | Elapsed Time: 0:48:41 ETA:   0:00:58"
     ]
    },
    {
     "name": "stdout",
     "output_type": "stream",
     "text": [
      "[-9223372036854775808 -9223372036854775808]\n",
      "[-9223372036854775808 -9223372036854775808]\n",
      "[-9223372036854775808 -9223372036854775808]\n",
      "[-9223372036854775808 -9223372036854775808]\n"
     ]
    },
    {
     "name": "stderr",
     "output_type": "stream",
     "text": [
      " 79% (407 of 515) |#################     | Elapsed Time: 0:48:41 ETA:   0:00:39"
     ]
    },
    {
     "name": "stdout",
     "output_type": "stream",
     "text": [
      "[-9223372036854775808 -9223372036854775808]\n",
      "[-9223372036854775808 -9223372036854775808]\n",
      "[-9223372036854775808 -9223372036854775808]\n",
      "[-9223372036854775808 -9223372036854775808]\n"
     ]
    },
    {
     "name": "stderr",
     "output_type": "stream",
     "text": [
      " 79% (411 of 515) |#################     | Elapsed Time: 0:48:41 ETA:   0:00:30"
     ]
    },
    {
     "name": "stdout",
     "output_type": "stream",
     "text": [
      "[-9223372036854775808 -9223372036854775808]\n",
      "[-9223372036854775808 -9223372036854775808]\n",
      "[-9223372036854775808 -9223372036854775808]\n",
      "[-9223372036854775808 -9223372036854775808]\n"
     ]
    },
    {
     "name": "stderr",
     "output_type": "stream",
     "text": [
      " 80% (415 of 515) |#################     | Elapsed Time: 0:48:42 ETA:   0:00:26"
     ]
    },
    {
     "name": "stdout",
     "output_type": "stream",
     "text": [
      "[-9223372036854775808 -9223372036854775808]\n",
      "[-9223372036854775808 -9223372036854775808]\n",
      "[-9223372036854775808 -9223372036854775808]\n",
      "[-9223372036854775808 -9223372036854775808]\n"
     ]
    },
    {
     "name": "stderr",
     "output_type": "stream",
     "text": [
      " 81% (421 of 515) |#################     | Elapsed Time: 0:48:42 ETA:   0:00:20"
     ]
    },
    {
     "name": "stdout",
     "output_type": "stream",
     "text": [
      "[-9223372036854775808 -9223372036854775808]\n",
      "[-9223372036854775808 -9223372036854775808]\n",
      "[-9223372036854775808 -9223372036854775808]\n",
      "[-9223372036854775808 -9223372036854775808]\n",
      "[-9223372036854775808 -9223372036854775808]\n",
      "[-9223372036854775808 -9223372036854775808]\n"
     ]
    },
    {
     "name": "stderr",
     "output_type": "stream",
     "text": [
      " 82% (426 of 515) |##################    | Elapsed Time: 0:48:42 ETA:   0:00:06"
     ]
    },
    {
     "name": "stdout",
     "output_type": "stream",
     "text": [
      "[-9223372036854775808 -9223372036854775808]\n",
      "[-9223372036854775808 -9223372036854775808]\n",
      "[-9223372036854775808 -9223372036854775808]\n",
      "[-9223372036854775808 -9223372036854775808]\n",
      "[-9223372036854775808 -9223372036854775808]\n"
     ]
    },
    {
     "name": "stderr",
     "output_type": "stream",
     "text": [
      " 84% (437 of 515) |##################    | Elapsed Time: 0:48:43 ETA:   0:00:04"
     ]
    },
    {
     "name": "stdout",
     "output_type": "stream",
     "text": [
      "[-9223372036854775808 -9223372036854775808]\n",
      "[-9223372036854775808 -9223372036854775808]\n",
      "[-9223372036854775808 -9223372036854775808]\n",
      "[-9223372036854775808 -9223372036854775808]\n",
      "[-9223372036854775808 -9223372036854775808]\n",
      "[-9223372036854775808 -9223372036854775808]\n",
      "[-9223372036854775808 -9223372036854775808]\n",
      "[-9223372036854775808 -9223372036854775808]\n",
      "[-9223372036854775808 -9223372036854775808]\n",
      "[-9223372036854775808 -9223372036854775808]\n",
      "[-9223372036854775808 -9223372036854775808]\n",
      "[-9223372036854775808 -9223372036854775808]\n",
      "[-9223372036854775808 -9223372036854775808]\n"
     ]
    },
    {
     "name": "stderr",
     "output_type": "stream",
     "text": [
      "\r",
      "                                                                               \r",
      "\r",
      " 85% (440 of 515) |##################    | Elapsed Time: 0:48:44 ETA:   0:00:06"
     ]
    },
    {
     "name": "stdout",
     "output_type": "stream",
     "text": [
      "[-9223372036854775808 -9223372036854775808]\n",
      "[-9223372036854775808 -9223372036854775808]\n"
     ]
    },
    {
     "name": "stderr",
     "output_type": "stream",
     "text": [
      "\r",
      "                                                                               \r",
      "\r",
      " 85% (442 of 515) |##################    | Elapsed Time: 0:48:45 ETA:   0:00:09"
     ]
    },
    {
     "name": "stdout",
     "output_type": "stream",
     "text": [
      "[797578 798091]\n"
     ]
    },
    {
     "name": "stderr",
     "output_type": "stream",
     "text": [
      "\r",
      "                                                                               \r",
      "\r",
      " 86% (443 of 515) |##################    | Elapsed Time: 0:48:49 ETA:   0:05:00"
     ]
    },
    {
     "name": "stdout",
     "output_type": "stream",
     "text": [
      "[-9223372036854775808 -9223372036854775808]\n"
     ]
    },
    {
     "name": "stderr",
     "output_type": "stream",
     "text": [
      " 86% (446 of 515) |###################   | Elapsed Time: 0:48:50 ETA:   0:01:35"
     ]
    },
    {
     "name": "stdout",
     "output_type": "stream",
     "text": [
      "[-9223372036854775808 -9223372036854775808]\n",
      "[-9223372036854775808 -9223372036854775808]\n",
      "[827962 828350]\n"
     ]
    },
    {
     "name": "stderr",
     "output_type": "stream",
     "text": [
      "\r",
      "                                                                               \r",
      "\r",
      " 86% (447 of 515) |###################   | Elapsed Time: 0:48:55 ETA:   0:05:47"
     ]
    },
    {
     "name": "stdout",
     "output_type": "stream",
     "text": [
      "[-9223372036854775808 -9223372036854775808]\n",
      "[-9223372036854775808 -9223372036854775808]\n",
      "[-9223372036854775808 -9223372036854775808]\n"
     ]
    },
    {
     "name": "stderr",
     "output_type": "stream",
     "text": [
      "\r",
      "                                                                               \r",
      "\r",
      " 87% (450 of 515) |###################   | Elapsed Time: 0:48:59 ETA:   0:01:23"
     ]
    },
    {
     "name": "stdout",
     "output_type": "stream",
     "text": [
      "[-9223372036854775808 -9223372036854775808]\n"
     ]
    },
    {
     "name": "stderr",
     "output_type": "stream",
     "text": [
      "\r",
      "                                                                               \r",
      "\r",
      " 87% (451 of 515) |###################   | Elapsed Time: 0:49:00 ETA:   0:01:15"
     ]
    },
    {
     "name": "stdout",
     "output_type": "stream",
     "text": [
      "[-9223372036854775808 -9223372036854775808]\n"
     ]
    },
    {
     "name": "stderr",
     "output_type": "stream",
     "text": [
      "\r",
      "                                                                               \r",
      "\r",
      " 87% (452 of 515) |###################   | Elapsed Time: 0:49:01 ETA:   0:01:11"
     ]
    },
    {
     "name": "stdout",
     "output_type": "stream",
     "text": [
      "[-9223372036854775808 -9223372036854775808]\n",
      "[-9223372036854775808 -9223372036854775808]\n",
      "[857059 857286]\n"
     ]
    },
    {
     "name": "stderr",
     "output_type": "stream",
     "text": [
      " 88% (456 of 515) |###################   | Elapsed Time: 0:49:05 ETA:   0:01:07"
     ]
    },
    {
     "name": "stdout",
     "output_type": "stream",
     "text": [
      "[861342 861344]\n",
      "[861344 861345]\n"
     ]
    },
    {
     "name": "stderr",
     "output_type": "stream",
     "text": [
      " 89% (459 of 515) |###################   | Elapsed Time: 0:49:07 ETA:   0:00:45"
     ]
    },
    {
     "name": "stdout",
     "output_type": "stream",
     "text": [
      "[-9223372036854775808 -9223372036854775808]\n",
      "[-9223372036854775808 -9223372036854775808]\n",
      "[-9223372036854775808 -9223372036854775808]\n"
     ]
    },
    {
     "name": "stderr",
     "output_type": "stream",
     "text": [
      "\r",
      "                                                                               \r",
      "\r",
      " 89% (460 of 515) |###################   | Elapsed Time: 0:49:07 ETA:   0:00:22"
     ]
    },
    {
     "name": "stdout",
     "output_type": "stream",
     "text": [
      "[-9223372036854775808 -9223372036854775808]\n"
     ]
    },
    {
     "name": "stderr",
     "output_type": "stream",
     "text": [
      "\r",
      "                                                                               \r",
      "\r",
      " 89% (461 of 515) |###################   | Elapsed Time: 0:49:11 ETA:   0:03:24"
     ]
    },
    {
     "name": "stdout",
     "output_type": "stream",
     "text": [
      "[-9223372036854775808 -9223372036854775808]\n",
      "[-9223372036854775808 -9223372036854775808]\n"
     ]
    },
    {
     "name": "stderr",
     "output_type": "stream",
     "text": [
      " 90% (464 of 515) |###################   | Elapsed Time: 0:49:12 ETA:   0:00:58"
     ]
    },
    {
     "name": "stdout",
     "output_type": "stream",
     "text": [
      "[-9223372036854775808 -9223372036854775808]\n",
      "[-9223372036854775808 -9223372036854775808]\n",
      "[-9223372036854775808 -9223372036854775808]\n"
     ]
    },
    {
     "name": "stderr",
     "output_type": "stream",
     "text": [
      "\r",
      "                                                                               \r",
      "\r",
      " 90% (466 of 515) |###################   | Elapsed Time: 0:49:12 ETA:   0:00:42"
     ]
    },
    {
     "name": "stdout",
     "output_type": "stream",
     "text": [
      "[-9223372036854775808 -9223372036854775808]\n",
      "[-9223372036854775808 -9223372036854775808]\n",
      "[-9223372036854775808 -9223372036854775808]\n"
     ]
    },
    {
     "name": "stderr",
     "output_type": "stream",
     "text": [
      "\r",
      "                                                                               \r",
      "\r",
      " 91% (469 of 515) |####################  | Elapsed Time: 0:49:13 ETA:   0:00:12"
     ]
    },
    {
     "name": "stdout",
     "output_type": "stream",
     "text": [
      "[-9223372036854775808 -9223372036854775808]\n"
     ]
    },
    {
     "name": "stderr",
     "output_type": "stream",
     "text": [
      "\r",
      "                                                                               \r",
      "\r",
      " 91% (470 of 515) |####################  | Elapsed Time: 0:49:14 ETA:   0:00:15"
     ]
    },
    {
     "name": "stdout",
     "output_type": "stream",
     "text": [
      "[-9223372036854775808 -9223372036854775808]\n",
      "[-9223372036854775808 -9223372036854775808]\n"
     ]
    },
    {
     "name": "stderr",
     "output_type": "stream",
     "text": [
      " 92% (475 of 515) |####################  | Elapsed Time: 0:49:15 ETA:   0:00:10"
     ]
    },
    {
     "name": "stdout",
     "output_type": "stream",
     "text": [
      "[-9223372036854775808 -9223372036854775808]\n",
      "[-9223372036854775808 -9223372036854775808]\n",
      "[-9223372036854775808 -9223372036854775808]\n",
      "[-9223372036854775808 -9223372036854775808]\n"
     ]
    },
    {
     "name": "stderr",
     "output_type": "stream",
     "text": [
      "\r",
      "                                                                               \r",
      "\r",
      " 92% (476 of 515) |####################  | Elapsed Time: 0:49:15 ETA:   0:00:12"
     ]
    },
    {
     "name": "stdout",
     "output_type": "stream",
     "text": [
      "[-9223372036854775808 -9223372036854775808]\n",
      "[901323 901326]\n"
     ]
    },
    {
     "name": "stderr",
     "output_type": "stream",
     "text": [
      " 93% (479 of 515) |####################  | Elapsed Time: 0:49:18 ETA:   0:00:35"
     ]
    },
    {
     "name": "stdout",
     "output_type": "stream",
     "text": [
      "[-9223372036854775808 -9223372036854775808]\n",
      "[-9223372036854775808 -9223372036854775808]\n",
      "[907128 907134]\n"
     ]
    },
    {
     "name": "stderr",
     "output_type": "stream",
     "text": [
      " 93% (483 of 515) |####################  | Elapsed Time: 0:49:22 ETA:   0:00:31"
     ]
    },
    {
     "name": "stdout",
     "output_type": "stream",
     "text": [
      "[-9223372036854775808 -9223372036854775808]\n",
      "[-9223372036854775808 -9223372036854775808]\n",
      "[-9223372036854775808 -9223372036854775808]"
     ]
    },
    {
     "name": "stderr",
     "output_type": "stream",
     "text": [
      "\r",
      "                                                                               \r",
      "\r",
      " 93% (484 of 515) |####################  | Elapsed Time: 0:49:23 ETA:   0:00:25"
     ]
    },
    {
     "name": "stdout",
     "output_type": "stream",
     "text": [
      "\n",
      "[-9223372036854775808 -9223372036854775808]\n",
      "[-9223372036854775808 -9223372036854775808]\n"
     ]
    },
    {
     "name": "stderr",
     "output_type": "stream",
     "text": [
      "\r",
      "                                                                               \r",
      "\r",
      " 94% (486 of 515) |####################  | Elapsed Time: 0:49:26 ETA:   0:00:56"
     ]
    },
    {
     "name": "stdout",
     "output_type": "stream",
     "text": [
      "[-9223372036854775808 -9223372036854775808]\n",
      "[-9223372036854775808 -9223372036854775808]\n"
     ]
    },
    {
     "name": "stderr",
     "output_type": "stream",
     "text": [
      " 94% (489 of 515) |####################  | Elapsed Time: 0:49:30 ETA:   0:00:34"
     ]
    },
    {
     "name": "stdout",
     "output_type": "stream",
     "text": [
      "[-9223372036854775808 -9223372036854775808]\n",
      "[-9223372036854775808 -9223372036854775808]\n",
      "[-9223372036854775808 -9223372036854775808]\n"
     ]
    },
    {
     "name": "stderr",
     "output_type": "stream",
     "text": [
      " 95% (493 of 515) |##################### | Elapsed Time: 0:49:31 ETA:   0:00:14"
     ]
    },
    {
     "name": "stdout",
     "output_type": "stream",
     "text": [
      "[-9223372036854775808 -9223372036854775808]\n",
      "[-9223372036854775808 -9223372036854775808]\n",
      "[-9223372036854775808 -9223372036854775808]\n"
     ]
    },
    {
     "name": "stderr",
     "output_type": "stream",
     "text": [
      " 96% (496 of 515) |##################### | Elapsed Time: 0:49:31 ETA:   0:00:09"
     ]
    },
    {
     "name": "stdout",
     "output_type": "stream",
     "text": [
      "[-9223372036854775808 -9223372036854775808]\n",
      "[-9223372036854775808 -9223372036854775808]\n",
      "[-9223372036854775808 -9223372036854775808]\n"
     ]
    },
    {
     "name": "stderr",
     "output_type": "stream",
     "text": [
      " 97% (502 of 515) |##################### | Elapsed Time: 0:49:32 ETA:   0:00:04"
     ]
    },
    {
     "name": "stdout",
     "output_type": "stream",
     "text": [
      "[-9223372036854775808 -9223372036854775808]\n",
      "[-9223372036854775808 -9223372036854775808]\n",
      "[-9223372036854775808 -9223372036854775808]\n",
      "[-9223372036854775808 -9223372036854775808]\n",
      "[-9223372036854775808 -9223372036854775808]\n",
      "[-9223372036854775808 -9223372036854775808]\n",
      "[-9223372036854775808 -9223372036854775808]\n",
      "[-9223372036854775808 -9223372036854775808]\n"
     ]
    },
    {
     "name": "stderr",
     "output_type": "stream",
     "text": [
      " 99% (511 of 515) |##################### | Elapsed Time: 0:49:32 ETA:   0:00:00"
     ]
    },
    {
     "name": "stdout",
     "output_type": "stream",
     "text": [
      "[-9223372036854775808 -9223372036854775808]\n",
      "[-9223372036854775808 -9223372036854775808]\n",
      "[-9223372036854775808 -9223372036854775808]\n",
      "[-9223372036854775808 -9223372036854775808]\n",
      "[-9223372036854775808 -9223372036854775808]\n",
      "[-9223372036854775808 -9223372036854775808]\n",
      "[-9223372036854775808 -9223372036854775808]\n",
      "[-9223372036854775808 -9223372036854775808]\n",
      "[-9223372036854775808 -9223372036854775808]\n",
      "[-9223372036854775808 -9223372036854775808]\n"
     ]
    }
   ],
   "source": [
    "bar = progressbar.ProgressBar(max_value=Satellites.size)\n",
    "C = 0\n",
    "\n",
    "STATUS = []\n",
    "\n",
    "for sa, ce in zip(Satellites, Centrals):\n",
    "    Index, status = getAllLastP(sa, ce)\n",
    "    STATUS.extend(list(status))\n",
    "    C += 1\n",
    "    bar.update(C)\n",
    "    \n",
    "STATUS = np.array(STATUS)"
   ]
  },
  {
   "cell_type": "code",
   "execution_count": 13,
   "metadata": {},
   "outputs": [
    {
     "data": {
      "text/plain": [
       "([<matplotlib.axis.XTick at 0x7f1dd7b5b670>,\n",
       "  <matplotlib.axis.XTick at 0x7f1dd7b5b640>,\n",
       "  <matplotlib.axis.XTick at 0x7f1dd7b5b070>,\n",
       "  <matplotlib.axis.XTick at 0x7f1dd7ff2040>,\n",
       "  <matplotlib.axis.XTick at 0x7f1dd7ff2550>],\n",
       " <a list of 5 Text xticklabel objects>)"
      ]
     },
     "execution_count": 13,
     "metadata": {},
     "output_type": "execute_result"
    },
    {
     "data": {
      "image/png": "[encoded data removed]",
      "text/plain": [
       "<Figure size 1008x1008 with 1 Axes>"
      ]
     },
     "metadata": {
      "needs_background": "light"
     },
     "output_type": "display_data"
    }
   ],
   "source": [
    "pl.figure(figsize=(14, 14))\n",
    "\n",
    "bins = np.array([-0.5, 0.5, 1.5, 2.5, 3.5, 4.5])\n",
    "pl.hist(STATUS, bins=bins, histtype='step')\n",
    "\n",
    "pl.ylabel('Number Of Particles')\n",
    "pl.xticks((0, 1, 2, 3, 4), ('free', 'ICM', 'central', 'other galaxy', 'other group'))"
   ]
  },
  {
   "cell_type": "code",
   "execution_count": null,
   "metadata": {},
   "outputs": [],
   "source": []
  }
 ],
 "metadata": {
  "kernelspec": {
   "display_name": "Python 3",
   "language": "python",
   "name": "python3"
  },
  "language_info": {
   "codemirror_mode": {
    "name": "ipython",
    "version": 3
   },
   "file_extension": ".py",
   "mimetype": "text/x-python",
   "name": "python",
   "nbconvert_exporter": "python",
   "pygments_lexer": "ipython3",
   "version": "3.8.1"
  }
 },
 "nbformat": 4,
 "nbformat_minor": 4
}
