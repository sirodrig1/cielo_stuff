{
 "cells": [
  {
   "cell_type": "code",
   "execution_count": 1,
   "metadata": {},
   "outputs": [],
   "source": [
    "import h5py\n",
    "import pylab as pl\n",
    "import numpy as np\n",
    "import matplotlib.colors as mpc\n",
    "import networkx\n",
    "import ipyvolume as ipv\n",
    "import progressbar"
   ]
  },
  {
   "cell_type": "code",
   "execution_count": 10,
   "metadata": {},
   "outputs": [],
   "source": [
    "X = np.random.random(size=10000)*2.-1.\n",
    "Y = np.random.random(size=10000)*2.-1.\n",
    "Z = np.random.random(size=10000)*2.-1."
   ]
  },
  {
   "cell_type": "code",
   "execution_count": 11,
   "metadata": {},
   "outputs": [],
   "source": [
    "R = np.sqrt(X**2+Y**2+Z**2)"
   ]
  },
  {
   "cell_type": "code",
   "execution_count": 12,
   "metadata": {},
   "outputs": [],
   "source": [
    "i = np.where(R<1.)\n",
    "Xi, Yi, Zi, Ri = X[i], Y[i], Z[i], R[i]"
   ]
  },
  {
   "cell_type": "code",
   "execution_count": 16,
   "metadata": {},
   "outputs": [
    {
     "data": {
      "application/vnd.jupyter.widget-view+json": {
       "model_id": "59c802aab78a4d1d92838fbba20b9681",
       "version_major": 2,
       "version_minor": 0
      },
      "text/plain": [
       "VBox(children=(Figure(camera_center=[0.0, 0.0, 0.0], height=700, matrix_projection=[0.0, 0.0, 0.0, 0.0, 0.0, 0…"
      ]
     },
     "metadata": {},
     "output_type": "display_data"
    }
   ],
   "source": [
    "ipv.figure(width=700, height=700)\n",
    "\n",
    "ipv.scatter(Xi, Yi, Zi, marker='sphere', size=.75)\n",
    "\n",
    "ipv.show()"
   ]
  },
  {
   "cell_type": "code",
   "execution_count": 17,
   "metadata": {},
   "outputs": [],
   "source": [
    "cos = Xi/Ri\n",
    "acos = np.arccos(cos)"
   ]
  },
  {
   "cell_type": "code",
   "execution_count": 19,
   "metadata": {},
   "outputs": [
    {
     "data": {
      "text/plain": [
       "(array([538., 516., 523., 503., 512., 528., 552., 512., 542., 523.]),\n",
       " array([-9.99994608e-01, -8.00004027e-01, -6.00013446e-01, -4.00022865e-01,\n",
       "        -2.00032285e-01, -4.17037081e-05,  1.99948877e-01,  3.99939458e-01,\n",
       "         5.99930039e-01,  7.99920620e-01,  9.99911201e-01]),\n",
       " <a list of 10 Patch objects>)"
      ]
     },
     "execution_count": 19,
     "metadata": {},
     "output_type": "execute_result"
    },
    {
     "data": {
      "image/png": "[encoded data removed]",
      "text/plain": [
       "<Figure size 1008x504 with 2 Axes>"
      ]
     },
     "metadata": {
      "needs_background": "light"
     },
     "output_type": "display_data"
    }
   ],
   "source": [
    "pl.figure(figsize=(14, 7))\n",
    "\n",
    "pl.subplot(1,2,1)\n",
    "\n",
    "pl.hist(acos)\n",
    "\n",
    "pl.subplot(1, 2, 2)\n",
    "\n",
    "pl.hist(cos)"
   ]
  },
  {
   "cell_type": "code",
   "execution_count": 25,
   "metadata": {},
   "outputs": [
    {
     "data": {
      "text/plain": [
       "array([[0.9, 0.8, 0.7],\n",
       "       [0.6, 0.5, 0.4],\n",
       "       [0.3, 0.2, 0.1]])"
      ]
     },
     "execution_count": 25,
     "metadata": {},
     "output_type": "execute_result"
    }
   ],
   "source": [
    "a = np.array([[1, 0, 0], [0, 1, 0], [0, 0, 1]])\n",
    "b = np.array([[.9, .8, .7], [.6,.5,.4], [.3,.2,.1]])\n",
    "\n",
    "np.dot(a, b)"
   ]
  },
  {
   "cell_type": "code",
   "execution_count": null,
   "metadata": {},
   "outputs": [],
   "source": []
  }
 ],
 "metadata": {
  "kernelspec": {
   "display_name": "Python 3",
   "language": "python",
   "name": "python3"
  },
  "language_info": {
   "codemirror_mode": {
    "name": "ipython",
    "version": 3
   },
   "file_extension": ".py",
   "mimetype": "text/x-python",
   "name": "python",
   "nbconvert_exporter": "python",
   "pygments_lexer": "ipython3",
   "version": "3.6.10"
  }
 },
 "nbformat": 4,
 "nbformat_minor": 4
}
