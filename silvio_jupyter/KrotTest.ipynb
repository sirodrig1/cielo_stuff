{
 "cells": [
  {
   "cell_type": "code",
   "execution_count": 1,
   "metadata": {},
   "outputs": [],
   "source": [
    "import h5py\n",
    "import pylab as pl\n",
    "import numpy as np\n",
    "import scipy.stats as sp\n",
    "import matplotlib as mpl\n",
    "import networkx\n",
    "import progressbar\n",
    "import astropy.cosmology as apc\n",
    "import matplotlib.colors as mpc"
   ]
  },
  {
   "cell_type": "code",
   "execution_count": 2,
   "metadata": {},
   "outputs": [],
   "source": [
    "pl.rc('font', size = 20)\n",
    "pl.rc('legend', fontsize = 20)\n",
    "sim = h5py.File('/disk1/data1-casona/data1/cielo/simulations/LG1/LG1.hdf5', 'r')\n",
    "trees = networkx.read_multiline_adjlist('/disk1/data1-casona/data1/cielo/simulations/LG1/LG1_tree.dat')"
   ]
  },
  {
   "cell_type": "code",
   "execution_count": 3,
   "metadata": {},
   "outputs": [
    {
     "data": {
      "text/plain": [
       "<KeysViewHDF5 ['GroupCM', 'GroupLen', 'GroupLenType', 'GroupMassType', 'GroupNsubs', 'GroupNumber', 'GroupSFR', 'Group_M_Crit200', 'Group_M_Mean200', 'Group_M_TopHat200', 'Group_R_Crit200', 'Group_R_Mean200', 'Group_R_TopHat200', 'PartType0', 'PartType1', 'PartType4', 'PartType5', 'SnapNumber']>"
      ]
     },
     "execution_count": 3,
     "metadata": {},
     "output_type": "execute_result"
    }
   ],
   "source": [
    "sim['SnapNumber_128/Groups/'].keys()"
   ]
  },
  {
   "cell_type": "code",
   "execution_count": 4,
   "metadata": {},
   "outputs": [],
   "source": [
    "def get_KrotOverK(ff):\n",
    "    Soff = sim['SnapNumber_128/SubGroups/PartType4/Offsets'][ff].astype('int')\n",
    "    cen = sim['SnapNumber_128/SubGroups/SubGroupPos'][ff]\n",
    "    cenVel = sim['SnapNumber_128/SubGroups/SubGroupVel'][ff]\n",
    "\n",
    "    Js = sim['SnapNumber_128/PartType4/SpecificAngularMomentum'][Soff[0]:Soff[1]]\n",
    "    \n",
    "    RotMass = sim['SnapNumber_128/SubGroups/PartType4/RotationMatrix'][ff]\n",
    "    \n",
    "    PosNow = sim['SnapNumber_128/PartType4/Coordinates'][Soff[0]:Soff[1]]\n",
    "    VelNow = sim['SnapNumber_128/PartType4/Velocities'][Soff[0]:Soff[1]]\n",
    "\n",
    "    posnow = np.array([PosNow[:,0]-cen[0], PosNow[:,1]-cen[1], PosNow[:,2]-cen[2]]).T\n",
    "    velnow = np.array([VelNow[:,0]-cenVel[0], VelNow[:,1]-cenVel[1], VelNow[:,2]-cenVel[2]]).T\n",
    "    masses = sim['SnapNumber_128/PartType4/Masses'][Soff[0]:Soff[1]]\n",
    "    \n",
    "    # I gonna modify this to use particles within one r_optical\n",
    "    \n",
    "#     ropt = sim['SnapNumber_128/SubGroups/OpticalRadius'][ff]\n",
    "#     rpart = np.sqrt(posnow[:,0]**2+posnow[:,1]**2+posnow[:,2]**2)\n",
    "#     i = np.where(rpart<ropt)\n",
    "    \n",
    "#     posnow = posnow[i]\n",
    "#     velnow = velnow[i]\n",
    "#     masses = masses[i]\n",
    "#     Js = Js[i]\n",
    "    \n",
    "    posRot = np.dot(RotMass, posnow.T).T\n",
    "    \n",
    "    Jz = np.array([0., 0., 1.])\n",
    "    \n",
    "    Ji = 0.\n",
    "    ip = []\n",
    "\n",
    "    ic = 0\n",
    "    for pr, jr, mm in zip(posRot, Js, masses):\n",
    "        ddot = np.dot(jr, Jz)\n",
    "        if ddot>0.:\n",
    "            rr = np.sum(pr**2.)\n",
    "            tp = ddot**2./(rr-np.dot(pr, Jz)**2.)\n",
    "            Ji += mm*tp\n",
    "            ip.append(ic)\n",
    "        ic += 1\n",
    "    \n",
    "    ip = np.array(ip)\n",
    "    \n",
    "    vel = velnow[ip]\n",
    "    v2 = vel[:,0]**2.+vel[:,1]**2.+vel[:,2]**2.\n",
    "\n",
    "    Jt = masses[ip]*v2\n",
    "    Kt = np.sum(Jt)\n",
    "    \n",
    "    return Ji/Kt"
   ]
  },
  {
   "cell_type": "code",
   "execution_count": 5,
   "metadata": {},
   "outputs": [
    {
     "data": {
      "text/plain": [
       "(0.5462862343989598,\n",
       " 0.5893988798645682,\n",
       " 0.5158089397850296,\n",
       " 0.42014226673442207)"
      ]
     },
     "execution_count": 5,
     "metadata": {},
     "output_type": "execute_result"
    }
   ],
   "source": [
    "get_KrotOverK(4338), get_KrotOverK(4339), get_KrotOverK(4341), get_KrotOverK(4343)"
   ]
  },
  {
   "cell_type": "code",
   "execution_count": 6,
   "metadata": {},
   "outputs": [
    {
     "data": {
      "text/plain": [
       "(0.62235559125455, 0.7058728647933169, 0.722205020931836, 0.7150030106675346)"
      ]
     },
     "execution_count": 6,
     "metadata": {},
     "output_type": "execute_result"
    }
   ],
   "source": [
    "get_KrotOverK(4470), get_KrotOverK(4471), get_KrotOverK(4473), get_KrotOverK(4474)"
   ]
  },
  {
   "cell_type": "code",
   "execution_count": 6,
   "metadata": {},
   "outputs": [],
   "source": [
    "import astropy.table as apt"
   ]
  },
  {
   "cell_type": "code",
   "execution_count": 7,
   "metadata": {},
   "outputs": [],
   "source": [
    "T = apt.Table.read('tabla_merger_env_REF100_Mcut1e9_referee.txt', format='ascii')\n",
    "T2 = apt.Table.read('local_density_REF100.txt', format='ascii')"
   ]
  },
  {
   "cell_type": "code",
   "execution_count": 13,
   "metadata": {},
   "outputs": [
    {
     "data": {
      "text/plain": [
       "(<Column name='col1' dtype='int64' length=7482>\n",
       "      0\n",
       "  17982\n",
       "  37654\n",
       "  48020\n",
       "  56690\n",
       "  64296\n",
       "  70677\n",
       "  77136\n",
       "  80607\n",
       "  83752\n",
       "  87056\n",
       "  89839\n",
       "    ...\n",
       " 587970\n",
       " 589511\n",
       " 591808\n",
       " 592302\n",
       " 607797\n",
       " 612755\n",
       " 613425\n",
       " 630281\n",
       " 635153\n",
       " 638994\n",
       " 665129\n",
       " 667531,\n",
       " <Column name='col2' dtype='float64' length=7482>\n",
       " 249.0\n",
       " 364.0\n",
       " 357.0\n",
       " 285.0\n",
       " 464.0\n",
       " 253.0\n",
       " 306.0\n",
       " 204.0\n",
       " 186.0\n",
       " 257.0\n",
       " 160.0\n",
       " 274.0\n",
       "   ...\n",
       "  26.0\n",
       "   5.0\n",
       "   8.0\n",
       "  14.0\n",
       "  15.0\n",
       "   5.0\n",
       "   9.0\n",
       "   5.0\n",
       "  11.0\n",
       "   9.0\n",
       "  14.0\n",
       "   2.0)"
      ]
     },
     "execution_count": 13,
     "metadata": {},
     "output_type": "execute_result"
    }
   ],
   "source": [
    "galID = T['col1']\n",
    "Ncell = T['col2']\n",
    "\n",
    "galID2 = T2['col1']\n",
    "Ncell2 = T2['col2']\n",
    "\n",
    "galID2, Ncell2"
   ]
  },
  {
   "cell_type": "code",
   "execution_count": 19,
   "metadata": {},
   "outputs": [
    {
     "data": {
      "text/plain": [
       "(1, 1)"
      ]
     },
     "execution_count": 19,
     "metadata": {},
     "output_type": "execute_result"
    }
   ],
   "source": [
    "KoK, NcellDef = [], []\n",
    "\n",
    "for g, n in zip(galID2, Ncell2):\n",
    "    try:\n",
    "        kk = get_KrotOverK(g)\n",
    "        KoK.append(kk)\n",
    "        NcellDef.append(n)\n",
    "    except:\n",
    "        pass\n",
    "    \n",
    "KoK = np.array(KoK)\n",
    "NcellDef = np.array(NcellDef)\n",
    "\n",
    "KoK.size, NcellDef.size"
   ]
  },
  {
   "cell_type": "code",
   "execution_count": 20,
   "metadata": {},
   "outputs": [
    {
     "data": {
      "text/plain": [
       "(array([0.71447148]), array([249.]))"
      ]
     },
     "execution_count": 20,
     "metadata": {},
     "output_type": "execute_result"
    }
   ],
   "source": [
    "KoK, NcellDef"
   ]
  },
  {
   "cell_type": "code",
   "execution_count": null,
   "metadata": {},
   "outputs": [],
   "source": []
  },
  {
   "cell_type": "code",
   "execution_count": 59,
   "metadata": {},
   "outputs": [],
   "source": [
    "def getMass(ff):\n",
    "    Soff = sim['SnapNumber_128/SubGroups/PartType4/Offsets'][ff].astype('int')\n",
    "    masses = sim['SnapNumber_128/PartType4/Masses'][Soff[0]:Soff[1]]\n",
    "    Mass = np.log10(np.sum(masses)*1e10)\n",
    "    \n",
    "    group = sim['SnapNumber_128/SubGroups/GroupNumber'][ff]\n",
    "    gMass = sim['SnapNumber_128/Groups/Group_M_Crit200'][group]\n",
    "    GMass = np.log10(gMass*1e10)\n",
    "    \n",
    "    return Mass, GMass"
   ]
  },
  {
   "cell_type": "code",
   "execution_count": 71,
   "metadata": {},
   "outputs": [
    {
     "data": {
      "text/plain": [
       "(10.605669811328204, 11.97874485031806)"
      ]
     },
     "execution_count": 71,
     "metadata": {},
     "output_type": "execute_result"
    }
   ],
   "source": [
    "getMass(4337)"
   ]
  },
  {
   "cell_type": "code",
   "execution_count": 61,
   "metadata": {},
   "outputs": [
    {
     "data": {
      "text/plain": [
       "(8.395722114289644, 11.97874485031806)"
      ]
     },
     "execution_count": 61,
     "metadata": {},
     "output_type": "execute_result"
    }
   ],
   "source": [
    "getMass(4339)"
   ]
  },
  {
   "cell_type": "code",
   "execution_count": 72,
   "metadata": {},
   "outputs": [
    {
     "data": {
      "text/html": [
       "&lt;Column name=&apos;col1&apos; dtype=&apos;int64&apos; length=592&gt;\n",
       "<table>\n",
       "<tr><td>0</td></tr>\n",
       "<tr><td>17982</td></tr>\n",
       "<tr><td>48020</td></tr>\n",
       "<tr><td>64296</td></tr>\n",
       "<tr><td>77136</td></tr>\n",
       "<tr><td>80607</td></tr>\n",
       "<tr><td>89839</td></tr>\n",
       "<tr><td>98021</td></tr>\n",
       "<tr><td>105534</td></tr>\n",
       "<tr><td>111730</td></tr>\n",
       "<tr><td>113537</td></tr>\n",
       "<tr><td>115440</td></tr>\n",
       "<tr><td>...</td></tr>\n",
       "<tr><td>448881</td></tr>\n",
       "<tr><td>449243</td></tr>\n",
       "<tr><td>451632</td></tr>\n",
       "<tr><td>453311</td></tr>\n",
       "<tr><td>453548</td></tr>\n",
       "<tr><td>453959</td></tr>\n",
       "<tr><td>454844</td></tr>\n",
       "<tr><td>455408</td></tr>\n",
       "<tr><td>455616</td></tr>\n",
       "<tr><td>456678</td></tr>\n",
       "<tr><td>464215</td></tr>\n",
       "<tr><td>474291</td></tr>\n",
       "</table>"
      ],
      "text/plain": [
       "<Column name='col1' dtype='int64' length=592>\n",
       "     0\n",
       " 17982\n",
       " 48020\n",
       " 64296\n",
       " 77136\n",
       " 80607\n",
       " 89839\n",
       " 98021\n",
       "105534\n",
       "111730\n",
       "113537\n",
       "115440\n",
       "   ...\n",
       "448881\n",
       "449243\n",
       "451632\n",
       "453311\n",
       "453548\n",
       "453959\n",
       "454844\n",
       "455408\n",
       "455616\n",
       "456678\n",
       "464215\n",
       "474291"
      ]
     },
     "execution_count": 72,
     "metadata": {},
     "output_type": "execute_result"
    }
   ],
   "source": [
    "galID"
   ]
  },
  {
   "cell_type": "code",
   "execution_count": 93,
   "metadata": {},
   "outputs": [
    {
     "data": {
      "text/plain": [
       "0.5653500913431752"
      ]
     },
     "execution_count": 93,
     "metadata": {},
     "output_type": "execute_result"
    }
   ],
   "source": [
    "get_KrotOverK(4469)"
   ]
  },
  {
   "cell_type": "code",
   "execution_count": 3,
   "metadata": {},
   "outputs": [],
   "source": [
    "Header = sim['SnapNumber_128/Header']"
   ]
  },
  {
   "cell_type": "code",
   "execution_count": 4,
   "metadata": {},
   "outputs": [
    {
     "data": {
      "text/plain": [
       "<KeysViewHDF5 ['BoxSize', 'HubbleParam', 'MassTable', 'Omega0', 'OmegaLambda', 'Redshift', 'Time']>"
      ]
     },
     "execution_count": 4,
     "metadata": {},
     "output_type": "execute_result"
    }
   ],
   "source": [
    "Header.keys()"
   ]
  },
  {
   "cell_type": "code",
   "execution_count": 6,
   "metadata": {},
   "outputs": [
    {
     "data": {
      "text/plain": [
       "(100000.0, 0.6711, 0.3175, 0.6825)"
      ]
     },
     "execution_count": 6,
     "metadata": {},
     "output_type": "execute_result"
    }
   ],
   "source": [
    "Header['BoxSize'][()], Header['HubbleParam'][()], Header['Omega0'][()], Header['OmegaLambda'][()]"
   ]
  },
  {
   "cell_type": "code",
   "execution_count": 8,
   "metadata": {},
   "outputs": [
    {
     "data": {
      "text/plain": [
       "'$h^{-1} ckpc$'"
      ]
     },
     "execution_count": 8,
     "metadata": {},
     "output_type": "execute_result"
    }
   ],
   "source": [
    "Header['BoxSize'].attrs['description_units']"
   ]
  },
  {
   "cell_type": "code",
   "execution_count": 9,
   "metadata": {},
   "outputs": [
    {
     "data": {
      "text/plain": [
       "array([0.        , 0.00010843, 0.        , 0.        , 0.        ,\n",
       "       0.        ])"
      ]
     },
     "execution_count": 9,
     "metadata": {},
     "output_type": "execute_result"
    }
   ],
   "source": [
    "Header['MassTable'][()]"
   ]
  },
  {
   "cell_type": "code",
   "execution_count": 10,
   "metadata": {},
   "outputs": [
    {
     "data": {
      "text/plain": [
       "6.035149457773463"
      ]
     },
     "execution_count": 10,
     "metadata": {},
     "output_type": "execute_result"
    }
   ],
   "source": [
    "np.log10(0.00010843*1e10)"
   ]
  },
  {
   "cell_type": "code",
   "execution_count": 40,
   "metadata": {},
   "outputs": [],
   "source": [
    "poff0_1 = sim['SnapNumber_128/Groups/PartType0/Offsets'][4672].astype('int')\n",
    "poff1_1 = sim['SnapNumber_128/Groups/PartType1/Offsets'][4672].astype('int')\n",
    "poff4_1 = sim['SnapNumber_128/Groups/PartType4/Offsets'][4672].astype('int')"
   ]
  },
  {
   "cell_type": "code",
   "execution_count": 41,
   "metadata": {},
   "outputs": [
    {
     "data": {
      "text/plain": [
       "11.805710042391436"
      ]
     },
     "execution_count": 41,
     "metadata": {},
     "output_type": "execute_result"
    }
   ],
   "source": [
    "Mass0 = np.sum(sim['SnapNumber_128/PartType0/Masses'][poff0_1[0]:poff0_1[1]])\n",
    "Mass4 = np.sum(sim['SnapNumber_128/PartType4/Masses'][poff4_1[0]:poff4_1[1]])\n",
    "Mass1 = 0.00010843*(poff1_1[1]-poff1_1[0])\n",
    "\n",
    "np.log10(Mass0+Mass4+Mass1)+10"
   ]
  },
  {
   "cell_type": "code",
   "execution_count": 10,
   "metadata": {},
   "outputs": [
    {
     "data": {
      "text/plain": [
       "(12.07979967515817, 12.28072857204227)"
      ]
     },
     "execution_count": 10,
     "metadata": {},
     "output_type": "execute_result"
    }
   ],
   "source": [
    "np.log10(1.20171e+12), np.log10(1.90866e+12)"
   ]
  },
  {
   "cell_type": "code",
   "execution_count": 35,
   "metadata": {},
   "outputs": [
    {
     "data": {
      "text/plain": [
       "13.022539899243949"
      ]
     },
     "execution_count": 35,
     "metadata": {},
     "output_type": "execute_result"
    }
   ],
   "source": [
    "Mass0 = np.sum(sim['SnapNumber_128/PartType0/Masses'][()])\n",
    "Mass4 = np.sum(sim['SnapNumber_128/PartType4/Masses'][()])\n",
    "Mass1 = 0.00010843*sim['SnapNumber_128/PartType1/ParticleIDs'][()].size\n",
    "\n",
    "np.log10(Mass0+Mass4+Mass1)+10"
   ]
  },
  {
   "cell_type": "code",
   "execution_count": 14,
   "metadata": {},
   "outputs": [
    {
     "data": {
      "text/plain": [
       "<KeysViewHDF5 ['Coordinates', 'GroupNumber', 'ParticleIDs', 'Potential', 'SubFindNumber', 'SubGroupNumber', 'Velocities']>"
      ]
     },
     "execution_count": 14,
     "metadata": {},
     "output_type": "execute_result"
    }
   ],
   "source": [
    "sim['SnapNumber_128/PartType1/'].keys()"
   ]
  },
  {
   "cell_type": "code",
   "execution_count": 20,
   "metadata": {},
   "outputs": [
    {
     "data": {
      "text/plain": [
       "12.492812054428894"
      ]
     },
     "execution_count": 20,
     "metadata": {},
     "output_type": "execute_result"
    }
   ],
   "source": [
    "np.log10(1.20171e+12+1.90866e+12)"
   ]
  },
  {
   "cell_type": "code",
   "execution_count": 19,
   "metadata": {},
   "outputs": [
    {
     "data": {
      "text/plain": [
       "(4.9374566078186035, 4.230424880981445)"
      ]
     },
     "execution_count": 19,
     "metadata": {},
     "output_type": "execute_result"
    }
   ],
   "source": [
    "np.log10(np.mean(sim['SnapNumber_128/PartType4/Masses'][()]))+10, np.log10(np.std(sim['SnapNumber_128/PartType4/Masses'][()]))+10"
   ]
  },
  {
   "cell_type": "code",
   "execution_count": 18,
   "metadata": {},
   "outputs": [
    {
     "data": {
      "text/plain": [
       "(5.28468132019043, 4.379548072814941)"
      ]
     },
     "execution_count": 18,
     "metadata": {},
     "output_type": "execute_result"
    }
   ],
   "source": [
    "np.log10(np.mean(sim['SnapNumber_128/PartType0/Masses'][()]))+10, np.log10(np.std(sim['SnapNumber_128/PartType0/Masses'][()]))+10"
   ]
  },
  {
   "cell_type": "code",
   "execution_count": 12,
   "metadata": {},
   "outputs": [
    {
     "data": {
      "text/plain": [
       "'$10^{10}  h^{-1} M_\\\\odot$'"
      ]
     },
     "execution_count": 12,
     "metadata": {},
     "output_type": "execute_result"
    }
   ],
   "source": [
    "sim['SnapNumber_128/PartType0/Masses'].attrs['description_units']"
   ]
  },
  {
   "cell_type": "code",
   "execution_count": 13,
   "metadata": {},
   "outputs": [
    {
     "data": {
      "text/plain": [
       "8208528"
      ]
     },
     "execution_count": 13,
     "metadata": {},
     "output_type": "execute_result"
    }
   ],
   "source": [
    "sim['SnapNumber_128/PartType1/ParticleIDs'][()].size"
   ]
  },
  {
   "cell_type": "code",
   "execution_count": 14,
   "metadata": {},
   "outputs": [
    {
     "data": {
      "text/plain": [
       "201.72284966367138"
      ]
     },
     "execution_count": 14,
     "metadata": {},
     "output_type": "execute_result"
    }
   ],
   "source": [
    "8208528**(1/3)"
   ]
  },
  {
   "cell_type": "code",
   "execution_count": 15,
   "metadata": {},
   "outputs": [
    {
     "data": {
      "text/plain": [
       "8208527.9999999935"
      ]
     },
     "execution_count": 15,
     "metadata": {},
     "output_type": "execute_result"
    }
   ],
   "source": [
    "201.72284966367138**3"
   ]
  },
  {
   "cell_type": "code",
   "execution_count": 20,
   "metadata": {},
   "outputs": [
    {
     "data": {
      "text/plain": [
       "1207886"
      ]
     },
     "execution_count": 20,
     "metadata": {},
     "output_type": "execute_result"
    }
   ],
   "source": [
    "sim['SnapNumber_128/PartType4/Masses'][()].size"
   ]
  },
  {
   "cell_type": "code",
   "execution_count": 21,
   "metadata": {},
   "outputs": [
    {
     "data": {
      "text/plain": [
       "7931058"
      ]
     },
     "execution_count": 21,
     "metadata": {},
     "output_type": "execute_result"
    }
   ],
   "source": [
    "sim['SnapNumber_128/PartType0/Masses'][()].size"
   ]
  },
  {
   "cell_type": "code",
   "execution_count": 3,
   "metadata": {},
   "outputs": [
    {
     "data": {
      "text/plain": [
       "'Optical radii computed as the radius that encompass 83% of stellar and star-forming gas mass belonging to the SubGroup'"
      ]
     },
     "execution_count": 3,
     "metadata": {},
     "output_type": "execute_result"
    }
   ],
   "source": [
    "sim['SnapNumber_128/SubGroups/OpticalRadius'].attrs['description']"
   ]
  },
  {
   "cell_type": "code",
   "execution_count": 31,
   "metadata": {},
   "outputs": [
    {
     "data": {
      "text/plain": [
       "'Mass in individual elements: He, C, Mg, O, Fe, Si, H, N, Ne, S, Ca, Zi (in this order)'"
      ]
     },
     "execution_count": 31,
     "metadata": {},
     "output_type": "execute_result"
    }
   ],
   "source": [
    "sim['SnapNumber_128/PartType4/Abundances'].attrs['description']"
   ]
  },
  {
   "cell_type": "code",
   "execution_count": 5,
   "metadata": {},
   "outputs": [
    {
     "data": {
      "text/plain": [
       "<KeysViewHDF5 ['Abundances', 'BindingEnergy', 'Circularity', 'Coordinates', 'GroupNumber', 'Masses', 'ParticleIDs', 'Potential', 'SpecificAngularMomentum', 'StellarFormationTime', 'SubFindNumber', 'SubGroupNumber', 'Velocities']>"
      ]
     },
     "execution_count": 5,
     "metadata": {},
     "output_type": "execute_result"
    }
   ],
   "source": [
    "sim['SnapNumber_128/PartType4/'].keys()"
   ]
  },
  {
   "cell_type": "code",
   "execution_count": 46,
   "metadata": {},
   "outputs": [],
   "source": [
    "np.isin?"
   ]
  },
  {
   "cell_type": "code",
   "execution_count": 27,
   "metadata": {
    "scrolled": true
   },
   "outputs": [
    {
     "name": "stdout",
     "output_type": "stream",
     "text": [
      "492 30 31\n",
      "674 31 32\n",
      "966 32 33\n",
      "1429 33 34\n",
      "1622 34 35\n",
      "1887 35 36\n",
      "1896 36 37\n",
      "2524 37 38\n",
      "2326 38 39\n",
      "3225 39 40\n",
      "3879 40 41\n",
      "4050 41 42\n",
      "3820 42 43\n",
      "2109 43 44\n",
      "4262 44 45\n",
      "1053 45 46\n",
      "2962 46 47\n",
      "3565 47 48\n",
      "4681 48 49\n",
      "5815 49 50\n",
      "3986 50 51\n",
      "4812 51 52\n",
      "4441 52 53\n",
      "7273 53 54\n",
      "4674 54 55\n",
      "6035 55 56\n",
      "3747 56 57\n",
      "4237 57 58\n",
      "5879 58 59\n",
      "2463 59 60\n",
      "2446 60 61\n",
      "2562 61 62\n",
      "4872 62 63\n",
      "3566 63 64\n",
      "2235 64 65\n",
      "2126 65 66\n",
      "2136 66 67\n",
      "2196 67 68\n",
      "1908 68 69\n",
      "1531 69 70\n",
      "1683 70 71\n",
      "1665 71 72\n",
      "1605 72 73\n",
      "2072 73 74\n",
      "2364 74 75\n",
      "1869 75 76\n",
      "1762 76 77\n",
      "1572 77 78\n",
      "1296 78 79\n",
      "1509 79 80\n",
      "1692 80 81\n",
      "1404 81 82\n",
      "1553 82 83\n",
      "1635 83 84\n",
      "1733 84 85\n",
      "1912 85 86\n",
      "1623 86 87\n",
      "1557 87 88\n",
      "1880 88 89\n",
      "1835 89 90\n",
      "1394 90 91\n",
      "1045 91 92\n",
      "822 92 93\n",
      "1622 93 94\n",
      "1366 94 95\n",
      "1020 95 96\n",
      "877 96 97\n",
      "911 97 98\n",
      "793 98 99\n",
      "824 99 100\n",
      "822 100 101\n",
      "700 101 102\n",
      "1200 102 103\n",
      "791 103 104\n",
      "1032 104 105\n",
      "885 105 106\n",
      "1001 106 107\n",
      "874 107 108\n",
      "549 108 109\n",
      "1079 109 110\n",
      "581 110 111\n",
      "884 111 112\n",
      "663 112 113\n",
      "827 113 114\n",
      "1075 114 115\n",
      "638 115 116\n",
      "462 116 117\n",
      "621 117 118\n",
      "667 118 119\n",
      "524 119 120\n",
      "390 120 121\n",
      "567 121 122\n",
      "586 122 123\n",
      "884 123 124\n",
      "407 124 125\n",
      "582 125 126\n",
      "402 126 127\n",
      "83 127 128\n"
     ]
    }
   ],
   "source": [
    "# ok, lets select the times difference.\n",
    "\n",
    "TimeEnd = []\n",
    "TimeBegin = []\n",
    "\n",
    "for i in range(30,128):\n",
    "    TimeN = sim['SnapNumber_{}/Header/Time'.format(i+1)][()]\n",
    "    TimeI = sim['SnapNumber_{}/PartType4/StellarFormationTime'.format(i)][()]\n",
    "    pnow = sim['SnapNumber_{}/PartType4/ParticleIDs'.format(i)][()]\n",
    "    pnew = sim['SnapNumber_{}/PartType4/ParticleIDs'.format(i+1)][()]\n",
    "    \n",
    "    Masses1 = sim['SnapNumber_{}/PartType4/Masses'.format(i)][()]\n",
    "    Masses2 = sim['SnapNumber_{}/PartType4/Masses'.format(i+1)][()]\n",
    "    \n",
    "    iare = np.isin(pnow, pnew, assume_unique=True, invert=False)\n",
    "    inow = np.isin(pnew, pnow, assume_unique=True, invert=False)\n",
    "    \n",
    "    pnow, Masses1 = pnow[iare], Masses1[iare]\n",
    "    pnew, Masses2 = pnew[inow], Masses2[inow]\n",
    "    \n",
    "    TimeI = TimeI[iare]\n",
    "    \n",
    "    # ... and compare the masses\n",
    "    is1 = np.argsort(pnow) # the target\n",
    "    is2 = np.argsort(pnew)\n",
    "\n",
    "    valMass2 = np.zeros(pnow.size)\n",
    "    valMass2[is1] = Masses2[is2]\n",
    "    \n",
    "    theOnesThatDie = np.where(Masses1 > 1.2*valMass2)[0]\n",
    "    if theOnesThatDie.size>0:\n",
    "#         print(pnow.min(), pnow.max())\n",
    "#         print(pnew.min(), pnew.max())\n",
    "        print(theOnesThatDie.size, i, i+1)\n",
    "        \n",
    "    Timedie = list(TimeI[theOnesThatDie])\n",
    "    Timenow = [TimeN]*len(Timedie)\n",
    "    \n",
    "    TimeEnd.extend(Timenow)\n",
    "    TimeBegin.extend(Timedie)"
   ]
  },
  {
   "cell_type": "code",
   "execution_count": 21,
   "metadata": {},
   "outputs": [
    {
     "data": {
      "text/plain": [
       "'The scale factor a (=1/(1+z)) corresponding to the current snapshot'"
      ]
     },
     "execution_count": 21,
     "metadata": {},
     "output_type": "execute_result"
    }
   ],
   "source": [
    "sim['SnapNumber_128/Header/Time'].attrs['description']"
   ]
  },
  {
   "cell_type": "code",
   "execution_count": 22,
   "metadata": {},
   "outputs": [
    {
     "data": {
      "text/plain": [
       "(0.001757741, 2.220446049250313e-16)"
      ]
     },
     "execution_count": 22,
     "metadata": {},
     "output_type": "execute_result"
    }
   ],
   "source": [
    "zBegin = 1./np.array(TimeBegin) -1.\n",
    "zEnd = 1./np.array(TimeEnd) -1.\n",
    "\n",
    "zBegin[-1], zEnd[-1]"
   ]
  },
  {
   "cell_type": "code",
   "execution_count": 4,
   "metadata": {},
   "outputs": [],
   "source": [
    "Cosmo = apc.FlatLambdaCDM(H0=100, Om0=0.3175)"
   ]
  },
  {
   "cell_type": "code",
   "execution_count": 5,
   "metadata": {},
   "outputs": [
    {
     "ename": "NameError",
     "evalue": "name 'zEnd' is not defined",
     "output_type": "error",
     "traceback": [
      "\u001b[0;31m---------------------------------------------------------------------------\u001b[0m",
      "\u001b[0;31mNameError\u001b[0m                                 Traceback (most recent call last)",
      "\u001b[0;32m<ipython-input-5-a1782717e3f7>\u001b[0m in \u001b[0;36m<module>\u001b[0;34m\u001b[0m\n\u001b[0;32m----> 1\u001b[0;31m \u001b[0mTend\u001b[0m \u001b[0;34m=\u001b[0m \u001b[0mCosmo\u001b[0m\u001b[0;34m.\u001b[0m\u001b[0mlookback_time\u001b[0m\u001b[0;34m(\u001b[0m\u001b[0mzEnd\u001b[0m\u001b[0;34m)\u001b[0m\u001b[0;34m.\u001b[0m\u001b[0mvalue\u001b[0m\u001b[0;34m\u001b[0m\u001b[0;34m\u001b[0m\u001b[0m\n\u001b[0m\u001b[1;32m      2\u001b[0m \u001b[0mTBegin\u001b[0m \u001b[0;34m=\u001b[0m \u001b[0mCosmo\u001b[0m\u001b[0;34m.\u001b[0m\u001b[0mlookback_time\u001b[0m\u001b[0;34m(\u001b[0m\u001b[0mzBegin\u001b[0m\u001b[0;34m)\u001b[0m\u001b[0;34m.\u001b[0m\u001b[0mvalue\u001b[0m\u001b[0;34m\u001b[0m\u001b[0;34m\u001b[0m\u001b[0m\n\u001b[1;32m      3\u001b[0m \u001b[0;34m\u001b[0m\u001b[0m\n\u001b[1;32m      4\u001b[0m \u001b[0mTLife\u001b[0m \u001b[0;34m=\u001b[0m \u001b[0mTBegin\u001b[0m \u001b[0;34m-\u001b[0m \u001b[0mTend\u001b[0m\u001b[0;34m\u001b[0m\u001b[0;34m\u001b[0m\u001b[0m\n",
      "\u001b[0;31mNameError\u001b[0m: name 'zEnd' is not defined"
     ]
    }
   ],
   "source": [
    "Tend = Cosmo.lookback_time(zEnd).value\n",
    "TBegin = Cosmo.lookback_time(zBegin).value\n",
    "\n",
    "TLife = TBegin - Tend"
   ]
  },
  {
   "cell_type": "code",
   "execution_count": 25,
   "metadata": {},
   "outputs": [
    {
     "data": {
      "text/plain": [
       "Text(0, 0.5, 'Number')"
      ]
     },
     "execution_count": 25,
     "metadata": {},
     "output_type": "execute_result"
    },
    {
     "data": {
      "image/png": "[encoded data removed]",
      "text/plain": [
       "<Figure size 1008x1008 with 1 Axes>"
      ]
     },
     "metadata": {
      "needs_background": "light"
     },
     "output_type": "display_data"
    }
   ],
   "source": [
    "pl.figure(figsize=(14, 14))\n",
    "\n",
    "pl.hist(TLife, bins=100)\n",
    "\n",
    "pl.xlabel('Time of life of star particles$/(Gyrs\\,\\,h^{-1})$')\n",
    "pl.ylabel('Number')"
   ]
  },
  {
   "cell_type": "code",
   "execution_count": 10,
   "metadata": {},
   "outputs": [
    {
     "data": {
      "text/plain": [
       "(0.09491648784993341, 0.10687983135284185, 0.02658044598236955)"
      ]
     },
     "execution_count": 10,
     "metadata": {},
     "output_type": "execute_result"
    }
   ],
   "source": [
    "np.mean(TLife), np.median(TLife), np.std(TLife)"
   ]
  },
  {
   "cell_type": "code",
   "execution_count": 6,
   "metadata": {},
   "outputs": [],
   "source": [
    "# , ok, aprox 0.1 +/- 0.03 to take the mayority, even when the distribution is not, well, gaussian\n",
    "# lets take a look at the difference between snapshots\n",
    "\n",
    "Zsnap = []\n",
    "for i in range(30, 129):\n",
    "    zz = sim['SnapNumber_{}/Header/Redshift'.format(i)][()]\n",
    "    Zsnap.append(zz)"
   ]
  },
  {
   "cell_type": "code",
   "execution_count": 7,
   "metadata": {},
   "outputs": [],
   "source": [
    "Zsnap = np.array(Zsnap)"
   ]
  },
  {
   "cell_type": "code",
   "execution_count": 8,
   "metadata": {},
   "outputs": [],
   "source": [
    "TimeSnap = Cosmo.lookback_time(Zsnap).value"
   ]
  },
  {
   "cell_type": "code",
   "execution_count": 9,
   "metadata": {},
   "outputs": [],
   "source": [
    "dif = TimeSnap[:-1] - TimeSnap[1:]"
   ]
  },
  {
   "cell_type": "code",
   "execution_count": 10,
   "metadata": {
    "scrolled": false
   },
   "outputs": [
    {
     "data": {
      "text/plain": [
       "[<matplotlib.lines.Line2D at 0x7f21afd20b38>]"
      ]
     },
     "execution_count": 10,
     "metadata": {},
     "output_type": "execute_result"
    },
    {
     "data": {
      "image/png": "[encoded data removed]",
      "text/plain": [
       "<Figure size 1008x1008 with 1 Axes>"
      ]
     },
     "metadata": {
      "needs_background": "light"
     },
     "output_type": "display_data"
    }
   ],
   "source": [
    "pl.figure(figsize=(14,14))\n",
    "\n",
    "pl.plot(TimeSnap[1:], dif, marker='o', ls='')"
   ]
  },
  {
   "cell_type": "code",
   "execution_count": 11,
   "metadata": {},
   "outputs": [
    {
     "data": {
      "text/plain": [
       "2149303829"
      ]
     },
     "execution_count": 11,
     "metadata": {},
     "output_type": "execute_result"
    }
   ],
   "source": [
    "sim['SnapNumber_128/PartType4/ParticleIDs'][0]"
   ]
  },
  {
   "cell_type": "code",
   "execution_count": 12,
   "metadata": {},
   "outputs": [],
   "source": [
    "# lets get the position of teh star particles.\n",
    "\n",
    "Idstar = sim['SnapNumber_128/PartType4/SubFindNumber'][()]\n",
    "\n",
    "idgal = np.array([4338, 4339, 4341, 4343, 4470, 4471, 4473, 4474])\n",
    "\n",
    "stars = []\n",
    "for idg in idgal:\n",
    "    i = np.where(Idstar==idg)[0]\n",
    "    stars.extend(list(i))\n",
    "    \n",
    "stars = np.array(stars)"
   ]
  },
  {
   "cell_type": "code",
   "execution_count": 13,
   "metadata": {},
   "outputs": [
    {
     "data": {
      "text/plain": [
       "112122"
      ]
     },
     "execution_count": 13,
     "metadata": {},
     "output_type": "execute_result"
    }
   ],
   "source": [
    "stars.size"
   ]
  },
  {
   "cell_type": "code",
   "execution_count": 30,
   "metadata": {},
   "outputs": [
    {
     "name": "stderr",
     "output_type": "stream",
     "text": [
      "100% (112122 of 112122) |################| Elapsed Time: 0:07:17 ETA:  00:00:00"
     ]
    }
   ],
   "source": [
    "# ok, now lets calculate times directly.\n",
    "lifeSpectancy = []\n",
    "Zs = []\n",
    "Mass = []\n",
    "\n",
    "MassMin = 8\n",
    "MassMax = 40\n",
    "\n",
    "eps0 = 1.35/(MassMin**(-1.35)-MassMax**(-1.35))\n",
    "\n",
    "pb = progressbar.ProgressBar(max_value=stars.size)\n",
    "c = 0\n",
    "\n",
    "for s in stars:\n",
    "    abund = sim['SnapNumber_128/PartType4/Abundances'][s]\n",
    "    mass = sim['SnapNumber_128/PartType4/Masses'][s]\n",
    "    \n",
    "    Z = (np.sum(abund[1:6])+np.sum(abund[7:]))/mass\n",
    "    if Z<10**(-5):\n",
    "        Z = 10**(-5)\n",
    "    if Z>10**(-2):\n",
    "        Z = 10**(-2)\n",
    "    \n",
    "    rand = np.random.random()\n",
    "    M = (-rand*1.35/eps0 + MassMin**(-1.35))**(-1/1.35)\n",
    "    \n",
    "    lZ = np.log10(Z)\n",
    "    lM = np.log10(M)\n",
    "    \n",
    "    a0 = 10.13 + 0.07547*lZ - 0.008084*lZ**2\n",
    "    a1 = -4.424 - 0.7939*lZ - 0.1187*lZ**2\n",
    "    a2 = 1.262 + 0.3385*lZ + 0.05417*lZ**2\n",
    "    \n",
    "    lT = a0 + a1*lM + a2*lM**2\n",
    "    lT = lT # in yrs\n",
    "    lifeSpectancy.append(lT)\n",
    "    Zs.append(Z)\n",
    "    Mass.append(M)\n",
    "    c += 1\n",
    "    pb.update(c)\n",
    "    \n",
    "lifeSpectancy = np.array(lifeSpectancy)\n",
    "Zs = np.array(Zs)\n",
    "Mass = np.array(Mass)"
   ]
  },
  {
   "cell_type": "code",
   "execution_count": 31,
   "metadata": {},
   "outputs": [
    {
     "data": {
      "image/png": "[encoded data removed]",
      "text/plain": [
       "<Figure size 1008x1008 with 1 Axes>"
      ]
     },
     "metadata": {
      "needs_background": "light"
     },
     "output_type": "display_data"
    }
   ],
   "source": [
    "pl.figure(figsize=(14,14))\n",
    "\n",
    "i = np.where(Mass>1)\n",
    "\n",
    "h = pl.hist((10**lifeSpectancy[i])/1e9, bins=100, histtype='step')"
   ]
  },
  {
   "cell_type": "code",
   "execution_count": 32,
   "metadata": {},
   "outputs": [
    {
     "data": {
      "text/plain": [
       "(0.018089395755499785, 0.010585338536808878)"
      ]
     },
     "execution_count": 32,
     "metadata": {},
     "output_type": "execute_result"
    }
   ],
   "source": [
    "np.median(10**(lifeSpectancy[i])/1e9), np.std(10**(lifeSpectancy[i])/1e9)"
   ]
  },
  {
   "cell_type": "code",
   "execution_count": 27,
   "metadata": {},
   "outputs": [
    {
     "data": {
      "text/plain": [
       "(1e-05, 0.01)"
      ]
     },
     "execution_count": 27,
     "metadata": {},
     "output_type": "execute_result"
    }
   ],
   "source": [
    "Zs.min(), Zs.max()"
   ]
  },
  {
   "cell_type": "code",
   "execution_count": 28,
   "metadata": {},
   "outputs": [
    {
     "data": {
      "text/plain": [
       "(1.0000086943939912, 39.99652993659734)"
      ]
     },
     "execution_count": 28,
     "metadata": {},
     "output_type": "execute_result"
    }
   ],
   "source": [
    "Mass.min(), Mass.max()"
   ]
  },
  {
   "cell_type": "code",
   "execution_count": 29,
   "metadata": {},
   "outputs": [
    {
     "data": {
      "text/plain": [
       "(array([44373., 26782., 16437.,  9986.,  5912.,  3707.,  2236.,  1371.,\n",
       "          828.,   490.]),\n",
       " array([3.77591092e-06, 1.60205630e-01, 3.20407484e-01, 4.80609337e-01,\n",
       "        6.40811191e-01, 8.01013045e-01, 9.61214899e-01, 1.12141675e+00,\n",
       "        1.28161861e+00, 1.44182046e+00, 1.60202231e+00]),\n",
       " <a list of 10 Patch objects>)"
      ]
     },
     "execution_count": 29,
     "metadata": {},
     "output_type": "execute_result"
    },
    {
     "data": {
      "image/png": "[encoded data removed]",
      "text/plain": [
       "<Figure size 432x288 with 1 Axes>"
      ]
     },
     "metadata": {
      "needs_background": "light"
     },
     "output_type": "display_data"
    }
   ],
   "source": [
    "pl.hist(np.log10(Mass))"
   ]
  },
  {
   "cell_type": "code",
   "execution_count": null,
   "metadata": {},
   "outputs": [],
   "source": []
  }
 ],
 "metadata": {
  "kernelspec": {
   "display_name": "Python 3",
   "language": "python",
   "name": "python3"
  },
  "language_info": {
   "codemirror_mode": {
    "name": "ipython",
    "version": 3
   },
   "file_extension": ".py",
   "mimetype": "text/x-python",
   "name": "python",
   "nbconvert_exporter": "python",
   "pygments_lexer": "ipython3",
   "version": "3.6.10"
  }
 },
 "nbformat": 4,
 "nbformat_minor": 4
}
