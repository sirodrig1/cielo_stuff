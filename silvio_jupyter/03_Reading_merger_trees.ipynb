{
 "cells": [
  {
   "cell_type": "markdown",
   "metadata": {},
   "source": [
    "# Reading Merger Trees"
   ]
  },
  {
   "cell_type": "markdown",
   "metadata": {},
   "source": [
    "Currently merger trees are only computed for the LG11 simulation\n",
    "\n",
    "They are stored in a simple txt format wich can be found here:\n",
    "\n",
    "```\n",
    "/data/cielo/simulations/LG11/LG11_merger_trees.txt\n",
    "\n",
    "```"
   ]
  },
  {
   "cell_type": "markdown",
   "metadata": {},
   "source": [
    "The format is as follow:\n",
    "\n",
    "each subhalo is assigned a unique id which is a combination of the SnapshotNumber and its SubFindNumber (i.e. 126000049)\n",
    "\n",
    "the file is composed of blocks like this\n",
    "\n",
    "```\n",
    "subhaloID0 Nprog\n",
    "subhaloID1\n",
    "subhaloID2\n",
    "subhaloID3\n",
    "```\n",
    "\n",
    "where Nprog is the number of progenitors of subhaloID0 and subhaloID[1-Nprog] are the ids of each of those progenitors"
   ]
  },
  {
   "cell_type": "markdown",
   "metadata": {},
   "source": [
    "Unfortunately there is no dedicated python code to read this format, however I had some success using [NetworkX](https://networkx.github.io/), which is a generalized software to manipulate networks.\n",
    "\n",
    "Below there are some utility functions that might be useful and some examples using NetworkX to navigate the tree"
   ]
  },
  {
   "cell_type": "code",
   "execution_count": 1,
   "metadata": {},
   "outputs": [],
   "source": [
    "import networkx"
   ]
  },
  {
   "cell_type": "code",
   "execution_count": 6,
   "metadata": {},
   "outputs": [],
   "source": [
    "trees = networkx.read_multiline_adjlist('/data/cielo/simulations/LG11/LG11_merger_trees.txt')\n",
    "subtree = networkx.dfs_tree(trees, '128003759')\n",
    "\n",
    "subtree?"
   ]
  },
  {
   "cell_type": "code",
   "execution_count": 7,
   "metadata": {},
   "outputs": [],
   "source": [
    "def split_unique_id(unique_id):\n",
    "    \"\"\"Splits the ids assign to the subhalos by the merger tree code by snap number and subfind number \"\"\"\n",
    "    subfind_number = int(unique_id % 1e6)\n",
    "    snap_number = int((unique_id - subfind_number) / 1e6)\n",
    "    \n",
    "    return snap_number, subfind_number"
   ]
  },
  {
   "cell_type": "code",
   "execution_count": 8,
   "metadata": {},
   "outputs": [],
   "source": [
    "def get_main_branch_unique_ids(subtree, node):\n",
    "    \"\"\"Gets the unique ids of the subhalos belonging to the main branch of the selected subhalo (node)\"\"\"\n",
    "    mpb = [node, ]\n",
    "    i = 0\n",
    "    while True:\n",
    "        succesors = list(subtree.successors(node))\n",
    "        if len(succesors) == 0:\n",
    "            break\n",
    "        node = succesors[0] # select only the first succesor (main branch)\n",
    "        mpb.append(node)\n",
    "        \n",
    "    return mpb"
   ]
  },
  {
   "cell_type": "code",
   "execution_count": 9,
   "metadata": {},
   "outputs": [
    {
     "data": {
      "text/plain": [
       "['128003759',\n",
       " '126001334',\n",
       " '125001236',\n",
       " '124001260',\n",
       " '123001266',\n",
       " '122003770',\n",
       " '121003783',\n",
       " '120001248',\n",
       " '119001272',\n",
       " '118001290',\n",
       " '117001286',\n",
       " '116003658',\n",
       " '115003669',\n",
       " '114001298',\n",
       " '113001326',\n",
       " '112001348',\n",
       " '111001368',\n",
       " '110003634',\n",
       " '109003643',\n",
       " '108001324',\n",
       " '106001365',\n",
       " '103003756',\n",
       " '101003822',\n",
       " '100001341',\n",
       " '99003962',\n",
       " '98003894',\n",
       " '97001314',\n",
       " '96003941',\n",
       " '95001312',\n",
       " '94001340',\n",
       " '93001328',\n",
       " '92003892',\n",
       " '90003878',\n",
       " '88003896',\n",
       " '87001319',\n",
       " '85001356',\n",
       " '84004051',\n",
       " '83001355',\n",
       " '82004099',\n",
       " '81001380',\n",
       " '80001391',\n",
       " '79004181',\n",
       " '78001403',\n",
       " '76004127',\n",
       " '75001436',\n",
       " '74001433',\n",
       " '73004243',\n",
       " '72004187',\n",
       " '71004241',\n",
       " '70001451',\n",
       " '68004300',\n",
       " '67004328',\n",
       " '66004306',\n",
       " '65001566',\n",
       " '64000000',\n",
       " '63001383']"
      ]
     },
     "execution_count": 9,
     "metadata": {},
     "output_type": "execute_result"
    }
   ],
   "source": [
    "get_main_branch_unique_ids(subtree, '128003759')"
   ]
  },
  {
   "cell_type": "code",
   "execution_count": 10,
   "metadata": {},
   "outputs": [
    {
     "name": "stdout",
     "output_type": "stream",
     "text": [
      "(128, 3759)\n",
      "(126, 1334)\n",
      "(125, 1236)\n",
      "(124, 1260)\n",
      "(123, 1266)\n",
      "(122, 3770)\n",
      "(121, 3783)\n",
      "(120, 1248)\n",
      "(119, 1272)\n",
      "(118, 1290)\n",
      "(117, 1286)\n",
      "(116, 3658)\n",
      "(115, 3669)\n",
      "(114, 1298)\n",
      "(113, 1326)\n",
      "(112, 1348)\n",
      "(111, 1368)\n",
      "(110, 3634)\n",
      "(109, 3643)\n",
      "(108, 1324)\n",
      "(106, 1365)\n",
      "(103, 3756)\n",
      "(101, 3822)\n",
      "(100, 1341)\n",
      "(99, 3962)\n",
      "(98, 3894)\n",
      "(97, 1314)\n",
      "(96, 3941)\n",
      "(95, 1312)\n",
      "(94, 1340)\n",
      "(93, 1328)\n",
      "(92, 3892)\n",
      "(90, 3878)\n",
      "(88, 3896)\n",
      "(87, 1319)\n",
      "(85, 1356)\n",
      "(84, 4051)\n",
      "(83, 1355)\n",
      "(82, 4099)\n",
      "(81, 1380)\n",
      "(80, 1391)\n",
      "(79, 4181)\n",
      "(78, 1403)\n",
      "(76, 4127)\n",
      "(75, 1436)\n",
      "(74, 1433)\n",
      "(73, 4243)\n",
      "(72, 4187)\n",
      "(71, 4241)\n",
      "(70, 1451)\n",
      "(68, 4300)\n",
      "(67, 4328)\n",
      "(66, 4306)\n",
      "(65, 1566)\n",
      "(64, 0)\n",
      "(63, 1383)\n"
     ]
    }
   ],
   "source": [
    "for unique_id in get_main_branch_unique_ids(subtree, '128003759'):\n",
    "    print(split_unique_id(int(unique_id)))"
   ]
  },
  {
   "cell_type": "code",
   "execution_count": null,
   "metadata": {},
   "outputs": [],
   "source": []
  }
 ],
 "metadata": {
  "kernelspec": {
   "display_name": "Python 3",
   "language": "python",
   "name": "python3"
  },
  "language_info": {
   "codemirror_mode": {
    "name": "ipython",
    "version": 3
   },
   "file_extension": ".py",
   "mimetype": "text/x-python",
   "name": "python",
   "nbconvert_exporter": "python",
   "pygments_lexer": "ipython3",
   "version": "3.6.10"
  }
 },
 "nbformat": 4,
 "nbformat_minor": 4
}
