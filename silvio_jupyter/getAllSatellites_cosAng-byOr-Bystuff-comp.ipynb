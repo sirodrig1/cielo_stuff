{
 "cells": [
  {
   "cell_type": "code",
   "execution_count": 1,
   "metadata": {},
   "outputs": [],
   "source": [
    "import h5py\n",
    "import pylab as pl\n",
    "import numpy as np\n",
    "import scipy.stats as sp\n",
    "import matplotlib as mpl\n",
    "import networkx\n",
    "import progressbar\n",
    "import astropy.cosmology as apc"
   ]
  },
  {
   "cell_type": "code",
   "execution_count": 2,
   "metadata": {},
   "outputs": [],
   "source": [
    "def split_unique_id(unique_id):\n",
    "    \"\"\"Splits the ids assign to the subhalos by the merger tree code by snap number and subfind number \"\"\"\n",
    "    subfind_number = int(unique_id % 1e6)\n",
    "    snap_number = int((unique_id - subfind_number) / 1e6)\n",
    "    \n",
    "    return snap_number, subfind_number\n",
    "\n",
    "def get_main_branch_unique_ids(subtree, node):\n",
    "    \"\"\"Gets the unique ids of the subhalos belonging to the main branch of the selected subhalo (node)\"\"\"\n",
    "    mpb = [node, ]\n",
    "    i = 0\n",
    "    while True:\n",
    "        succesors = list(subtree.successors(node))\n",
    "        if len(succesors) == 0:\n",
    "            break\n",
    "        node = succesors[0] # select only the first succesor (main branch)\n",
    "        mpb.append(node)\n",
    "        \n",
    "    return mpb"
   ]
  },
  {
   "cell_type": "code",
   "execution_count": 3,
   "metadata": {},
   "outputs": [],
   "source": [
    "pl.rc('font', size = 20)\n",
    "pl.rc('legend', fontsize = 20)\n",
    "sim = h5py.File('/data/cielo/simulations/LG1/LG1.hdf5', 'r')\n",
    "trees = networkx.read_multiline_adjlist('/data/cielo/simulations/LG1/LG1_tree.dat')"
   ]
  },
  {
   "cell_type": "code",
   "execution_count": 4,
   "metadata": {},
   "outputs": [
    {
     "data": {
      "text/plain": [
       "19"
      ]
     },
     "execution_count": 4,
     "metadata": {},
     "output_type": "execute_result"
    }
   ],
   "source": [
    "Slist = h5py.File('SatelliteList_V2_withAngles_n500.h5', 'r')\n",
    "Satellites = Slist['SatelliteList'][()]\n",
    "Centrals = Slist['SatelliteCentral'][()]\n",
    "CosCen = Slist['CosCen'][()]\n",
    "CosVel = Slist['CosVel'][()]\n",
    "#LzL = Slist['LZ_L'][()]\n",
    "Satellites.size"
   ]
  },
  {
   "cell_type": "code",
   "execution_count": 5,
   "metadata": {},
   "outputs": [],
   "source": [
    "# a bunch of constants\n",
    "UnitMass_in_g = 1.989e+43\n",
    "UnitTime_in_s = 3.08568e+16\n",
    "UnitVelocity_in_cm_per_s = 100000\n",
    "UnitDensity_in_cgs = 6.7699e-22\n",
    "UnitEnergy_in_cgs = 1.989e+53\n",
    "GAMMA_MINUS1 = 2./3.\n",
    "PROTONMASS = 1.6726e-24\n",
    "BOLTZMANN = 1.3806e-16    \n",
    "\n",
    "HMass = 1.00794\n",
    "FeMass = 55.845\n",
    "OMass = 15.9994\n",
    "NfeNhe_sun = -4.5 # grevesse & saundall 98\n",
    "NoNfe_sun = 1.33 # same\n",
    "\n",
    "def tempFromMass(Mass, Abund, IE, ne1):\n",
    "    XH = Abund[:,6]/Mass\n",
    "    yHelium = (1. - XH)/(4.*XH)\n",
    "    mu = (1 + 4.* yHelium)/ (1.+ yHelium + ne1 )\n",
    "    temp = GAMMA_MINUS1 * IE * mu * 1.6726 / 1.3806 * 1.e-8 # / BOLTZMANN  * PROTONMASS\n",
    "    temp = temp * 1e10 #   UnitEnergy_in_cgs / UnitMass_in_g;\n",
    "    return temp"
   ]
  },
  {
   "cell_type": "code",
   "execution_count": 6,
   "metadata": {},
   "outputs": [],
   "source": [
    "#ok, now the serialized version of the get particles for each Satellite, lets see.\n",
    "TdayTotalIDs = sim['SnapNumber_128/PartType0/ParticleIDs'][()] # need this first\n",
    "I= np.identity(3) # and this"
   ]
  },
  {
   "cell_type": "code",
   "execution_count": null,
   "metadata": {},
   "outputs": [],
   "source": []
  },
  {
   "cell_type": "code",
   "execution_count": 7,
   "metadata": {},
   "outputs": [],
   "source": [
    "def getAllLastP(fofID, centralID):\n",
    "    \"\"\"\n",
    "    get position, masses and abundances of all particles that in past snapshot belong to a given subhalo,\n",
    "    and a z=0 are located at athe maximum distance of 600 kpc to the subhalo,\n",
    "    rotated by the velocity and the vector to the centre.\n",
    "    \"\"\"\n",
    "    uniqueID = int(128*1e6+fofID)\n",
    "    stree = networkx.dfs_tree(trees, str(uniqueID))\n",
    "    mtree = get_main_branch_unique_ids(stree, str(uniqueID))\n",
    "    \n",
    "    #firts find all the particleIDs that once belong to the subgroup\n",
    "    Idlist = []\n",
    "    templist = []\n",
    "    templist2 = []\n",
    "    \n",
    "    for mm in mtree[1:]: # ignore the first one\n",
    "        snap, idd = split_unique_id(int(mm))\n",
    "        tempOff = sim['SnapNumber_{}/SubGroups/PartType0/Offsets'.format(snap)][idd].astype('int')\n",
    "        if tempOff[0]>= 0 and tempOff[1]>=0:\n",
    "            tempIds = sim['SnapNumber_{}/PartType0/ParticleIDs'.format(snap)][tempOff[0]:tempOff[1]]\n",
    "#             # and the temperature\n",
    "            IE = sim['SnapNumber_{}/PartType0/InternalEnergy'.format(snap)][tempOff[0]:tempOff[1]]\n",
    "            Mass = sim['SnapNumber_{}/PartType0/Masses'.format(snap)][tempOff[0]:tempOff[1]]\n",
    "            Abund = sim['SnapNumber_{}/PartType0/Abundances'.format(snap)][tempOff[0]:tempOff[1]]\n",
    "            ne1 = sim['SnapNumber_{}/PartType0/ElectronAbundance'.format(snap)][tempOff[0]:tempOff[1]]\n",
    "            val2 = tempFromMass(Mass, Abund, IE, ne1)\n",
    "            templist2.extend(list(val2))\n",
    "            # and the metallicity\n",
    "            AbundatTime = sim['SnapNumber_{}/PartType0/Abundances'.format(snap)][tempOff[0]:tempOff[1]]\n",
    "#             val = np.log10((AbundatTime[:,4]/FeMass)/(AbundatTime[:,6]/HMass)) - NfeNhe_sun\n",
    "            val = (AbundatTime[:,4]/FeMass)/(AbundatTime[:,6]/HMass)\n",
    "            templist.extend(list(val))\n",
    "            #zz = sim['SnapNumber_{}/Header/Redshift'.format(snap)][()]\n",
    "            #templist.extend([zz]*tempIds.size)\n",
    "            Idlist.extend(list(tempIds))\n",
    "\n",
    "    Idlist = np.array(Idlist)\n",
    "    templist = np.array(templist)\n",
    "    templist2 = np.array(templist2)\n",
    "    \n",
    "    Idlist, Idunique = np.unique(Idlist, return_index=True) # remove duplicates\n",
    "    templist = templist[Idunique]\n",
    "    templist2 = templist2[Idunique]\n",
    "    \n",
    "    TdayOff = sim['SnapNumber_128/SubGroups/PartType0/Offsets'][fofID].astype('int')\n",
    "    \n",
    "    IndexToday = np.in1d(TdayTotalIDs, Idlist)\n",
    "    IndexToday_ = np.where(IndexToday)[0]\n",
    "    \n",
    "    # lets remove the ones that are not part of the group today.\n",
    "    TdayIDs = sim['SnapNumber_128/PartType0/ParticleIDs'][TdayOff[0]:TdayOff[1]]\n",
    "\n",
    "    IndexNot = np.in1d(Idlist, TdayIDs)\n",
    "    IdNot = Idlist[np.where(IndexNot==False)[0]]\n",
    "\n",
    "    IndexT = np.in1d(TdayTotalIDs, IdNot)\n",
    "    IndexT_ = np.where(IndexT)[0]\n",
    "    \n",
    "    # and temperature\n",
    "    SurvIds_ = TdayTotalIDs[IndexT_]\n",
    "    iidex = np.in1d(Idlist, SurvIds_)\n",
    "    iidex_ = np.where(iidex)[0]\n",
    "    templist_, Idlist_ = templist[iidex_], Idlist[iidex_]\n",
    "    templist2_ = templist2[iidex_]\n",
    "\n",
    "    is1 = np.argsort(SurvIds_) # the target\n",
    "    is2 = np.argsort(Idlist_)\n",
    "\n",
    "    temporder = np.zeros(IndexT_.size)\n",
    "    temporder[is1] = templist_[is2]\n",
    "    \n",
    "    temporder2 = np.zeros(IndexT_.size)\n",
    "    temporder2[is1] = templist2_[is2]\n",
    "    \n",
    "    #now lets cut at  a certain distance\n",
    "    #distance = 600 # distance in ckpc\n",
    "    distance = 200\n",
    "    \n",
    "    posGal = sim['SnapNumber_128/SubGroups/SubGroupPos'][fofID]\n",
    "    posCen = sim['SnapNumber_128/SubGroups/SubGroupPos'][centralID]\n",
    "\n",
    "    LostCoord = sim['SnapNumber_128/PartType0/Coordinates'][IndexT_]\n",
    "    \n",
    "    dx, dy, dz = LostCoord[:,0]-posGal[0], LostCoord[:,1]-posGal[1], LostCoord[:,2]-posGal[2]\n",
    "    distToC = np.sqrt(dx**2+dy**2+dz**2)\n",
    "\n",
    "    icut = np.where(distToC<distance)[0]\n",
    "    IndexT_near = IndexT_[icut] # this is the final list of particles ids\n",
    "    temporder_near = temporder[icut]\n",
    "    temporder_near2 = temporder2[icut]\n",
    "    \n",
    "    # ok, lest see velocity and stuff\n",
    "    velCen = sim['SnapNumber_128/SubGroups/SubGroupVel'][centralID]\n",
    "    velSat = sim['SnapNumber_128/SubGroups/SubGroupVel'][fofID]\n",
    "\n",
    "    velRep = velSat - velCen\n",
    "    \n",
    "    GasMasses = sim['SnapNumber_128/PartType0/Masses'][IndexT_near]\n",
    "    GassAbundances = sim['SnapNumber_128/PartType0/Abundances'][IndexT_near]\n",
    "    \n",
    "    NearCoord = sim['SnapNumber_128/PartType0/Coordinates'][IndexT_near]\n",
    "\n",
    "    # WARNING, dangerous replacement\n",
    "#     temporder_near = sim['SnapNumber_128/PartType0/StarFormationRate'][IndexT_near]\n",
    "    #END WARNING\n",
    "    \n",
    "#     IE0 = sim['SnapNumber_128/PartType0/InternalEnergy'][IndexT_near]\n",
    "#     ne10 = sim['SnapNumber_128/PartType0/ElectronAbundance'][IndexT_near]\n",
    "#     t0 = tempFromMass(GasMasses, GassAbundances, IE0, ne10)\n",
    "    \n",
    "#     temporder_near = temporder_near - t0\n",
    "#     temporder_near = t0 # not so subtle replacement\n",
    "    # first lets re-define coordinates in a galactocentric scheme.\n",
    "    X, Y, Z = NearCoord[:,0] - posGal[0], NearCoord[:,1] - posGal[1], NearCoord[:,2] - posGal[2]\n",
    "    xC, yC, zC = posCen[0] - posGal[0], posCen[1] - posGal[1], posCen[2] - posGal[2] # the direction of the centre from the galaxy\n",
    "    \n",
    "    # now define normalized vectors, for velocity and centre directions\n",
    "    velX, velY, velZ = velRep[0], velRep[1], velRep[2]\n",
    "    Vel = np.sqrt(velX**2 + velY**2 + velZ**2)\n",
    "    Cen = np.sqrt(xC**2 + yC**2 + zC**2)\n",
    "\n",
    "    velx, vely, velz = velX/Vel, velY/Vel, velZ/Vel\n",
    "    xc, yc, zc = xC/Cen, yC/Cen, zC/Cen\n",
    "    \n",
    "    # Then, the rotations matrix are, for velocity\n",
    "    faV = (1-velx)/(vely**2 + velz**2)\n",
    "    VV = np.array([[0, vely, velz], [-vely, 0, 0], [-velz, 0, 0]])\n",
    "    VV2 = np.matmul(VV, VV)\n",
    "\n",
    "    RV = I + VV + VV2*faV\n",
    "    \n",
    "    # and for the direction to the centre\n",
    "    faC = (1-xc)/(yc**2+zc**2)\n",
    "    CC = np.array([[0, yc, zc], [-yc, 0, 0], [-zc, 0, 0]])\n",
    "    CC2 = np.matmul(CC, CC)\n",
    "\n",
    "    RC = I + CC + CC2*faC\n",
    "    \n",
    "    # lets calculate the rotated coordinates\n",
    "    xRv, yRv, zRv = [], [], []\n",
    "    xRc, yRc, zRc = [], [], []\n",
    "\n",
    "    for x, y, z in zip(X, Y, Z):\n",
    "        dV = np.matmul(RV, np.array([x, y, z]))\n",
    "        dC = np.matmul(RC, np.array([x, y, z]))\n",
    "    \n",
    "        xRv.append(dV[0])\n",
    "        yRv.append(dV[1])\n",
    "        zRv.append(dV[2])\n",
    "    \n",
    "        xRc.append(dC[0])\n",
    "        yRc.append(dC[1])\n",
    "        zRc.append(dC[2])\n",
    "    \n",
    "    xRv, yRv, zRv = np.array(xRv), np.array(yRv), np.array(zRv)\n",
    "    xRc, yRc, zRc = np.array(xRc), np.array(yRc), np.array(zRc)\n",
    "    \n",
    "    # now, I only need one number, the cos stuff\n",
    "    cosC = xRc/np.sqrt(xRc**2.+yRc**2.+zRc**2.)\n",
    "    cosV = xRv/np.sqrt(xRv**2.+yRv**2.+zRv**2.)\n",
    "    \n",
    "    # and return the 2 sets of rotated positions, masses and abundances\n",
    "    return cosV, cosC, GasMasses, GassAbundances, temporder_near, temporder_near2"
   ]
  },
  {
   "cell_type": "code",
   "execution_count": 8,
   "metadata": {},
   "outputs": [
    {
     "data": {
      "text/plain": [
       "Text(0.5, 0, 'r/r_200')"
      ]
     },
     "execution_count": 8,
     "metadata": {},
     "output_type": "execute_result"
    },
    {
     "data": {
      "image/png": "[encoded data removed]",
      "text/plain": [
       "<Figure size 1008x720 with 1 Axes>"
      ]
     },
     "metadata": {
      "needs_background": "light"
     },
     "output_type": "display_data"
    }
   ],
   "source": [
    "# lets test somo clean up by separation.\n",
    "R200, GalCen, GroCen = [], [], []\n",
    "\n",
    "for ss, cc in zip(Satellites, Centrals):\n",
    "    group = sim['SnapNumber_128/SubGroups/GroupNumber'][cc]\n",
    "    r200 = sim['SnapNumber_128/Groups/Group_R_Crit200'][group]\n",
    "    galCen = sim['SnapNumber_128/SubGroups/SubGroupPos'][ss]\n",
    "    groCen = sim['SnapNumber_128/SubGroups/SubGroupPos'][cc]\n",
    "    \n",
    "    R200.append(r200)\n",
    "    GalCen.append(galCen)\n",
    "    GroCen.append(groCen)\n",
    "\n",
    "R200, GalCen, GroCen = np.array(R200), np.array(GalCen), np.array(GroCen)\n",
    "\n",
    "sep = GalCen - GroCen\n",
    "dist = np.sqrt(sep[:,0]**2+sep[:,1]**2+sep[:,2]**2)\n",
    "dist = dist/R200\n",
    "\n",
    "# Satellites = Slist['SatelliteList'][()]\n",
    "# Centrals = Slist['SatelliteCentral'][()]\n",
    "# CosCen = Slist['CosCen'][()]\n",
    "# CosVel = Slist['CosVel'][()]\n",
    "# LzL = Slist['LZ_L'][()]\n",
    "\n",
    "pl.figure(figsize=(14, 10))\n",
    "\n",
    "pl.hist(dist, histtype='step')\n",
    "pl.ylabel('number of galaxies')\n",
    "pl.xlabel('r/r_200')"
   ]
  },
  {
   "cell_type": "code",
   "execution_count": 9,
   "metadata": {},
   "outputs": [
    {
     "data": {
      "text/plain": [
       "(14, -0.9617047452183579)"
      ]
     },
     "execution_count": 9,
     "metadata": {},
     "output_type": "execute_result"
    }
   ],
   "source": [
    "ir = np.where(dist>0.5)\n",
    "\n",
    "Satellites = Satellites[ir]\n",
    "Centrals = Centrals[ir]\n",
    "CosCen = CosCen[ir]\n",
    "CosVel = CosVel[ir]\n",
    "#LzL = LzL[ir]\n",
    "\n",
    "Satellites.size, CosCen.min()"
   ]
  },
  {
   "cell_type": "code",
   "execution_count": 10,
   "metadata": {},
   "outputs": [
    {
     "name": "stderr",
     "output_type": "stream",
     "text": [
      "100% (14 of 14) |########################| Elapsed Time: 0:04:09 ETA:  00:00:00"
     ]
    },
    {
     "data": {
      "text/plain": [
       "14"
      ]
     },
     "execution_count": 10,
     "metadata": {},
     "output_type": "execute_result"
    }
   ],
   "source": [
    "#all\n",
    "size = Satellites.size\n",
    "\n",
    "bar = progressbar.ProgressBar(max_value=size)\n",
    "C, passs = 0, 0\n",
    "\n",
    "CosRv_1, CosRc_1, GASMasses_1, GASAbundances_1, temp_1, temp2_1 = [], [], [], [], [], []\n",
    "# CosRv, CosRc, GASMasses, GASAbundances, temp = [], [], [], [], []\n",
    "StarMass_1 = []\n",
    "\n",
    "for ff, cc in zip(Satellites, Centrals):\n",
    "    #try:\n",
    "    cosRv, cosRc, GasMasses, GasAbundances, ttemp, ttemp2 = getAllLastP(ff, cc)\n",
    "#     cosRv, cosRc, GasMasses, GasAbundances, ttemp = getAllLastP(ff, cc)\n",
    "    passs += 1\n",
    "    #except:\n",
    "     #   C += 1\n",
    "      #  continue\n",
    "    \n",
    "    CosRv_1.extend(list(cosRv))\n",
    "    CosRc_1.extend(list(cosRc))\n",
    "    GASMasses_1.extend(list(GasMasses))\n",
    "    GASAbundances_1.extend(list(GasAbundances))\n",
    "    temp_1.extend(list(ttemp))\n",
    "    temp2_1.extend(list(ttemp2))\n",
    "    \n",
    "    # and star masses\n",
    "    offst = sim['SnapNumber_128/SubGroups/PartType4/Offsets'][ff].astype('int')\n",
    "    STMass = sim['SnapNumber_128/PartType4/Masses'][offst[0]:offst[1]]\n",
    "    STM = np.sum(STMass)\n",
    "    \n",
    "    StarMass_1.extend([STM]*cosRv.size)\n",
    "    \n",
    "    C += 1\n",
    "    bar.update(C)\n",
    "    \n",
    "CosRv_1, CosRc_1, GASMasses_1, GASAbundances_1 = np.array(CosRv_1), np.array(CosRc_1), np.array(GASMasses_1), np.array(GASAbundances_1)\n",
    "StarMass_1 = np.array(StarMass_1)\n",
    "temp_1 = np.array(temp_1)\n",
    "temp2_1 = np.array(temp2_1)\n",
    "passs"
   ]
  },
  {
   "cell_type": "code",
   "execution_count": 11,
   "metadata": {},
   "outputs": [
    {
     "data": {
      "text/plain": [
       "11"
      ]
     },
     "execution_count": 11,
     "metadata": {},
     "output_type": "execute_result"
    }
   ],
   "source": [
    "Slist = h5py.File('SatelliteList_V2_withAngles_n500_KoK04.h5', 'r')\n",
    "Satellites = Slist['SatelliteList'][()]\n",
    "Centrals = Slist['SatelliteCentral'][()]\n",
    "CosCen = Slist['CosCen'][()]\n",
    "CosVel = Slist['CosVel'][()]\n",
    "#LzL = Slist['LZ_L'][()]\n",
    "Satellites.size"
   ]
  },
  {
   "cell_type": "code",
   "execution_count": 12,
   "metadata": {},
   "outputs": [
    {
     "data": {
      "text/plain": [
       "Text(0.5, 0, 'r/r_200')"
      ]
     },
     "execution_count": 12,
     "metadata": {},
     "output_type": "execute_result"
    },
    {
     "data": {
      "image/png": "[encoded data removed]",
      "text/plain": [
       "<Figure size 1008x720 with 1 Axes>"
      ]
     },
     "metadata": {
      "needs_background": "light"
     },
     "output_type": "display_data"
    }
   ],
   "source": [
    "# lets test somo clean up by separation.\n",
    "R200, GalCen, GroCen = [], [], []\n",
    "\n",
    "for ss, cc in zip(Satellites, Centrals):\n",
    "    group = sim['SnapNumber_128/SubGroups/GroupNumber'][cc]\n",
    "    r200 = sim['SnapNumber_128/Groups/Group_R_Crit200'][group]\n",
    "    galCen = sim['SnapNumber_128/SubGroups/SubGroupPos'][ss]\n",
    "    groCen = sim['SnapNumber_128/SubGroups/SubGroupPos'][cc]\n",
    "    \n",
    "    R200.append(r200)\n",
    "    GalCen.append(galCen)\n",
    "    GroCen.append(groCen)\n",
    "\n",
    "R200, GalCen, GroCen = np.array(R200), np.array(GalCen), np.array(GroCen)\n",
    "\n",
    "sep = GalCen - GroCen\n",
    "dist = np.sqrt(sep[:,0]**2+sep[:,1]**2+sep[:,2]**2)\n",
    "dist = dist/R200\n",
    "\n",
    "# Satellites = Slist['SatelliteList'][()]\n",
    "# Centrals = Slist['SatelliteCentral'][()]\n",
    "# CosCen = Slist['CosCen'][()]\n",
    "# CosVel = Slist['CosVel'][()]\n",
    "# LzL = Slist['LZ_L'][()]\n",
    "\n",
    "pl.figure(figsize=(14, 10))\n",
    "\n",
    "pl.hist(dist, histtype='step')\n",
    "pl.ylabel('number of galaxies')\n",
    "pl.xlabel('r/r_200')"
   ]
  },
  {
   "cell_type": "code",
   "execution_count": 13,
   "metadata": {},
   "outputs": [
    {
     "data": {
      "text/plain": [
       "(8, -0.9617047452183579)"
      ]
     },
     "execution_count": 13,
     "metadata": {},
     "output_type": "execute_result"
    }
   ],
   "source": [
    "ir = np.where(dist>0.5)\n",
    "\n",
    "Satellites = Satellites[ir]\n",
    "Centrals = Centrals[ir]\n",
    "CosCen = CosCen[ir]\n",
    "CosVel = CosVel[ir]\n",
    "#LzL = LzL[ir]\n",
    "\n",
    "Satellites.size, CosCen.min()"
   ]
  },
  {
   "cell_type": "code",
   "execution_count": 14,
   "metadata": {},
   "outputs": [
    {
     "name": "stderr",
     "output_type": "stream",
     "text": [
      "100% (8 of 8) |##########################| Elapsed Time: 0:03:28 ETA:  00:00:00"
     ]
    },
    {
     "data": {
      "text/plain": [
       "8"
      ]
     },
     "execution_count": 14,
     "metadata": {},
     "output_type": "execute_result"
    }
   ],
   "source": [
    "#all\n",
    "size = Satellites.size\n",
    "\n",
    "bar = progressbar.ProgressBar(max_value=size)\n",
    "C, passs = 0, 0\n",
    "\n",
    "CosRv_2, CosRc_2, GASMasses_2, GASAbundances_2, temp_2, temp2_2 = [], [], [], [], [], []\n",
    "# CosRv, CosRc, GASMasses, GASAbundances, temp = [], [], [], [], []\n",
    "StarMass_2 = []\n",
    "\n",
    "for ff, cc in zip(Satellites, Centrals):\n",
    "    #try:\n",
    "    cosRv, cosRc, GasMasses, GasAbundances, ttemp, ttemp2 = getAllLastP(ff, cc)\n",
    "#     cosRv, cosRc, GasMasses, GasAbundances, ttemp = getAllLastP(ff, cc)\n",
    "    passs += 1\n",
    "    #except:\n",
    "     #   C += 1\n",
    "      #  continue\n",
    "    \n",
    "    CosRv_2.extend(list(cosRv))\n",
    "    CosRc_2.extend(list(cosRc))\n",
    "    GASMasses_2.extend(list(GasMasses))\n",
    "    GASAbundances_2.extend(list(GasAbundances))\n",
    "    temp_2.extend(list(ttemp))\n",
    "    temp2_2.extend(list(ttemp2))\n",
    "    \n",
    "    # and star masses\n",
    "    offst = sim['SnapNumber_128/SubGroups/PartType4/Offsets'][ff].astype('int')\n",
    "    STMass = sim['SnapNumber_128/PartType4/Masses'][offst[0]:offst[1]]\n",
    "    STM = np.sum(STMass)\n",
    "    \n",
    "    StarMass_2.extend([STM]*cosRv.size)\n",
    "    \n",
    "    C += 1\n",
    "    bar.update(C)\n",
    "    \n",
    "CosRv_2, CosRc_2, GASMasses_2, GASAbundances_2 = np.array(CosRv_2), np.array(CosRc_2), np.array(GASMasses_2), np.array(GASAbundances_2)\n",
    "StarMass_2 = np.array(StarMass_2)\n",
    "temp_2 = np.array(temp_2)\n",
    "temp2_2 = np.array(temp2_2)\n",
    "passs"
   ]
  },
  {
   "cell_type": "code",
   "execution_count": null,
   "metadata": {},
   "outputs": [],
   "source": []
  },
  {
   "cell_type": "code",
   "execution_count": null,
   "metadata": {},
   "outputs": [],
   "source": []
  },
  {
   "cell_type": "code",
   "execution_count": null,
   "metadata": {},
   "outputs": [],
   "source": []
  },
  {
   "cell_type": "code",
   "execution_count": null,
   "metadata": {},
   "outputs": [],
   "source": []
  },
  {
   "cell_type": "code",
   "execution_count": null,
   "metadata": {},
   "outputs": [],
   "source": []
  },
  {
   "cell_type": "code",
   "execution_count": null,
   "metadata": {},
   "outputs": [],
   "source": []
  },
  {
   "cell_type": "code",
   "execution_count": null,
   "metadata": {},
   "outputs": [],
   "source": []
  },
  {
   "cell_type": "code",
   "execution_count": null,
   "metadata": {},
   "outputs": [],
   "source": []
  },
  {
   "cell_type": "code",
   "execution_count": null,
   "metadata": {},
   "outputs": [],
   "source": []
  },
  {
   "cell_type": "code",
   "execution_count": null,
   "metadata": {},
   "outputs": [],
   "source": []
  },
  {
   "cell_type": "code",
   "execution_count": null,
   "metadata": {},
   "outputs": [],
   "source": []
  },
  {
   "cell_type": "code",
   "execution_count": null,
   "metadata": {},
   "outputs": [],
   "source": []
  },
  {
   "cell_type": "code",
   "execution_count": null,
   "metadata": {},
   "outputs": [],
   "source": []
  },
  {
   "cell_type": "code",
   "execution_count": null,
   "metadata": {},
   "outputs": [],
   "source": []
  },
  {
   "cell_type": "code",
   "execution_count": null,
   "metadata": {},
   "outputs": [],
   "source": []
  },
  {
   "cell_type": "code",
   "execution_count": null,
   "metadata": {},
   "outputs": [],
   "source": []
  },
  {
   "cell_type": "code",
   "execution_count": null,
   "metadata": {},
   "outputs": [],
   "source": []
  },
  {
   "cell_type": "code",
   "execution_count": null,
   "metadata": {},
   "outputs": [],
   "source": []
  },
  {
   "cell_type": "code",
   "execution_count": null,
   "metadata": {},
   "outputs": [],
   "source": []
  },
  {
   "cell_type": "code",
   "execution_count": null,
   "metadata": {},
   "outputs": [],
   "source": []
  },
  {
   "cell_type": "code",
   "execution_count": null,
   "metadata": {},
   "outputs": [],
   "source": []
  },
  {
   "cell_type": "code",
   "execution_count": null,
   "metadata": {},
   "outputs": [],
   "source": []
  },
  {
   "cell_type": "code",
   "execution_count": null,
   "metadata": {},
   "outputs": [],
   "source": []
  },
  {
   "cell_type": "code",
   "execution_count": null,
   "metadata": {},
   "outputs": [],
   "source": []
  },
  {
   "cell_type": "code",
   "execution_count": null,
   "metadata": {},
   "outputs": [],
   "source": []
  },
  {
   "cell_type": "code",
   "execution_count": null,
   "metadata": {},
   "outputs": [],
   "source": []
  },
  {
   "cell_type": "code",
   "execution_count": null,
   "metadata": {},
   "outputs": [],
   "source": []
  },
  {
   "cell_type": "code",
   "execution_count": null,
   "metadata": {},
   "outputs": [],
   "source": []
  },
  {
   "cell_type": "code",
   "execution_count": null,
   "metadata": {},
   "outputs": [],
   "source": []
  },
  {
   "cell_type": "code",
   "execution_count": null,
   "metadata": {},
   "outputs": [],
   "source": []
  },
  {
   "cell_type": "code",
   "execution_count": null,
   "metadata": {},
   "outputs": [],
   "source": []
  },
  {
   "cell_type": "code",
   "execution_count": null,
   "metadata": {},
   "outputs": [],
   "source": []
  },
  {
   "cell_type": "code",
   "execution_count": null,
   "metadata": {},
   "outputs": [],
   "source": []
  },
  {
   "cell_type": "code",
   "execution_count": null,
   "metadata": {},
   "outputs": [],
   "source": []
  },
  {
   "cell_type": "code",
   "execution_count": null,
   "metadata": {},
   "outputs": [],
   "source": []
  },
  {
   "cell_type": "code",
   "execution_count": null,
   "metadata": {},
   "outputs": [],
   "source": []
  },
  {
   "cell_type": "code",
   "execution_count": null,
   "metadata": {},
   "outputs": [],
   "source": []
  },
  {
   "cell_type": "code",
   "execution_count": null,
   "metadata": {},
   "outputs": [],
   "source": []
  },
  {
   "cell_type": "code",
   "execution_count": null,
   "metadata": {},
   "outputs": [],
   "source": []
  },
  {
   "cell_type": "code",
   "execution_count": null,
   "metadata": {},
   "outputs": [],
   "source": []
  },
  {
   "cell_type": "code",
   "execution_count": null,
   "metadata": {},
   "outputs": [],
   "source": []
  },
  {
   "cell_type": "code",
   "execution_count": null,
   "metadata": {},
   "outputs": [],
   "source": []
  },
  {
   "cell_type": "code",
   "execution_count": null,
   "metadata": {},
   "outputs": [],
   "source": []
  },
  {
   "cell_type": "code",
   "execution_count": null,
   "metadata": {},
   "outputs": [],
   "source": []
  },
  {
   "cell_type": "code",
   "execution_count": null,
   "metadata": {},
   "outputs": [],
   "source": []
  },
  {
   "cell_type": "code",
   "execution_count": null,
   "metadata": {},
   "outputs": [],
   "source": []
  },
  {
   "cell_type": "code",
   "execution_count": null,
   "metadata": {},
   "outputs": [],
   "source": []
  },
  {
   "cell_type": "code",
   "execution_count": null,
   "metadata": {},
   "outputs": [],
   "source": []
  },
  {
   "cell_type": "code",
   "execution_count": null,
   "metadata": {},
   "outputs": [],
   "source": []
  },
  {
   "cell_type": "code",
   "execution_count": null,
   "metadata": {},
   "outputs": [],
   "source": []
  },
  {
   "cell_type": "code",
   "execution_count": null,
   "metadata": {},
   "outputs": [],
   "source": []
  },
  {
   "cell_type": "code",
   "execution_count": null,
   "metadata": {},
   "outputs": [],
   "source": []
  },
  {
   "cell_type": "code",
   "execution_count": null,
   "metadata": {},
   "outputs": [],
   "source": []
  },
  {
   "cell_type": "code",
   "execution_count": null,
   "metadata": {},
   "outputs": [],
   "source": []
  },
  {
   "cell_type": "code",
   "execution_count": null,
   "metadata": {},
   "outputs": [],
   "source": []
  },
  {
   "cell_type": "code",
   "execution_count": null,
   "metadata": {},
   "outputs": [],
   "source": []
  },
  {
   "cell_type": "code",
   "execution_count": 15,
   "metadata": {},
   "outputs": [
    {
     "name": "stderr",
     "output_type": "stream",
     "text": [
      "/home/srodriguez/miniconda3/envs/cielo_old/lib/python3.6/site-packages/ipykernel_launcher.py:21: RuntimeWarning: invalid value encountered in true_divide\n",
      "/home/srodriguez/miniconda3/envs/cielo_old/lib/python3.6/site-packages/ipykernel_launcher.py:30: RuntimeWarning: invalid value encountered in true_divide\n"
     ]
    },
    {
     "data": {
      "text/plain": [
       "Text(0, 0.5, '[O/Fe]')"
      ]
     },
     "execution_count": 15,
     "metadata": {},
     "output_type": "execute_result"
    },
    {
     "data": {
      "image/png": "[encoded data removed]",
      "text/plain": [
       "<Figure size 1008x504 with 2 Axes>"
      ]
     },
     "metadata": {
      "needs_background": "light"
     },
     "output_type": "display_data"
    }
   ],
   "source": [
    "# cos V for both\n",
    "\n",
    "pl.figure(figsize=(14, 7))\n",
    "pl.subplots_adjust(wspace=0.35)\n",
    "# sumC1_V, binsC1_V, zipC1_V = sp.binned_statistic(CosRc_V1, GASAbundances_V1[:,5]/StarMass_V1, statistic='sum', bins=7, range=(-1.,1.))\n",
    "# sumC2_V, binsC2_V, zipC2_V = sp.binned_statistic(CosRc_V2, GASAbundances_V2[:,5]/StarMass_V2, statistic='sum', bins=7, range=(-1.,1.))\n",
    "\n",
    "# sumV1_V, binsV1_V, zipV1_V = sp.binned_statistic(CosRv_V1, GASAbundances_V1[:,5]/StarMass_V1, statistic='sum', bins=7, range=(-1.,1.))\n",
    "# sumV2_V, binsV2_V, zipV2_V = sp.binned_statistic(CosRv_V2, GASAbundances_V2[:,5]/StarMass_V2, statistic='sum', bins=7, range=(-1.,1.))\n",
    "\n",
    "# data_1 = GASMasses_1\n",
    "# data_2 = GASMasses_2\n",
    "# weight_1 = 1./StarMass_1\n",
    "# weight_2 = 1./StarMass_2\n",
    "\n",
    "# data_1 = temp_1\n",
    "# data_2 = temp_2\n",
    "# weight_1 = np.ones(temp_1.size)\n",
    "# weight_2 = np.ones(temp_2.size)\n",
    "\n",
    "data_1 = np.log10((GASAbundances_1[:,3]/OMass)/(GASAbundances_1[:,4]/FeMass)) - NoNfe_sun\n",
    "# # # data_1 = data_1 - temp_1\n",
    "# # data_1 = temp_1\n",
    "i_1 = np.where((np.isinf(data_1)==False) & (np.isnan(data_1)==False))\n",
    "data_1 = data_1[i_1]\n",
    "CosRc_1 = CosRc_1[i_1]\n",
    "CosRv_1 = CosRv_1[i_1]\n",
    "weight_1 = np.ones(temp_1[i_1].size)\n",
    "\n",
    "data_2 = np.log10((GASAbundances_2[:,3]/OMass)/(GASAbundances_2[:,4]/FeMass)) - NoNfe_sun\n",
    "# # data_2 = data_2 - temp_2\n",
    "# # data_2 = temp_2\n",
    "i_2 = np.where((np.isinf(data_2)==False) & (np.isnan(data_2)==False))\n",
    "data_2 = data_2[i_2]\n",
    "CosRc_2 = CosRc_2[i_2]\n",
    "CosRv_2 = CosRv_2[i_2]\n",
    "weight_2 = np.ones(temp_2[i_2].size)\n",
    "\n",
    "\n",
    "# weight_1 = np.log10((GASAbundances_1[:,4]/FeMass)/(GASAbundances_1[:,6]/HMass)) - NfeNhe_sun\n",
    "# weight_1 = (GASAbundances_1[:,4]/FeMass)/(GASAbundances_1[:,6]/HMass)\n",
    "# weight_1 = temp_1\n",
    "# i_1 = np.where((np.isinf(weight_1)==False) & (np.isnan(weight_1)==False))\n",
    "# weight_1 = weight_1[i_1]\n",
    "# miwe_1 = weight_1.min()\n",
    "# weight_1 = weight_1 - miwe_1\n",
    "\n",
    "# CosRc_1 = CosRc_1[i_1]\n",
    "# CosRv_1 = CosRv_1[i_1]\n",
    "\n",
    "# data_1 = temp2_1[i_1]\n",
    "\n",
    "# weight_2 = np.log10((GASAbundances_2[:,4]/FeMass)/(GASAbundances_2[:,6]/HMass)) - NfeNhe_sun\n",
    "# weight_2 = (GASAbundances_2[:,4]/FeMass)/(GASAbundances_2[:,6]/HMass)\n",
    "# weight_2 = temp_2\n",
    "# i_2 = np.where((np.isinf(weight_2)==False) & (np.isnan(weight_2)==False))\n",
    "\n",
    "# weight_2 = weight_2[i_2]\n",
    "# miwe_2 = weight_2.min()\n",
    "# weight_2 = weight_2 - miwe_2 # one will weight 0, but, well, *shrughs*\n",
    "\n",
    "# CosRc_2 = CosRc_2[i_2]\n",
    "# CosRv_2 = CosRv_2[i_2]\n",
    "\n",
    "# data_2 = temp2_2[i_2]\n",
    "\n",
    "sumC_1, binsC_1, zipC_1 = sp.binned_statistic(CosRc_1, data_1*weight_1, statistic='sum', bins=10, range=(-1.,1.))\n",
    "sumC_2, binsC_2, zipC_2 = sp.binned_statistic(CosRc_2, data_2*weight_2, statistic='sum', bins=10, range=(-1.,1.))\n",
    "sumV_1, binsV_1, zipV_1 = sp.binned_statistic(CosRv_1, data_1*weight_1, statistic='sum', bins=10, range=(-1.,1.))\n",
    "sumV_2, binsV_2, zipV_2 = sp.binned_statistic(CosRv_2, data_2*weight_2, statistic='sum', bins=10, range=(-1.,1.))\n",
    "\n",
    "WsumC_1, binsC_1, zipC_1 = sp.binned_statistic(CosRc_1, weight_1, statistic='sum', bins=10, range=(-1.,1.))\n",
    "WsumC_2, binsC_2, zipC_2 = sp.binned_statistic(CosRc_2, weight_2, statistic='sum', bins=10, range=(-1.,1.))\n",
    "WsumV_1, binsV_1, zipV_1 = sp.binned_statistic(CosRv_1, weight_1, statistic='sum', bins=10, range=(-1.,1.))\n",
    "WsumV_2, binsV_2, zipV_2 = sp.binned_statistic(CosRv_2, weight_2, statistic='sum', bins=10, range=(-1.,1.))\n",
    "\n",
    "sumC_1 = sumC_1/WsumC_1\n",
    "sumC_2 = sumC_2/WsumC_2\n",
    "sumV_1 = sumV_1/WsumV_1\n",
    "sumV_2 = sumV_2/WsumV_2\n",
    "\n",
    "sumC_1e = sumC_1[zipC_1-1]\n",
    "sumC_2e = sumC_2[zipC_2-1]\n",
    "sumV_1e = sumV_1[zipV_1-1]\n",
    "sumV_2e = sumV_2[zipV_2-1]\n",
    "\n",
    "stdC_1, binsC_1, zipC_1 = sp.binned_statistic(CosRc_1, ((data_1-sumC_1e)*weight_1)**2., statistic='sum', bins=10, range=(-1.,1.))\n",
    "stdC_2, binsC_2, zipC_2 = sp.binned_statistic(CosRc_2, ((data_2-sumC_2e)*weight_2)**2., statistic='sum', bins=10, range=(-1.,1.))\n",
    "stdV_1, binsV_1, zipV_1 = sp.binned_statistic(CosRv_1, ((data_1-sumV_1e)*weight_1)**2., statistic='sum', bins=10, range=(-1.,1.))\n",
    "stdV_2, binsV_2, zipV_2 = sp.binned_statistic(CosRv_2, ((data_2-sumV_2e)*weight_2)**2., statistic='sum', bins=10, range=(-1.,1.))\n",
    "\n",
    "numbC_1, binsC_1, zipC_1 = sp.binned_statistic(CosRc_1, data_1, statistic='count', bins=10, range=(-1.,1.))\n",
    "numbC_2, binsC_2, zipC_2 = sp.binned_statistic(CosRc_2, data_2, statistic='count', bins=10, range=(-1.,1.))\n",
    "numbV_1, binsV_1, zipV_1 = sp.binned_statistic(CosRv_1, data_1, statistic='count', bins=10, range=(-1.,1.))\n",
    "numbV_2, binsV_2, zipV_2 = sp.binned_statistic(CosRv_2, data_2, statistic='count', bins=10, range=(-1.,1.))\n",
    "\n",
    "errC_1 = np.sqrt(numbC_1/((numbC_1-1.)*WsumC_1**2.)*stdC_1)\n",
    "errC_2 = np.sqrt(numbC_2/((numbC_2-1.)*WsumC_2**2.)*stdC_2)\n",
    "errV_1 = np.sqrt(numbV_1/((numbV_1-1.)*WsumV_1**2.)*stdV_1)\n",
    "errV_2 = np.sqrt(numbV_2/((numbV_2-1.)*WsumV_2**2.)*stdV_2)\n",
    "\n",
    "\n",
    "sumC_1, binsC_1, zipC_1 = sp.binned_statistic(CosRc_1, data_1*weight_1, statistic='median', bins=10, range=(-1.,1.))\n",
    "sumC_2, binsC_2, zipC_2 = sp.binned_statistic(CosRc_2, data_2*weight_2, statistic='median', bins=10, range=(-1.,1.))\n",
    "sumV_1, binsV_1, zipV_1 = sp.binned_statistic(CosRv_1, data_1*weight_1, statistic='median', bins=10, range=(-1.,1.))\n",
    "sumV_2, binsV_2, zipV_2 = sp.binned_statistic(CosRv_2, data_2*weight_2, statistic='median', bins=10, range=(-1.,1.))\n",
    "\n",
    "errC_1 = errC_1 * np.sqrt(np.pi/2.)\n",
    "errC_2 = errC_2 * np.sqrt(np.pi/2.)\n",
    "errV_1 = errV_1 * np.sqrt(np.pi/2.)\n",
    "errV_2 = errV_2 * np.sqrt(np.pi/2.)\n",
    "\n",
    "\n",
    "# bins should be the same\n",
    "x_x = .5*(binsV_2[:-1]+binsV_2[1:])\n",
    "\n",
    "pl.subplot(1, 2, 1)\n",
    "\n",
    "# pl.plot(x_x, sumC_1, marker='o', label='total')\n",
    "# pl.plot(x_x, sumC_2, marker='o', label='$k_{rot}/k>0.4$')\n",
    "\n",
    "pl.errorbar(x_x, sumC_1, yerr=errC_1, marker='o', label='total')\n",
    "pl.errorbar(x_x, sumC_2, yerr=errC_2, marker='o', label='$k_{rot}/k>0.4$')\n",
    "\n",
    "pl.legend(loc='best')\n",
    "\n",
    "pl.xlabel('$\\cos\\,\\phi_c$')\n",
    "# pl.ylabel('Time since stripping/Gyrs')\n",
    "pl.ylabel('[O/Fe]')\n",
    "# pl.ylabel('Temperature/K')\n",
    "# pl.ylabel('Gas Mass/Stellar Mass')\n",
    "# pl.ylabel('SFR$/(M_{\\odot} yr^{-1})$')\n",
    "\n",
    "pl.subplot(1, 2, 2)\n",
    "\n",
    "# pl.plot(x_x, sumV_1, marker='o', label='total')\n",
    "# pl.plot(x_x, sumV_2, marker='o', label='$k_{rot}/k>0.4$')\n",
    "\n",
    "pl.errorbar(x_x, sumV_1, yerr=errV_1, marker='o', label='total')\n",
    "pl.errorbar(x_x, sumV_2, yerr=errV_2, marker='o', label='$k_{rot}/k>0.4$')\n",
    "\n",
    "pl.xlabel('$\\cos\\,\\phi_v$')\n",
    "# pl.ylabel('Time since stripping/Gyrs')\n",
    "pl.ylabel('[O/Fe]')\n",
    "# pl.ylabel('Temperature/K')\n",
    "# pl.ylabel('Gas Mass/Stellar Mass')\n",
    "# pl.ylabel('SFR$/(M_{\\odot} yr^{-1})$')\n",
    "\n",
    "# pl.savefig('paperGraphs/phiAll_byDir.pdf')"
   ]
  },
  {
   "cell_type": "code",
   "execution_count": null,
   "metadata": {},
   "outputs": [],
   "source": []
  },
  {
   "cell_type": "code",
   "execution_count": null,
   "metadata": {},
   "outputs": [],
   "source": []
  },
  {
   "cell_type": "code",
   "execution_count": null,
   "metadata": {},
   "outputs": [],
   "source": []
  }
 ],
 "metadata": {
  "kernelspec": {
   "display_name": "Python 3",
   "language": "python",
   "name": "python3"
  },
  "language_info": {
   "codemirror_mode": {
    "name": "ipython",
    "version": 3
   },
   "file_extension": ".py",
   "mimetype": "text/x-python",
   "name": "python",
   "nbconvert_exporter": "python",
   "pygments_lexer": "ipython3",
   "version": "3.6.10"
  }
 },
 "nbformat": 4,
 "nbformat_minor": 4
}
