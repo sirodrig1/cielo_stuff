{
 "cells": [
  {
   "cell_type": "code",
   "execution_count": 1,
   "metadata": {},
   "outputs": [],
   "source": [
    "import h5py\n",
    "#import pylab as pl\n",
    "import numpy as np\n",
    "#import matplotlib as mpl\n",
    "import networkx\n",
    "# import ipyvolume as ipv"
   ]
  },
  {
   "cell_type": "code",
   "execution_count": 2,
   "metadata": {},
   "outputs": [],
   "source": [
    "def split_unique_id(unique_id):\n",
    "    \"\"\"Splits the ids assign to the subhalos by the merger tree code by snap number and subfind number \"\"\"\n",
    "    subfind_number = int(unique_id % 1e6)\n",
    "    snap_number = int((unique_id - subfind_number) / 1e6)\n",
    "    \n",
    "    return snap_number, subfind_number\n",
    "\n",
    "def get_main_branch_unique_ids(subtree, node):\n",
    "    \"\"\"Gets the unique ids of the subhalos belonging to the main branch of the selected subhalo (node)\"\"\"\n",
    "    mpb = [node, ]\n",
    "    i = 0\n",
    "    while True:\n",
    "        succesors = list(subtree.successors(node))\n",
    "        if len(succesors) == 0:\n",
    "            break\n",
    "        node = succesors[0] # select only the first succesor (main branch)\n",
    "        mpb.append(node)\n",
    "        \n",
    "    return mpb\n",
    "\n",
    "def get_main_branch_and_progNumb(subtree, node):\n",
    "    \"\"\"Gets the unique ids of the subhalos belonging to the main branch of the selected subhalo (node)\"\"\"\n",
    "    mpb = [node, ]\n",
    "    numb = [[node], ]\n",
    "    i = 0\n",
    "    while True:\n",
    "        successors = list(subtree.successors(node))\n",
    "        if len(successors) == 0:\n",
    "            break\n",
    "        node = successors[0] # select only the first succesor (main branch)\n",
    "        mpb.append(node)\n",
    "        numb.append(successors)\n",
    "        \n",
    "    return mpb, numb"
   ]
  },
  {
   "cell_type": "code",
   "execution_count": 3,
   "metadata": {},
   "outputs": [],
   "source": [
    "sim = h5py.File('/data/cielo/simulations/LG1/LG1.hdf5', 'r')\n",
    "trees = networkx.read_multiline_adjlist('/data/cielo/simulations/LG1/LG1_tree.dat')"
   ]
  },
  {
   "cell_type": "code",
   "execution_count": 11,
   "metadata": {},
   "outputs": [],
   "source": [
    "fofID = 0 # son 0, 32 y 81\n",
    "unique = int(127*1e6+fofID)\n",
    "\n",
    "stree = networkx.dfs_tree(trees, str(unique))\n",
    "mtree = get_main_branch_unique_ids(stree, str(unique))"
   ]
  },
  {
   "cell_type": "code",
   "execution_count": 12,
   "metadata": {},
   "outputs": [
    {
     "name": "stdout",
     "output_type": "stream",
     "text": [
      "presto! change 6100 6101 45\n"
     ]
    }
   ],
   "source": [
    "for mm in mtree:\n",
    "    snap, fofi = split_unique_id(int(mm))\n",
    "    group = sim['SnapNumber_{}/SubGroups/GroupNumber'.format(snap)][fofi]\n",
    "    allgroups = sim['SnapNumber_{}/SubGroups/GroupNumber'.format(snap)][()]\n",
    "    ii = np.where(allgroups==group)[0]\n",
    "    if ii[0] != fofi:\n",
    "        print('presto! change', ii[0], fofi, snap)"
   ]
  },
  {
   "cell_type": "code",
   "execution_count": 13,
   "metadata": {},
   "outputs": [
    {
     "data": {
      "text/plain": [
       "4.9433426217364556"
      ]
     },
     "execution_count": 13,
     "metadata": {},
     "output_type": "execute_result"
    }
   ],
   "source": [
    "sim['SnapNumber_45/Header/Redshift'][()]"
   ]
  },
  {
   "cell_type": "code",
   "execution_count": null,
   "metadata": {},
   "outputs": [],
   "source": []
  }
 ],
 "metadata": {
  "kernelspec": {
   "display_name": "Python 3",
   "language": "python",
   "name": "python3"
  },
  "language_info": {
   "codemirror_mode": {
    "name": "ipython",
    "version": 3
   },
   "file_extension": ".py",
   "mimetype": "text/x-python",
   "name": "python",
   "nbconvert_exporter": "python",
   "pygments_lexer": "ipython3",
   "version": "3.8.1"
  }
 },
 "nbformat": 4,
 "nbformat_minor": 4
}
