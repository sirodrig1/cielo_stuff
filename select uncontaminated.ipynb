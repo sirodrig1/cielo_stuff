{
 "cells": [
  {
   "cell_type": "code",
   "execution_count": 1,
   "metadata": {},
   "outputs": [],
   "source": [
    "import h5py\n",
    "import pylab as pl\n",
    "import numpy as np\n",
    "import matplotlib.colors as mpc\n",
    "import networkx\n",
    "import ipyvolume as ipv\n",
    "import progressbar"
   ]
  },
  {
   "cell_type": "code",
   "execution_count": 2,
   "metadata": {},
   "outputs": [],
   "source": [
    "sim = h5py.File('/data/cielo/simulations/LG1/LG1.hdf5', 'r')"
   ]
  },
  {
   "cell_type": "code",
   "execution_count": 3,
   "metadata": {},
   "outputs": [],
   "source": [
    "Slist = h5py.File('SatelliteList_V2.h5', 'r')\n",
    "Satellites = Slist['SatelliteList'][()]\n",
    "Centrals = Slist['SatelliteCentral'][()]"
   ]
  },
  {
   "cell_type": "code",
   "execution_count": 4,
   "metadata": {},
   "outputs": [],
   "source": [
    "# lest test each group. but first lets see what is contamination\n",
    "#a = sim['SnapNumber_128/Groups/Contamination/PartType0/NumberInside5R200']\n",
    "cen = np.unique(Centrals)"
   ]
  },
  {
   "cell_type": "code",
   "execution_count": 6,
   "metadata": {},
   "outputs": [],
   "source": [
    "I1, I2, I5, I10 = [], [], [], []\n",
    "\n",
    "for c in cen:\n",
    "    group = sim['SnapNumber_128/SubGroups/GroupNumber'][c]\n",
    "    n1 = sim['SnapNumber_128/Groups/Contamination/PartType5/NumberInside1R200'][group]\n",
    "    n2 = sim['SnapNumber_128/Groups/Contamination/PartType5/NumberInside2R200'][group]\n",
    "    n5 = sim['SnapNumber_128/Groups/Contamination/PartType5/NumberInside5R200'][group]\n",
    "    n10 = sim['SnapNumber_128/Groups/Contamination/PartType5/NumberInside10R200'][group]\n",
    "    I1.append(n1)\n",
    "    I2.append(n2)\n",
    "    I5.append(n5)\n",
    "    I10.append(n10)\n",
    "    \n",
    "I1, I2, I5, I10 = np.array(I1), np.array(I2), np.array(I5), np.array(I10)"
   ]
  },
  {
   "cell_type": "code",
   "execution_count": 9,
   "metadata": {},
   "outputs": [
    {
     "data": {
      "text/plain": [
       "<matplotlib.legend.Legend at 0x7f54a592d8e0>"
      ]
     },
     "execution_count": 9,
     "metadata": {},
     "output_type": "execute_result"
    },
    {
     "data": {
      "image/png": "[encoded data removed]",
      "text/plain": [
       "<Figure size 1008x1008 with 1 Axes>"
      ]
     },
     "metadata": {
      "needs_background": "light"
     },
     "output_type": "display_data"
    }
   ],
   "source": [
    "pl.figure(figsize=(14,14))\n",
    "\n",
    "pl.hist(I1, label='n1', histtype='step')\n",
    "pl.hist(I2, label='n2', histtype='step')\n",
    "pl.hist(I5, label='n5', histtype='step')\n",
    "pl.hist(I10, label='n10', histtype='step')\n",
    "\n",
    "pl.legend(loc='best')"
   ]
  },
  {
   "cell_type": "code",
   "execution_count": 11,
   "metadata": {},
   "outputs": [
    {
     "data": {
      "text/plain": [
       "(161, 126, 84, 53)"
      ]
     },
     "execution_count": 11,
     "metadata": {},
     "output_type": "execute_result"
    }
   ],
   "source": [
    "np.where(I1==0)[0].size, np.where(I2==0)[0].size, np.where(I5==0)[0].size, np.where(I10==0)[0].size"
   ]
  },
  {
   "cell_type": "code",
   "execution_count": 12,
   "metadata": {},
   "outputs": [],
   "source": [
    "I1, I5 = [], []\n",
    "for i, c in enumerate(Centrals):\n",
    "    group = sim['SnapNumber_128/SubGroups/GroupNumber'][c]\n",
    "    n1 = sim['SnapNumber_128/Groups/Contamination/PartType5/NumberInside1R200'][group]\n",
    "    n5 = sim['SnapNumber_128/Groups/Contamination/PartType5/NumberInside5R200'][group]\n",
    "    if n1==0:\n",
    "        I1.append(i)\n",
    "    if n5==0: \n",
    "        I5.append(i)\n",
    "I1, I5 = np.array(I1), np.array(I5)"
   ]
  },
  {
   "cell_type": "code",
   "execution_count": 13,
   "metadata": {},
   "outputs": [],
   "source": [
    "sat1, cen1 = Satellites[I1], Centrals[I1]\n",
    "sat5, cen5 = Satellites[I5], Centrals[I5]"
   ]
  },
  {
   "cell_type": "code",
   "execution_count": 14,
   "metadata": {},
   "outputs": [
    {
     "data": {
      "text/plain": [
       "(515, 263)"
      ]
     },
     "execution_count": 14,
     "metadata": {},
     "output_type": "execute_result"
    }
   ],
   "source": [
    "sat1.size, sat5.size"
   ]
  },
  {
   "cell_type": "code",
   "execution_count": 17,
   "metadata": {},
   "outputs": [
    {
     "data": {
      "text/plain": [
       "((array([281]),), (array([76]),))"
      ]
     },
     "execution_count": 17,
     "metadata": {},
     "output_type": "execute_result"
    }
   ],
   "source": [
    "np.where(sat1==4470), np.where(sat5==4470)"
   ]
  },
  {
   "cell_type": "code",
   "execution_count": 18,
   "metadata": {},
   "outputs": [],
   "source": [
    "with h5py.File('SatelliteList_V2_cont1R200.h5', 'w') as f:\n",
    "    f.create_dataset('SatelliteList', data=sat1)\n",
    "    f.create_dataset('SatelliteCentral', data=cen1)"
   ]
  },
  {
   "cell_type": "code",
   "execution_count": 19,
   "metadata": {},
   "outputs": [],
   "source": [
    "with h5py.File('SatelliteList_V2_cont5R200.h5', 'w') as f:\n",
    "    f.create_dataset('SatelliteList', data=sat5)\n",
    "    f.create_dataset('SatelliteCentral', data=cen5)"
   ]
  },
  {
   "cell_type": "code",
   "execution_count": null,
   "metadata": {},
   "outputs": [],
   "source": []
  }
 ],
 "metadata": {
  "kernelspec": {
   "display_name": "Python 3",
   "language": "python",
   "name": "python3"
  },
  "language_info": {
   "codemirror_mode": {
    "name": "ipython",
    "version": 3
   },
   "file_extension": ".py",
   "mimetype": "text/x-python",
   "name": "python",
   "nbconvert_exporter": "python",
   "pygments_lexer": "ipython3",
   "version": "3.8.1"
  }
 },
 "nbformat": 4,
 "nbformat_minor": 4
}
