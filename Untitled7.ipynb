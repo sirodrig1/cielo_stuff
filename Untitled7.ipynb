{
 "cells": [
  {
   "cell_type": "code",
   "execution_count": 1,
   "metadata": {},
   "outputs": [],
   "source": [
    "import h5py"
   ]
  },
  {
   "cell_type": "code",
   "execution_count": 2,
   "metadata": {},
   "outputs": [],
   "source": [
    "simulation = h5py.File('/disk1/lbignone/data/cielo/simulations/LG1/LG1.hdf5', 'r')"
   ]
  },
  {
   "cell_type": "code",
   "execution_count": 19,
   "metadata": {},
   "outputs": [],
   "source": [
    "Group = simulation['SnapNumber_128/Groups']"
   ]
  },
  {
   "cell_type": "code",
   "execution_count": 20,
   "metadata": {},
   "outputs": [
    {
     "data": {
      "text/plain": [
       "<KeysViewHDF5 ['Contamination', 'GroupCM', 'GroupLen', 'GroupLenType', 'GroupMassType', 'GroupNsubs', 'GroupNumber', 'GroupSFR', 'Group_M_Crit200', 'Group_M_Mean200', 'Group_M_TopHat200', 'Group_R_Crit200', 'Group_R_Mean200', 'Group_R_TopHat200', 'PartType0', 'PartType1', 'PartType4', 'PartType5', 'SnapNumber']>"
      ]
     },
     "execution_count": 20,
     "metadata": {},
     "output_type": "execute_result"
    }
   ],
   "source": [
    "Group.keys()"
   ]
  },
  {
   "cell_type": "code",
   "execution_count": 21,
   "metadata": {},
   "outputs": [
    {
     "data": {
      "text/plain": [
       "<KeysViewHDF5 ['PartType5']>"
      ]
     },
     "execution_count": 21,
     "metadata": {},
     "output_type": "execute_result"
    }
   ],
   "source": [
    "Group['Contamination'].keys()"
   ]
  },
  {
   "cell_type": "code",
   "execution_count": 22,
   "metadata": {},
   "outputs": [
    {
     "data": {
      "text/plain": [
       "3.085678e+21"
      ]
     },
     "execution_count": 22,
     "metadata": {},
     "output_type": "execute_result"
    }
   ],
   "source": [
    "Group['GroupCM'].attrs['cgs_conversion_factor']"
   ]
  },
  {
   "cell_type": "code",
   "execution_count": 23,
   "metadata": {},
   "outputs": [
    {
     "data": {
      "text/plain": [
       "array([[52797.62 , 50642.95 , 45243.082],\n",
       "       [49187.85 , 47752.58 , 43493.113],\n",
       "       [48191.67 , 47116.14 , 44133.55 ],\n",
       "       ...,\n",
       "       [52985.324, 49328.48 , 46111.887],\n",
       "       [53369.48 , 49184.168, 46335.49 ],\n",
       "       [53678.22 , 48915.32 , 46731.97 ]], dtype=float32)"
      ]
     },
     "execution_count": 23,
     "metadata": {},
     "output_type": "execute_result"
    }
   ],
   "source": [
    "Group['GroupCM'][()]"
   ]
  },
  {
   "cell_type": "code",
   "execution_count": 25,
   "metadata": {},
   "outputs": [
    {
     "data": {
      "text/plain": [
       "array([[372825., 431577.],\n",
       "       [444372., 501993.],\n",
       "       [525023., 534704.],\n",
       "       ...,\n",
       "       [966768., 966769.],\n",
       "       [967066., 967067.],\n",
       "       [967562., 967563.]])"
      ]
     },
     "execution_count": 25,
     "metadata": {},
     "output_type": "execute_result"
    }
   ],
   "source": [
    "Group['PartType0/Offsets'][()]"
   ]
  },
  {
   "cell_type": "code",
   "execution_count": 26,
   "metadata": {},
   "outputs": [],
   "source": [
    "Part = simulation['SnapNumber_128/PartType0']"
   ]
  },
  {
   "cell_type": "code",
   "execution_count": 28,
   "metadata": {},
   "outputs": [
    {
     "data": {
      "text/plain": [
       "'Mass in individual elements: He, C, Mg, O, Fe, Si, H, N, Ne, S, Ca, Zi (in this order)'"
      ]
     },
     "execution_count": 28,
     "metadata": {},
     "output_type": "execute_result"
    }
   ],
   "source": [
    "Part['Abundances'].attrs['description']"
   ]
  },
  {
   "cell_type": "code",
   "execution_count": 29,
   "metadata": {},
   "outputs": [
    {
     "data": {
      "text/plain": [
       "array([[3.40601309e-06, 3.16166364e-08, 7.88885846e-09, ...,\n",
       "        1.38015555e-08, 1.83959581e-09, 1.52504787e-10],\n",
       "       [5.17143826e-06, 8.53428048e-08, 2.09202842e-08, ...,\n",
       "        3.71073448e-08, 4.94864727e-09, 4.08520662e-10],\n",
       "       [6.48430751e-06, 5.08869142e-08, 1.08120792e-08, ...,\n",
       "        2.13509264e-08, 2.86493229e-09, 2.29623431e-10],\n",
       "       ...,\n",
       "       [5.80772621e-06, 3.17144568e-08, 7.06553305e-09, ...,\n",
       "        1.35762139e-08, 1.81743720e-09, 1.40816789e-10],\n",
       "       [4.74920989e-06, 0.00000000e+00, 0.00000000e+00, ...,\n",
       "        0.00000000e+00, 0.00000000e+00, 0.00000000e+00],\n",
       "       [3.45053218e-06, 3.10285273e-08, 6.35315756e-09, ...,\n",
       "        1.26573996e-08, 1.70913006e-09, 1.31912495e-10]], dtype=float32)"
      ]
     },
     "execution_count": 29,
     "metadata": {},
     "output_type": "execute_result"
    }
   ],
   "source": [
    "Part['Abundances'][()]"
   ]
  },
  {
   "cell_type": "code",
   "execution_count": 32,
   "metadata": {},
   "outputs": [
    {
     "data": {
      "text/plain": [
       "array([[4.9806317e-06, 6.6649943e-09, 1.3167956e-09, ..., 2.5853482e-09,\n",
       "        3.4952746e-10, 2.3014710e-11],\n",
       "       [2.4232581e-06, 1.5189356e-09, 3.2480532e-10, ..., 7.5449696e-10,\n",
       "        1.0207920e-10, 6.5692495e-12],\n",
       "       [2.7886483e-06, 8.8911092e-09, 1.3091541e-09, ..., 2.5429951e-09,\n",
       "        3.7353237e-10, 4.8797400e-11],\n",
       "       ...,\n",
       "       [3.4895779e-06, 3.2873839e-08, 6.9310850e-09, ..., 1.3703188e-08,\n",
       "        1.8248238e-09, 1.5127986e-10],\n",
       "       [2.9667456e-06, 1.7069851e-08, 3.4633310e-09, ..., 7.6085902e-09,\n",
       "        1.0553545e-09, 6.5057890e-11],\n",
       "       [3.0525869e-06, 1.9914577e-08, 4.0222217e-09, ..., 8.6992333e-09,\n",
       "        1.1917137e-09, 7.4357735e-11]], dtype=float32)"
      ]
     },
     "execution_count": 32,
     "metadata": {},
     "output_type": "execute_result"
    }
   ],
   "source": [
    "Part['Abundances'][372825: 431577]"
   ]
  },
  {
   "cell_type": "code",
   "execution_count": 33,
   "metadata": {},
   "outputs": [
    {
     "data": {
      "text/plain": [
       "<KeysViewHDF5 ['Abundances', 'BindingEnergy', 'Circularity', 'Coordinates', 'Density', 'ElectronAbundance', 'Esn', 'EsnCold', 'GroupNumber', 'InternalEnergy', 'Masses', 'NeutralHydrogenAbundance', 'ParticleIDs', 'Potential', 'SmoothingLength', 'SpecificAngularMomentum', 'StarFormationRate', 'SubFindNumber', 'SubGroupNumber', 'Velocities']>"
      ]
     },
     "execution_count": 33,
     "metadata": {},
     "output_type": "execute_result"
    }
   ],
   "source": [
    "Part.keys()"
   ]
  },
  {
   "cell_type": "code",
   "execution_count": 34,
   "metadata": {},
   "outputs": [],
   "source": [
    "Pgas = simulation['SnapNumber_128/PartType0/Masses'][()]"
   ]
  },
  {
   "cell_type": "code",
   "execution_count": 36,
   "metadata": {},
   "outputs": [
    {
     "data": {
      "text/plain": [
       "98941.87314785086"
      ]
     },
     "execution_count": 36,
     "metadata": {},
     "output_type": "execute_result"
    }
   ],
   "source": [
    "Pgas.min()*1e10"
   ]
  },
  {
   "cell_type": "code",
   "execution_count": 43,
   "metadata": {},
   "outputs": [
    {
     "name": "stderr",
     "output_type": "stream",
     "text": [
      "/home/srodriguez/miniconda3/envs/cielo_old/lib/python3.6/site-packages/ipykernel_launcher.py:1: RuntimeWarning: divide by zero encountered in log10\n",
      "  \"\"\"Entry point for launching an IPython kernel.\n"
     ]
    },
    {
     "data": {
      "text/plain": [
       "array([      -inf, 6.03515832,       -inf,       -inf,       -inf,\n",
       "             -inf])"
      ]
     },
     "execution_count": 43,
     "metadata": {},
     "output_type": "execute_result"
    }
   ],
   "source": [
    "np.log10(simulation['SnapNumber_128/Header/MassTable'][()]*1e10)"
   ]
  },
  {
   "cell_type": "code",
   "execution_count": 42,
   "metadata": {},
   "outputs": [],
   "source": [
    "import numpy as np"
   ]
  },
  {
   "cell_type": "code",
   "execution_count": 46,
   "metadata": {},
   "outputs": [
    {
     "data": {
      "text/plain": [
       "10.914255466808548"
      ]
     },
     "execution_count": 46,
     "metadata": {},
     "output_type": "execute_result"
    }
   ],
   "source": [
    "simulation['SnapNumber_30/Header/Redshift'][()]"
   ]
  },
  {
   "cell_type": "code",
   "execution_count": 47,
   "metadata": {},
   "outputs": [
    {
     "data": {
      "text/plain": [
       "2.220446049250313e-16"
      ]
     },
     "execution_count": 47,
     "metadata": {},
     "output_type": "execute_result"
    }
   ],
   "source": [
    "simulation['SnapNumber_128/Header/Redshift'][()]"
   ]
  },
  {
   "cell_type": "code",
   "execution_count": null,
   "metadata": {},
   "outputs": [],
   "source": []
  }
 ],
 "metadata": {
  "kernelspec": {
   "display_name": "Python 3",
   "language": "python",
   "name": "python3"
  },
  "language_info": {
   "codemirror_mode": {
    "name": "ipython",
    "version": 3
   },
   "file_extension": ".py",
   "mimetype": "text/x-python",
   "name": "python",
   "nbconvert_exporter": "python",
   "pygments_lexer": "ipython3",
   "version": "3.6.10"
  }
 },
 "nbformat": 4,
 "nbformat_minor": 4
}
