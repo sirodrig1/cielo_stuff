{
 "cells": [
  {
   "cell_type": "markdown",
   "metadata": {},
   "source": [
    "# Reading Groups and SubGroups"
   ]
  },
  {
   "cell_type": "code",
   "execution_count": 1,
   "metadata": {},
   "outputs": [],
   "source": [
    "import h5py"
   ]
  },
  {
   "cell_type": "code",
   "execution_count": 2,
   "metadata": {},
   "outputs": [],
   "source": [
    "simulation = h5py.File('/data/cielo/simulations/LG11/LG11.hdf5', 'r')\n",
    "snapshot = simulation['SnapNumber_127']\n",
    "PartType4 = snapshot['PartType4']"
   ]
  },
  {
   "cell_type": "markdown",
   "metadata": {},
   "source": [
    "There are several ways to determine which particles belong to each Group and SubGroup"
   ]
  },
  {
   "cell_type": "markdown",
   "metadata": {},
   "source": [
    "## Using 'GroupNumber', 'SubGroupNumber' and 'SubFindNumber'"
   ]
  },
  {
   "cell_type": "code",
   "execution_count": 3,
   "metadata": {},
   "outputs": [
    {
     "data": {
      "text/plain": [
       "<KeysViewHDF5 ['Abundances', 'BindingEnergy', 'Circularity', 'Coordinates', 'GroupNumber', 'Masses', 'ParticleIDs', 'Potential', 'SpecificAngularMomentum', 'StellarFormationTime', 'SubFindNumber', 'SubGroupNumber', 'Velocities']>"
      ]
     },
     "execution_count": 3,
     "metadata": {},
     "output_type": "execute_result"
    }
   ],
   "source": [
    "# Notice that the particle datagroup contains fields named 'GroupNumber', 'SubGroupNumber' and 'SubFindNumber'\n",
    "\n",
    "PartType4.keys()\n",
    "\n",
    "# These datasets can be used to mask and filter the particles belonging to one structure or other"
   ]
  },
  {
   "cell_type": "code",
   "execution_count": 4,
   "metadata": {},
   "outputs": [
    {
     "data": {
      "text/plain": [
       "array([3818, 3818, 3818, ...,   -1,   -1,   -1])"
      ]
     },
     "execution_count": 4,
     "metadata": {},
     "output_type": "execute_result"
    }
   ],
   "source": [
    "# 'GroupNumber' contains the GroupNumber each particle belongs to\n",
    "\n",
    "PartType4['GroupNumber'][:]\n",
    "\n",
    "# a 'GroupNumber' == -1 means that the particle belongs to no halo"
   ]
  },
  {
   "cell_type": "code",
   "execution_count": 5,
   "metadata": {},
   "outputs": [
    {
     "data": {
      "text/plain": [
       "array([ 0,  0,  0, ..., -1, -1, -1])"
      ]
     },
     "execution_count": 5,
     "metadata": {},
     "output_type": "execute_result"
    }
   ],
   "source": [
    "# Similarly for 'SubGroupNumber'\n",
    "\n",
    "PartType4['SubGroupNumber'][:]\n",
    "\n",
    "# Here, 'SubGroupNumber' represents the number of substructure belonging to the same halo or Group.\n",
    "# Notice that these are not unique in the same snapshot\n",
    "# A 'SubGroupNumber' == 0 represents the main galaxy"
   ]
  },
  {
   "cell_type": "code",
   "execution_count": 6,
   "metadata": {},
   "outputs": [
    {
     "data": {
      "text/plain": [
       "array([3759, 3759, 3759, ...,   -1,   -1,   -1])"
      ]
     },
     "execution_count": 6,
     "metadata": {},
     "output_type": "execute_result"
    }
   ],
   "source": [
    "#Finally 'SubFindNumber' represent unique subhalos in the same snapshot\n",
    "\n",
    "PartType4['SubFindNumber'][:]\n",
    "\n",
    "# a 'SubFindNumber' == -1 means that the particle belongs to no subhalo"
   ]
  },
  {
   "cell_type": "markdown",
   "metadata": {},
   "source": [
    "## Using Offsets"
   ]
  },
  {
   "cell_type": "markdown",
   "metadata": {},
   "source": [
    "Alternatively, we can use the offsets stored in the snapshot files. \n",
    "\n",
    "The advantage of this approach is that oly the necessary data is loaded into memory"
   ]
  },
  {
   "cell_type": "markdown",
   "metadata": {},
   "source": [
    "For example if we want to load only the stellar Coordinates belonging to GroupNumber == 3818"
   ]
  },
  {
   "cell_type": "code",
   "execution_count": 7,
   "metadata": {},
   "outputs": [
    {
     "name": "stdout",
     "output_type": "stream",
     "text": [
      "[     0 460111]\n"
     ]
    }
   ],
   "source": [
    "Offsets = snapshot['Groups/PartType4/Offsets']\n",
    "\n",
    "selected_offsets = Offsets[3818].astype('int')\n",
    "# Notice the intruction .astype('int'), this will be neccesary later on because indexes \n",
    "# in python are required to be ints, however offsets are currently stored as floats in the snapshot\n",
    "\n",
    "print(selected_offsets)"
   ]
  },
  {
   "cell_type": "markdown",
   "metadata": {},
   "source": [
    "The above represent the start and end index of the particles belonging to Group 3818"
   ]
  },
  {
   "cell_type": "code",
   "execution_count": 8,
   "metadata": {},
   "outputs": [
    {
     "data": {
      "text/plain": [
       "(460111, 3)"
      ]
     },
     "execution_count": 8,
     "metadata": {},
     "output_type": "execute_result"
    }
   ],
   "source": [
    "\n",
    "# Notice we are selecting the slice selected_offsets[0] : selected_offsets[1]\n",
    "Coordinates = snapshot['PartType4/Coordinates'][selected_offsets[0]:selected_offsets[1]]\n",
    "\n",
    "# Only a fraction of particle were actually loaded\n",
    "Coordinates.shape"
   ]
  },
  {
   "cell_type": "code",
   "execution_count": null,
   "metadata": {},
   "outputs": [],
   "source": []
  }
 ],
 "metadata": {
  "kernelspec": {
   "display_name": "Python 3",
   "language": "python",
   "name": "python3"
  },
  "language_info": {
   "codemirror_mode": {
    "name": "ipython",
    "version": 3
   },
   "file_extension": ".py",
   "mimetype": "text/x-python",
   "name": "python",
   "nbconvert_exporter": "python",
   "pygments_lexer": "ipython3",
   "version": "3.6.10"
  }
 },
 "nbformat": 4,
 "nbformat_minor": 4
}
