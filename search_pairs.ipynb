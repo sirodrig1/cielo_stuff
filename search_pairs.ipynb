{
 "cells": [
  {
   "cell_type": "code",
   "execution_count": 1,
   "metadata": {},
   "outputs": [],
   "source": [
    "import h5py\n",
    "import pylab as pl\n",
    "import numpy as np\n",
    "import matplotlib.colors as mpc\n",
    "import networkx\n",
    "import ipyvolume as ipv\n",
    "import progressbar\n",
    "import scipy.stats as sps"
   ]
  },
  {
   "cell_type": "code",
   "execution_count": 2,
   "metadata": {},
   "outputs": [],
   "source": [
    "pl.rc('font', size = 20)\n",
    "pl.rc('legend', fontsize = 20)"
   ]
  },
  {
   "cell_type": "code",
   "execution_count": 3,
   "metadata": {},
   "outputs": [],
   "source": [
    "sim = h5py.File('/data/cielo/simulations/LG1/LG1.hdf5', 'r')\n",
    "trees = networkx.read_multiline_adjlist('/data/cielo/simulations/LG1/LG1_tree.dat')"
   ]
  },
  {
   "cell_type": "code",
   "execution_count": 4,
   "metadata": {},
   "outputs": [],
   "source": [
    "# and by putting size by lost gas mass\n",
    "\n",
    "def split_unique_id(unique_id):\n",
    "    \"\"\"Splits the ids assign to the subhalos by the merger tree code by snap number and subfind number \"\"\"\n",
    "    subfind_number = int(unique_id % 1e6)\n",
    "    snap_number = int((unique_id - subfind_number) / 1e6)\n",
    "    \n",
    "    return snap_number, subfind_number\n",
    "\n",
    "def get_main_branch_unique_ids(subtree, node):\n",
    "    \"\"\"Gets the unique ids of the subhalos belonging to the main branch of the selected subhalo (node)\"\"\"\n",
    "    mpb = [node, ]\n",
    "    i = 0\n",
    "    while True:\n",
    "        succesors = list(subtree.successors(node))\n",
    "        if len(succesors) == 0:\n",
    "            break\n",
    "        node = succesors[0] # select only the first succesor (main branch)\n",
    "        mpb.append(node)\n",
    "        \n",
    "    return mpb\n",
    "\n",
    "def get_main_branch_and_progNumb(subtree, node):\n",
    "    \"\"\"Gets the unique ids of the subhalos belonging to the main branch of the selected subhalo (node)\"\"\"\n",
    "    mpb = [node, ]\n",
    "    numb = [[node], ]\n",
    "    i = 0\n",
    "    while True:\n",
    "        successors = list(subtree.successors(node))\n",
    "        if len(successors) == 0:\n",
    "            break\n",
    "        node = successors[0] # select only the first succesor (main branch)\n",
    "        mpb.append(node)\n",
    "        numb.append(successors)\n",
    "        \n",
    "    return mpb, numb\n",
    "\n",
    "\n",
    "def set_view(figure, framenr, fraction):\n",
    "    ipv.view(fraction*360, 0.)\n",
    "    \n",
    "def set_angles(fig, i, fraction):\n",
    "    fig.angley = fraction*np.pi*2\n",
    "\n",
    "# a bunch of constants\n",
    "UnitMass_in_g = 1.989e+43\n",
    "UnitTime_in_s = 3.08568e+16\n",
    "UnitVelocity_in_cm_per_s = 100000\n",
    "UnitDensity_in_cgs = 6.7699e-22\n",
    "UnitEnergy_in_cgs = 1.989e+53\n",
    "GAMMA_MINUS1 = 2./3.\n",
    "PROTONMASS = 1.6726e-24\n",
    "BOLTZMANN = 1.3806e-16    \n",
    "\n",
    "def tempFromMass(Mass, Abund, IE, ne1):\n",
    "    XH = Abund[:,6]/Mass\n",
    "    yHelium = (1. - XH)/(4.*XH)\n",
    "    mu = (1 + 4.* yHelium)/ (1.+ yHelium + ne1 )\n",
    "    temp = GAMMA_MINUS1 * IE * mu * 1.6726 / 1.3806 * 1.e-8 # / BOLTZMANN  * PROTONMASS\n",
    "    temp = temp * 1e10 #   UnitEnergy_in_cgs / UnitMass_in_g;\n",
    "    return temp"
   ]
  },
  {
   "cell_type": "code",
   "execution_count": 5,
   "metadata": {},
   "outputs": [],
   "source": [
    "List = h5py.File('SatelliteList_V2_cont1R200.h5', 'r')\n",
    "sats = List['SatelliteList'][()]"
   ]
  },
  {
   "cell_type": "code",
   "execution_count": 6,
   "metadata": {},
   "outputs": [],
   "source": [
    "nearest, distT, velT = [], [], []\n",
    "groupList = sim['SnapNumber_128/SubGroups/GroupNumber'][()]\n",
    "\n",
    "for s in sats:\n",
    "    posSat = sim['SnapNumber_128/SubGroups/SubGroupPos'][s]\n",
    "    vel = sim['SnapNumber_128/SubGroups/SubGroupVel'][s]\n",
    "    gro = sim['SnapNumber_128/SubGroups/GroupNumber'][s]\n",
    "    ii = np.where(groupList==gro)[0][1:] # ignore the first one, is teh central and I don't care about it\n",
    "    if ii.size>1:\n",
    "        ij = np.where(ii!=s)\n",
    "        ii2 = ii[ij] # remove teh same galaxy from the list\n",
    "        posOtherGals = sim['SnapNumber_128/SubGroups/SubGroupPos'][ii2]\n",
    "        dist = np.sqrt((posOtherGals[:,0]-posSat[0])**2.+(posOtherGals[:,1]-posSat[1])**2.+(posOtherGals[:,2]-posSat[2])**2.)\n",
    "        mdist = dist.min()\n",
    "        k = np.where(dist==mdist)[0][0]\n",
    "        j = ii2[k]\n",
    "        velOther = sim['SnapNumber_128/SubGroups/SubGroupVel'][j]\n",
    "        difVel = np.sqrt(np.sum((vel-velOther)**2))\n",
    "        nearest.append(j)\n",
    "        distT.append(mdist)\n",
    "        velT.append(difVel)\n",
    "    else:\n",
    "        nearest.append(-1) # there's no nearest galaxy\n",
    "        distT.append(-1)\n",
    "        velT.append(-1)"
   ]
  },
  {
   "cell_type": "code",
   "execution_count": 7,
   "metadata": {},
   "outputs": [],
   "source": [
    "nearest, distT, velT = np.array(nearest), np.array(distT), np.array(velT)"
   ]
  },
  {
   "cell_type": "code",
   "execution_count": 8,
   "metadata": {},
   "outputs": [],
   "source": [
    "ij = np.where(nearest>=0)\n",
    "cent = List['SatelliteCentral'][()]\n",
    "\n",
    "satS, cenS, nearS , distS, velS = sats[ij], cent[ij], nearest[ij], distT[ij], velT[ij]"
   ]
  },
  {
   "cell_type": "code",
   "execution_count": 9,
   "metadata": {},
   "outputs": [],
   "source": [
    "# lets go back in time, at a time when the tow galaxies where separated.\n",
    "\n",
    "def split_unique_id(unique_id):\n",
    "    \"\"\"Splits the ids assign to the subhalos by the merger tree code by snap number and subfind number \"\"\"\n",
    "    subfind_number = int(unique_id % 1e6)\n",
    "    snap_number = int((unique_id - subfind_number) / 1e6)\n",
    "    \n",
    "    return snap_number, subfind_number\n",
    "\n",
    "def get_main_branch_unique_ids(subtree, node):\n",
    "    \"\"\"Gets the unique ids of the subhalos belonging to the main branch of the selected subhalo (node)\"\"\"\n",
    "    mpb = [node, ]\n",
    "    i = 0\n",
    "    while True:\n",
    "        succesors = list(subtree.successors(node))\n",
    "        if len(succesors) == 0:\n",
    "            break\n",
    "        node = succesors[0] # select only the first succesor (main branch)\n",
    "        mpb.append(node)\n",
    "        \n",
    "    return mpb\n",
    "\n",
    "\n",
    "def sepTime(sat, near, cent):\n",
    "    unique = int(128*1e6+sat)\n",
    "    uniqueC = int(128*1e6+cent)\n",
    "    uniqueN = int(128*1e6+near)\n",
    "    \n",
    "    stree = networkx.dfs_tree(trees, str(unique))\n",
    "    mtree = get_main_branch_unique_ids(stree, str(unique))\n",
    "    \n",
    "    streeC = networkx.dfs_tree(trees, str(uniqueC))\n",
    "    mtreeC = get_main_branch_unique_ids(streeC, str(uniqueC))\n",
    "    \n",
    "    streeN = networkx.dfs_tree(trees, str(uniqueN))\n",
    "    mtreeN = get_main_branch_unique_ids(streeN, str(uniqueN))\n",
    "    \n",
    "    for m, mC, mN in zip(mtree, mtreeC, mtreeN):\n",
    "        snap, nu = split_unique_id(int(m))\n",
    "        snapC, nuC = split_unique_id(int(mC))\n",
    "        snapN, nuN = split_unique_id(int(mN))\n",
    "        \n",
    "        group = sim['SnapNumber_{}/SubGroups/GroupNumber'.format(snap)][nu]\n",
    "        groupN = sim['SnapNumber_{}/SubGroups/GroupNumber'.format(snapN)][nuN]\n",
    "        groupC = sim['SnapNumber_{}/SubGroups/GroupNumber'.format(snapC)][nuC]\n",
    "        \n",
    "        if groupC!=group and groupC!=groupN: # both galaxies are outside the group\n",
    "            pgal = sim['SnapNumber_{}/SubGroups/SubGroupPos'.format(snap)][nu]\n",
    "            pnear = sim['SnapNumber_{}/SubGroups/SubGroupPos'.format(snapN)][nuN]\n",
    "            \n",
    "            vgal = sim['SnapNumber_{}/SubGroups/SubGroupVel'.format(snap)][nu]\n",
    "            vnear = sim['SnapNumber_{}/SubGroups/SubGroupVel'.format(snapN)][nuN]\n",
    "            \n",
    "            dist = np.sqrt(np.sum((pgal-pnear)**2.))\n",
    "            velR = np.sqrt(np.sum((vgal-vnear)**2.))\n",
    "            return snap, nu, snapN, nuN, dist, velR, groupN==group\n",
    "        \n",
    "    return None, None, None, None, None, None, False"
   ]
  },
  {
   "cell_type": "code",
   "execution_count": 10,
   "metadata": {},
   "outputs": [
    {
     "data": {
      "text/plain": [
       "(126, 5388, 126, 5387, 17.69189, 29.326906, True)"
      ]
     },
     "execution_count": 10,
     "metadata": {},
     "output_type": "execute_result"
    }
   ],
   "source": [
    "sepTime(satS[-1], nearS[-1], cenS[-1])"
   ]
  },
  {
   "cell_type": "code",
   "execution_count": 11,
   "metadata": {},
   "outputs": [
    {
     "data": {
      "text/plain": [
       "(15.162216186523438, 29.631729125976562)"
      ]
     },
     "execution_count": 11,
     "metadata": {},
     "output_type": "execute_result"
    }
   ],
   "source": [
    "distS[-1], velS[-1]"
   ]
  },
  {
   "cell_type": "code",
   "execution_count": 12,
   "metadata": {},
   "outputs": [],
   "source": [
    "# ok, all of them.\n",
    "distThen, velThen, snapThen, idThen, snapNear, idNear, sameG = [], [], [], [], [], [], []\n",
    "\n",
    "iss = []\n",
    "k = np.arange(satS.size)\n",
    "\n",
    "for ki, s, c, n in zip(k, satS, cenS, nearS):\n",
    "    snap, nu, snapN, nuN, dist, velR, isin = sepTime(s, n, c)\n",
    "    if snap!=None:\n",
    "        iss.append(ki)\n",
    "        snapThen.append(snap)\n",
    "        idThen.append(nu)\n",
    "        snapNear.append(snapN)\n",
    "        idNear.append(nuN)\n",
    "        distThen.append(dist)\n",
    "        velThen.append(velR)\n",
    "        sameG.append(isin)\n",
    "        \n",
    "distThen, velThen, snapThen = np.array(distThen), np.array(velThen), np.array(snapThen)\n",
    "idThen, snapNear, idNear, sameG = np.array(idThen), np.array(snapNear), np.array(idNear), np.array(sameG)"
   ]
  },
  {
   "cell_type": "code",
   "execution_count": 15,
   "metadata": {},
   "outputs": [],
   "source": [
    "iss = np.array(iss)\n",
    "\n",
    "distSi, velSi = distS[iss], velS[iss]"
   ]
  },
  {
   "cell_type": "code",
   "execution_count": 22,
   "metadata": {},
   "outputs": [
    {
     "data": {
      "text/plain": [
       "Text(0, 0.5, 'vel/vel z=0')"
      ]
     },
     "execution_count": 22,
     "metadata": {},
     "output_type": "execute_result"
    },
    {
     "data": {
      "image/png": "[encoded data removed]",
      "text/plain": [
       "<Figure size 1008x1008 with 1 Axes>"
      ]
     },
     "metadata": {
      "needs_background": "light"
     },
     "output_type": "display_data"
    }
   ],
   "source": [
    "pl.figure(figsize=(14,14))\n",
    "\n",
    "DD = distThen/distSi\n",
    "VV = velThen/velSi\n",
    "\n",
    "pl.scatter(DD, VV, c=sameG)\n",
    "#bar = pl.colorbar() # idk what is going to do this\n",
    "\n",
    "pl.xlim(0,10)\n",
    "\n",
    "pl.xlabel('dist/dist z=0')\n",
    "pl.ylabel('vel/vel z=0')"
   ]
  },
  {
   "cell_type": "code",
   "execution_count": 20,
   "metadata": {},
   "outputs": [],
   "source": [
    "with h5py.File('SatelliteList_V2_Pairs.h5', 'w') as f:\n",
    "    f.create_dataset('SatelliteList', data=satS[iss])\n",
    "    f.create_dataset('SatelliteCentral', data=cenS[iss])\n",
    "    f.create_dataset('difDist', data=DD)\n",
    "    f.create_dataset('difVel', data=VV)\n",
    "    f.create_dataset('inGroup', data=sameG)"
   ]
  },
  {
   "cell_type": "code",
   "execution_count": null,
   "metadata": {},
   "outputs": [],
   "source": []
  }
 ],
 "metadata": {
  "kernelspec": {
   "display_name": "Python 3",
   "language": "python",
   "name": "python3"
  },
  "language_info": {
   "codemirror_mode": {
    "name": "ipython",
    "version": 3
   },
   "file_extension": ".py",
   "mimetype": "text/x-python",
   "name": "python",
   "nbconvert_exporter": "python",
   "pygments_lexer": "ipython3",
   "version": "3.8.1"
  }
 },
 "nbformat": 4,
 "nbformat_minor": 4
}
