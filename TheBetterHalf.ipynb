{
 "cells": [
  {
   "cell_type": "code",
   "execution_count": 1,
   "metadata": {},
   "outputs": [],
   "source": [
    "import h5py\n",
    "import pylab as pl\n",
    "import numpy as np\n",
    "#import matplotlib as mpl\n",
    "import networkx\n",
    "import healpy as hp\n",
    "import ipyvolume as ipv"
   ]
  },
  {
   "cell_type": "code",
   "execution_count": 2,
   "metadata": {},
   "outputs": [],
   "source": [
    "sim = h5py.File('/data/cielo/simulations/LG1/LG1.hdf5', 'r')"
   ]
  },
  {
   "cell_type": "code",
   "execution_count": 3,
   "metadata": {},
   "outputs": [
    {
     "data": {
      "text/plain": [
       "array([444372, 497993])"
      ]
     },
     "execution_count": 3,
     "metadata": {},
     "output_type": "execute_result"
    }
   ],
   "source": [
    "fofID = 32\n",
    "OffSets = sim['SnapNumber_128/SubGroups/PartType0/Offsets'][fofID].astype('int')\n",
    "OffSets"
   ]
  },
  {
   "cell_type": "code",
   "execution_count": 4,
   "metadata": {},
   "outputs": [],
   "source": [
    "PosGas = sim['SnapNumber_128/PartType0/Coordinates'][OffSets[0]:OffSets[1]]\n",
    "SFRGas = sim['SnapNumber_128/PartType0/StarFormationRate'][OffSets[0]:OffSets[1]]\n",
    "MassGas = sim['SnapNumber_128/PartType0/Masses'][OffSets[0]:OffSets[1]]"
   ]
  },
  {
   "cell_type": "code",
   "execution_count": 5,
   "metadata": {},
   "outputs": [],
   "source": [
    "#and heal the pix of this thingy\n",
    "nside = 8 # to much?, to little? lets find out\n",
    "npix = hp.nside2npix(nside)"
   ]
  },
  {
   "cell_type": "code",
   "execution_count": 6,
   "metadata": {},
   "outputs": [],
   "source": [
    "cen = sim['SnapNumber_128/SubGroups/SubGroupPos'][fofID]\n",
    "x, y, z = PosGas[:,0]-cen[0], PosGas[:,1]-cen[1], PosGas[:,2]-cen[2]\n",
    "\n",
    "pix = hp.pixelfunc.vec2pix(nside, x, y, z)"
   ]
  },
  {
   "cell_type": "code",
   "execution_count": 7,
   "metadata": {},
   "outputs": [],
   "source": [
    "# and the delta_SFR, the global one is easy \n",
    "SFRtot = np.sum(MassGas*SFRGas)/np.sum(MassGas)\n",
    "\n",
    "# the other ones, well ... \n",
    "\n",
    "x0, y0, z0 = hp.pixelfunc.pix2vec(nside, int(npix/2))\n",
    "index = hp.query_disc(nside, (x0, y0, z0), np.pi/2.) # one half of pixels\n",
    "\n",
    "index_bool = np.in1d(pix, index)\n",
    "index_onehalf = np.where(index_bool)[0]\n",
    "index_otherhalf = np.where(index_bool==False)[0]"
   ]
  },
  {
   "cell_type": "code",
   "execution_count": 8,
   "metadata": {
    "scrolled": false
   },
   "outputs": [
    {
     "data": {
      "application/vnd.jupyter.widget-view+json": {
       "model_id": "ff5806dad69046aaa13d5ea2462fc0ad",
       "version_major": 2,
       "version_minor": 0
      },
      "text/plain": [
       "VBox(children=(Figure(camera_center=[0.0, 0.0, 0.0], height=750, matrix_projection=[0.0, 0.0, 0.0, 0.0, 0.0, 0…"
      ]
     },
     "metadata": {},
     "output_type": "display_data"
    }
   ],
   "source": [
    "Coor1 = PosGas[index_onehalf]\n",
    "Coor2 = PosGas[index_otherhalf]\n",
    "\n",
    "x1, y1, z1 = x[index_onehalf], y[index_onehalf], z[index_onehalf]\n",
    "x2, y2, z2 = x[index_otherhalf], y[index_otherhalf], z[index_otherhalf]\n",
    "\n",
    "fig = ipv.figure(width=750, height=750)\n",
    "\n",
    "scatter1 = ipv.scatter(x1, y1, z1, marker='sphere', size=.5, color='blue')\n",
    "scatter2 = ipv.scatter(x2, y2, z2, marker='sphere', size=.5, color='red')\n",
    "\n",
    "ipv.show()"
   ]
  },
  {
   "cell_type": "code",
   "execution_count": 9,
   "metadata": {},
   "outputs": [
    {
     "data": {
      "text/plain": [
       "1.8893192"
      ]
     },
     "execution_count": 9,
     "metadata": {},
     "output_type": "execute_result"
    }
   ],
   "source": [
    "# lets calculate the anisotropy\n",
    "\n",
    "SFR_onehalf, Mass_onehalf = SFRGas[index_onehalf], MassGas[index_onehalf]\n",
    "SFR_otherhalf, Mass_otherhalf = SFRGas[index_otherhalf], MassGas[index_otherhalf]\n",
    "\n",
    "SFR_one = np.sum(SFR_onehalf*Mass_onehalf)/np.sum(Mass_onehalf)\n",
    "SFR_other = np.sum(SFR_otherhalf*Mass_otherhalf)/np.sum(Mass_otherhalf)\n",
    "\n",
    "delta_SFR = (SFR_one - SFR_other)/SFRtot\n",
    "delta_SFR"
   ]
  },
  {
   "cell_type": "code",
   "execution_count": 10,
   "metadata": {},
   "outputs": [
    {
     "data": {
      "text/plain": [
       "(2.8013994e-05, 7.447642e-07, 1.44333635e-05)"
      ]
     },
     "execution_count": 10,
     "metadata": {},
     "output_type": "execute_result"
    }
   ],
   "source": [
    "# and that's ... a number, it its to high?\n",
    "SFR_one, SFR_other, SFRtot"
   ]
  },
  {
   "cell_type": "code",
   "execution_count": 11,
   "metadata": {},
   "outputs": [
    {
     "data": {
      "text/plain": [
       "(0.76933485, 0.019259244, 0.7885942)"
      ]
     },
     "execution_count": 11,
     "metadata": {},
     "output_type": "execute_result"
    }
   ],
   "source": [
    "np.sum(SFR_onehalf), np.sum(SFR_otherhalf), np.sum(SFRGas)"
   ]
  },
  {
   "cell_type": "code",
   "execution_count": 12,
   "metadata": {},
   "outputs": [
    {
     "data": {
      "text/plain": [
       "(53148, 473)"
      ]
     },
     "execution_count": 12,
     "metadata": {},
     "output_type": "execute_result"
    }
   ],
   "source": [
    "np.where(SFRGas==0)[0].size, np.where(SFRGas!=0)[0].size, "
   ]
  },
  {
   "cell_type": "code",
   "execution_count": 13,
   "metadata": {},
   "outputs": [],
   "source": [
    "# and iterate over half the pixels to find the vector of the greatest difference, positive or negative, then I see which is which\n",
    "\n",
    "MaxDif = 0\n",
    "vecMax = 0\n",
    "\n",
    "for i in index:\n",
    "    x0, y0, z0 = hp.pixelfunc.pix2vec(nside, i) # centre of the vector to test\n",
    "    ind0 = hp.query_disc(nside, (x0, y0, z0), np.pi/2.) # one half of pixels\n",
    "\n",
    "    index_bool = np.in1d(pix, ind0)\n",
    "    index_onehalf = np.where(index_bool)[0]\n",
    "    index_otherhalf = np.where(index_bool==False)[0]\n",
    "    \n",
    "    SFR_onehalf, Mass_onehalf = SFRGas[index_onehalf], MassGas[index_onehalf]\n",
    "    SFR_otherhalf, Mass_otherhalf = SFRGas[index_otherhalf], MassGas[index_otherhalf]\n",
    "\n",
    "    SFR_one = np.sum(SFR_onehalf*Mass_onehalf)/np.sum(Mass_onehalf)\n",
    "    SFR_other = np.sum(SFR_otherhalf*Mass_otherhalf)/np.sum(Mass_otherhalf)\n",
    "\n",
    "    delta_SFR = (SFR_one - SFR_other)/SFRtot\n",
    "    \n",
    "    if np.abs(delta_SFR) > MaxDif:\n",
    "        MaxDif = delta_SFR\n",
    "        if delta_SFR > 0:\n",
    "            vecMax = np.array([x0, y0, z0])\n",
    "        else:\n",
    "            vecMax = np.array([-x0, -y0, -z0])"
   ]
  },
  {
   "cell_type": "code",
   "execution_count": 14,
   "metadata": {},
   "outputs": [
    {
     "data": {
      "text/plain": [
       "(-1.9421653, array([0.07207475, 0.07207475, 0.99479167]))"
      ]
     },
     "execution_count": 14,
     "metadata": {},
     "output_type": "execute_result"
    }
   ],
   "source": [
    "MaxDif, vecMax"
   ]
  },
  {
   "cell_type": "code",
   "execution_count": 15,
   "metadata": {},
   "outputs": [
    {
     "data": {
      "application/vnd.jupyter.widget-view+json": {
       "model_id": "8cb660a803904d20b64052bd4c328fc8",
       "version_major": 2,
       "version_minor": 0
      },
      "text/plain": [
       "VBox(children=(Figure(camera_center=[0.0, 0.0, 0.0], height=750, matrix_projection=[0.0, 0.0, 0.0, 0.0, 0.0, 0…"
      ]
     },
     "metadata": {},
     "output_type": "display_data"
    }
   ],
   "source": [
    "# lets take a look at this.\n",
    "\n",
    "index = hp.query_disc(nside, vecMax, np.pi/2.) # one half of pixels\n",
    "\n",
    "index_bool = np.in1d(pix, index)\n",
    "index_onehalf = np.where(index_bool)[0]\n",
    "index_otherhalf = np.where(index_bool==False)[0]\n",
    "\n",
    "x1, y1, z1 = x[index_onehalf], y[index_onehalf], z[index_onehalf]\n",
    "x2, y2, z2 = x[index_otherhalf], y[index_otherhalf], z[index_otherhalf]\n",
    "\n",
    "fig = ipv.figure(width=750, height=750)\n",
    "\n",
    "scatter1 = ipv.scatter(x1, y1, z1, marker='sphere', size=.5, color='blue')\n",
    "scatter2 = ipv.scatter(x2, y2, z2, marker='sphere', size=.5, color='red')\n",
    "\n",
    "ipv.show()"
   ]
  },
  {
   "cell_type": "code",
   "execution_count": 16,
   "metadata": {},
   "outputs": [
    {
     "data": {
      "text/plain": [
       "768"
      ]
     },
     "execution_count": 16,
     "metadata": {},
     "output_type": "execute_result"
    }
   ],
   "source": [
    "npix"
   ]
  },
  {
   "cell_type": "code",
   "execution_count": 17,
   "metadata": {},
   "outputs": [],
   "source": [
    "# ok, lets do this in secuence, if possible (ok, it this, I mean, for the ones that this thing works)\n",
    "nside = 8\n",
    "npix = hp.nside2npix(nside)\n",
    "x0, y0, z0 = hp.pixelfunc.pix2vec(nside, 0)\n",
    "index = hp.query_disc(nside, (x0, y0, z0), np.pi/2.)\n",
    "\n",
    "\n",
    "def get_BetterVector(fofID):\n",
    "    \"\"\"\n",
    "    return the vector parallel to the better half (points in the direction where the SFR is larger)\n",
    "    \"\"\"\n",
    "    OffSets = sim['SnapNumber_128/SubGroups/PartType0/Offsets'][fofID].astype('int')\n",
    "    if OffSets[0]<0 or OffSets[1]<0: # no gas particles\n",
    "        return np.array([0,0,0]), 0.\n",
    "    \n",
    "    PosGas = sim['SnapNumber_128/PartType0/Coordinates'][OffSets[0]:OffSets[1]]\n",
    "    SFRGas = sim['SnapNumber_128/PartType0/StarFormationRate'][OffSets[0]:OffSets[1]]\n",
    "    MassGas = sim['SnapNumber_128/PartType0/Masses'][OffSets[0]:OffSets[1]]\n",
    "    \n",
    "    cen = sim['SnapNumber_128/SubGroups/SubGroupPos'][fofID]\n",
    "    x, y, z = PosGas[:,0]-cen[0], PosGas[:,1]-cen[1], PosGas[:,2]-cen[2]\n",
    "\n",
    "    pix = hp.pixelfunc.vec2pix(nside, x, y, z)\n",
    "    SFRtot = np.sum(MassGas*SFRGas)/np.sum(MassGas)\n",
    "    \n",
    "    MaxDif = 0\n",
    "    vecMax = np.array([0,0,0])\n",
    "    \n",
    "    for i in index:\n",
    "        x0, y0, z0 = hp.pixelfunc.pix2vec(nside, i) # centre of the vector to test\n",
    "        \n",
    "        ind0 = hp.query_disc(nside, (x0, y0, z0), np.pi/2.) # one half of pixels\n",
    "\n",
    "        index_bool = np.in1d(pix, ind0)\n",
    "        index_onehalf = np.where(index_bool)[0]\n",
    "        index_otherhalf = np.where(index_bool==False)[0]\n",
    "    \n",
    "        SFR_onehalf, Mass_onehalf = SFRGas[index_onehalf], MassGas[index_onehalf]\n",
    "        SFR_otherhalf, Mass_otherhalf = SFRGas[index_otherhalf], MassGas[index_otherhalf]\n",
    "\n",
    "        SFR_one = np.sum(SFR_onehalf*Mass_onehalf)/np.sum(Mass_onehalf)\n",
    "        SFR_other = np.sum(SFR_otherhalf*Mass_otherhalf)/np.sum(Mass_otherhalf)\n",
    "\n",
    "        delta_SFR = (SFR_one - SFR_other)/SFRtot\n",
    "    \n",
    "        if np.abs(delta_SFR) > MaxDif:\n",
    "            MaxDif = np.abs(delta_SFR)\n",
    "            if delta_SFR > 0:\n",
    "                vecMax = np.array([x0, y0, z0])\n",
    "            else:\n",
    "                vecMax = np.array([-x0, -y0, -z0])\n",
    "    \n",
    "    return vecMax, MaxDif"
   ]
  },
  {
   "cell_type": "code",
   "execution_count": 18,
   "metadata": {},
   "outputs": [],
   "source": [
    "# read the thingy\n",
    "SatFile = h5py.File('SatelliteList_V2.h5', 'r')\n",
    "\n",
    "Satellites, Centrals = SatFile['SatelliteList'], SatFile['SatelliteCentral']"
   ]
  },
  {
   "cell_type": "code",
   "execution_count": 19,
   "metadata": {},
   "outputs": [],
   "source": [
    "import progressbar"
   ]
  },
  {
   "cell_type": "code",
   "execution_count": 20,
   "metadata": {},
   "outputs": [
    {
     "name": "stderr",
     "output_type": "stream",
     "text": [
      "<ipython-input-17-e646f9bb4e82>:44: RuntimeWarning: invalid value encountered in float_scalars\n",
      "  delta_SFR = (SFR_one - SFR_other)/SFRtot\n",
      " 14% (151 of 1012) |###                  | Elapsed Time: 0:00:00 ETA:   0:00:05<ipython-input-17-e646f9bb4e82>:42: RuntimeWarning: invalid value encountered in float_scalars\n",
      "  SFR_other = np.sum(SFR_otherhalf*Mass_otherhalf)/np.sum(Mass_otherhalf)\n",
      "<ipython-input-17-e646f9bb4e82>:41: RuntimeWarning: invalid value encountered in float_scalars\n",
      "  SFR_one = np.sum(SFR_onehalf*Mass_onehalf)/np.sum(Mass_onehalf)\n",
      " 20% (205 of 1012) |####                 | Elapsed Time: 0:00:01 ETA:   0:00:05/home/srodriguez/miniconda3/envs/cielo_tutorial/lib/python3.8/site-packages/healpy/pixelfunc.py:655: RuntimeWarning: divide by zero encountered in _vec2pix_ring\n",
      "  return pixlib._vec2pix_ring(nside, x, y, z)\n",
      "/home/srodriguez/miniconda3/envs/cielo_tutorial/lib/python3.8/site-packages/healpy/pixelfunc.py:655: RuntimeWarning: invalid value encountered in _vec2pix_ring\n",
      "  return pixlib._vec2pix_ring(nside, x, y, z)\n",
      " 98% (1000 of 1012) |################### | Elapsed Time: 0:00:06 ETA:   0:00:00"
     ]
    }
   ],
   "source": [
    "size = Satellites.size\n",
    "\n",
    "bar = progressbar.ProgressBar(max_value=size)\n",
    "C = 0\n",
    "\n",
    "BetterVec, SatS, CenS, maxD = [], [], [], []\n",
    "\n",
    "for Sa, Ce in zip(Satellites, Centrals):\n",
    "    vecM, MD = get_BetterVector(Sa)\n",
    "    if vecM[0]!=0 and vecM[1]!=0 and vecM[2]!=0:\n",
    "        BetterVec.append(vecM)\n",
    "        maxD.append(MD)\n",
    "        SatS.append(Sa)\n",
    "        CenS.append(Ce)\n",
    "    bar.update(C)\n",
    "    C += 1\n",
    "    \n",
    "BetterVec, SatS, CenS, maxD = np.array(BetterVec), np.array(SatS), np.array(CenS), np.array(maxD) "
   ]
  },
  {
   "cell_type": "code",
   "execution_count": 21,
   "metadata": {},
   "outputs": [
    {
     "data": {
      "text/plain": [
       "20"
      ]
     },
     "execution_count": 21,
     "metadata": {},
     "output_type": "execute_result"
    }
   ],
   "source": [
    "SatS.size"
   ]
  },
  {
   "cell_type": "code",
   "execution_count": 22,
   "metadata": {},
   "outputs": [],
   "source": [
    "with h5py.File('BetterVectorList_V2.h5', 'w') as f:\n",
    "    f.create_dataset('SatelliteList', data=SatS)\n",
    "    f.create_dataset('SatelliteCentral', data=CenS)\n",
    "    f.create_dataset('BetterVectors', data=BetterVec)\n",
    "    f.create_dataset('MaxDeltaSFR', data=maxD)"
   ]
  },
  {
   "cell_type": "code",
   "execution_count": 23,
   "metadata": {},
   "outputs": [],
   "source": [
    "CosBV_C, CosBV_V = [], []\n",
    "posC, velG = [], []\n",
    "\n",
    "for Sa, Ce, BV in zip(SatS, CenS, BetterVec):\n",
    "    posGal = sim['SnapNumber_128/SubGroups/SubGroupPos'][Sa]\n",
    "    posCen = sim['SnapNumber_128/SubGroups/SubGroupPos'][Ce]\n",
    "    \n",
    "    cenP = posCen - posGal\n",
    "    cenPN = cenP/np.sqrt(np.sum(cenP**2))\n",
    "    \n",
    "    posC.append(cenPN)\n",
    "    \n",
    "    velGal = sim['SnapNumber_128/SubGroups/SubGroupVel'][Sa]\n",
    "    velCen = sim['SnapNumber_128/SubGroups/SubGroupVel'][Ce]\n",
    "    \n",
    "    cenV = velGal - velCen\n",
    "    cenVN = cenV/np.sqrt(np.sum(cenV**2))\n",
    "    \n",
    "    velG.append(cenVN)\n",
    "    \n",
    "    CosBV_C.append(np.sum(cenPN*BV))\n",
    "    CosBV_V.append(np.sum(cenVN*BV))\n",
    "    \n",
    "CosBV_C, CosBV_V = np.array(CosBV_C), np.array(CosBV_V)\n",
    "posC, velG = np.array(posC), np.array(velG)"
   ]
  },
  {
   "cell_type": "code",
   "execution_count": 24,
   "metadata": {},
   "outputs": [
    {
     "data": {
      "text/plain": [
       "(array([-0.51325979, -0.58682144,  0.12293437, -0.62796107,  0.71385488,\n",
       "         0.25044219,  0.14223325, -0.0653055 ,  0.44072977,  0.67058748,\n",
       "        -0.31011881, -0.76933631,  0.51315139, -0.63497602, -0.07717286,\n",
       "        -0.56974032,  0.75250803,  0.29712713, -0.02985184,  0.12259833]),\n",
       " array([-0.5345472 ,  0.89556143,  0.1124949 , -0.6566135 , -0.24656463,\n",
       "         0.96476204,  0.75893732,  0.09144652,  0.7420645 ,  0.8687872 ,\n",
       "        -0.8523262 , -0.35122124, -0.52920732,  0.50340518,  0.75563967,\n",
       "        -0.06099864,  0.97709284, -0.02510099,  0.30776099,  0.02844908]))"
      ]
     },
     "execution_count": 24,
     "metadata": {},
     "output_type": "execute_result"
    }
   ],
   "source": [
    "CosBV_C, CosBV_V"
   ]
  },
  {
   "cell_type": "code",
   "execution_count": 25,
   "metadata": {},
   "outputs": [],
   "source": [
    "import pylab as pl"
   ]
  },
  {
   "cell_type": "code",
   "execution_count": 26,
   "metadata": {},
   "outputs": [
    {
     "data": {
      "text/plain": [
       "[<matplotlib.lines.Line2D at 0x7f7e2fbd1f40>]"
      ]
     },
     "execution_count": 26,
     "metadata": {},
     "output_type": "execute_result"
    },
    {
     "data": {
      "image/png": "[encoded data removed]",
      "text/plain": [
       "<Figure size 1296x720 with 6 Axes>"
      ]
     },
     "metadata": {
      "needs_background": "light"
     },
     "output_type": "display_data"
    }
   ],
   "source": [
    "pl.figure(figsize=(18,10))\n",
    "\n",
    "pl.subplot(2, 3, 1)\n",
    "\n",
    "pl.plot(posC[:,0], BetterVec[:,0], marker='o', ls='')\n",
    "\n",
    "pl.subplot(2, 3, 2)\n",
    "\n",
    "pl.plot(posC[:,1], BetterVec[:,1], marker='o', ls='')\n",
    "\n",
    "pl.subplot(2, 3, 3)\n",
    "\n",
    "pl.plot(posC[:,2], BetterVec[:,2], marker='o', ls='')\n",
    "\n",
    "pl.subplot(2, 3, 4)\n",
    "\n",
    "pl.plot(velG[:,0], BetterVec[:,0], marker='o', ls='')\n",
    "\n",
    "pl.subplot(2, 3, 5)\n",
    "\n",
    "pl.plot(velG[:,1], BetterVec[:,1], marker='o', ls='')\n",
    "\n",
    "pl.subplot(2, 3, 6)\n",
    "\n",
    "pl.plot(velG[:,2], BetterVec[:,2], marker='o', ls='')"
   ]
  },
  {
   "cell_type": "code",
   "execution_count": 27,
   "metadata": {},
   "outputs": [
    {
     "data": {
      "text/plain": [
       "<matplotlib.legend.Legend at 0x7f7e2f6f4cd0>"
      ]
     },
     "execution_count": 27,
     "metadata": {},
     "output_type": "execute_result"
    },
    {
     "data": {
      "image/png": "[encoded data removed]",
      "text/plain": [
       "<Figure size 720x720 with 1 Axes>"
      ]
     },
     "metadata": {
      "needs_background": "light"
     },
     "output_type": "display_data"
    }
   ],
   "source": [
    "pl.figure(figsize=(10,10))\n",
    "\n",
    "pl.hist(CosBV_C, range=(-1,1), bins=3, label='Centre-Better', histtype='step')\n",
    "pl.hist(CosBV_V, range=(-1,1), bins=3, label='Vel-Better', histtype='step')\n",
    "\n",
    "pl.xlabel('cos theta')\n",
    "pl.legend(loc='best')"
   ]
  },
  {
   "cell_type": "code",
   "execution_count": null,
   "metadata": {},
   "outputs": [],
   "source": []
  }
 ],
 "metadata": {
  "kernelspec": {
   "display_name": "Python 3",
   "language": "python",
   "name": "python3"
  },
  "language_info": {
   "codemirror_mode": {
    "name": "ipython",
    "version": 3
   },
   "file_extension": ".py",
   "mimetype": "text/x-python",
   "name": "python",
   "nbconvert_exporter": "python",
   "pygments_lexer": "ipython3",
   "version": "3.8.1"
  }
 },
 "nbformat": 4,
 "nbformat_minor": 4
}
