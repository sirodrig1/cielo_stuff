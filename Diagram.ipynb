{
 "cells": [
  {
   "cell_type": "code",
   "execution_count": 1,
   "metadata": {},
   "outputs": [
    {
     "data": {
      "image/png": "[encoded data removed]",
      "text/plain": [
       "<Figure size 432x288 with 1 Axes>"
      ]
     },
     "metadata": {},
     "output_type": "display_data"
    }
   ],
   "source": [
    "import numpy as np\n",
    "import pylab as pl\n",
    "\n",
    "# i think that is\n",
    "\n",
    "fig, ax = pl.subplots(frameon=False)\n",
    "\n",
    "ax.axis('off')\n",
    "\n",
    "pl.subplots_adjust(left=.0, right=1., bottom=.0, top=1.)\n",
    "#pl.rc('text', usetex=True)\n",
    "pl.rc('font', size = 16)\n",
    "pl.rc('legend', fontsize = 16)\n",
    "\n",
    "pl.plot(0., 0., marker='o', markersize=15, color='blue')\n",
    "pl.text(-2.5, -1.2, 'Satellite galaxy')\n",
    "\n",
    "\n",
    "pl.plot(-2.8, 11.3, marker='o', markersize=5, color='green')\n",
    "pl.text(-4.8, 12., 'Gas particle')\n",
    "\n",
    "\n",
    "pl.plot(15., 0, marker='o', markersize=20, color='red')\n",
    "pl.text(12.5, 0.7, 'Central galaxy')\n",
    "\n",
    "\n",
    "pl.arrow(0.,0.,15.,0., head_width=0.)\n",
    "pl.arrow(0.,0.,-2.8,11.3, head_width=0.)\n",
    "\n",
    "\n",
    "pl.arrow(0.,0., 10, 5., linewidth=5.)\n",
    "pl.text(10.5, 5.5, '$\\\\vec{V}$')\n",
    "\n",
    "\n",
    "a1 = np.arctan2(11.3, -2.8)\n",
    "a2 = np.arctan2(5.,10.)\n",
    "\n",
    "t1 = np.linspace(0., a1, 100)\n",
    "t2 = np.linspace(a2, a1, 100)\n",
    "\n",
    "\n",
    "x1 = 10*np.cos(t1)\n",
    "y1 = 10*np.sin(t1)\n",
    "\n",
    "x2 = 5*np.cos(t2)\n",
    "y2 = 5*np.sin(t2)\n",
    "\n",
    "pl.plot(x1, y1, ls='--', color='purple')\n",
    "pl.plot(x2, y2, ls=':', color='black')\n",
    "\n",
    "pl.text(0.32, 1.7, '$\\\\phi_v$')\n",
    "pl.text(3.7, 5, '$\\\\phi_c$', color='purple')\n",
    "\n",
    "pl.xlim([-8., 18])\n",
    "pl.ylim([-1.5, 13.2])\n",
    "\n",
    "pl.xticks([])\n",
    "pl.yticks([])\n",
    "\n",
    "ax.set_aspect('equal')"
   ]
  },
  {
   "cell_type": "code",
   "execution_count": null,
   "metadata": {},
   "outputs": [],
   "source": []
  },
  {
   "cell_type": "code",
   "execution_count": 2,
   "metadata": {},
   "outputs": [],
   "source": [
    "import h5py\n",
    "import pylab as pl\n",
    "import numpy as np\n",
    "import matplotlib.colors as mpc\n",
    "import networkx\n",
    "import ipyvolume as ipv\n",
    "import progressbar\n",
    "import astropy.cosmology as apc"
   ]
  },
  {
   "cell_type": "code",
   "execution_count": 3,
   "metadata": {},
   "outputs": [],
   "source": [
    "sim = h5py.File('/disk1/lbignone/data/cielo/simulations/LG1/LG1.hdf5', 'r')\n",
    "trees = networkx.read_multiline_adjlist('/disk1/lbignone/data/cielo/simulations/LG1/LG1_tree.dat')"
   ]
  },
  {
   "cell_type": "code",
   "execution_count": 4,
   "metadata": {},
   "outputs": [
    {
     "name": "stdout",
     "output_type": "stream",
     "text": [
      "0.9636375002594857\n"
     ]
    }
   ],
   "source": [
    "g1 = sim['SnapNumber_128/SubGroups/GroupNumber'][4337]\n",
    "M200_1 = sim['SnapNumber_128/Groups/Group_M_Crit200'][g1]\n",
    "\n",
    "dmm = sim['SnapNumber_128/Header/MassTable'][1]\n",
    "offDM1 = sim['SnapNumber_128/SubGroups/PartType1/Offsets'][4337].astype('int')\n",
    "dM1 = dmm*(offDM1[1]-offDM1[0])\n",
    "\n",
    "print(dM1/M200_1)"
   ]
  },
  {
   "cell_type": "code",
   "execution_count": 5,
   "metadata": {},
   "outputs": [
    {
     "name": "stdout",
     "output_type": "stream",
     "text": [
      "0.6051477726823368\n"
     ]
    }
   ],
   "source": [
    "g2 = sim['SnapNumber_128/SubGroups/GroupNumber'][4469]\n",
    "M200_2 = sim['SnapNumber_128/Groups/Group_M_Crit200'][g2]\n",
    "\n",
    "offDM2 = sim['SnapNumber_128/SubGroups/PartType1/Offsets'][4469].astype('int')\n",
    "dM2 = dmm*(offDM2[1]-offDM2[0])\n",
    "\n",
    "print(dM2/M200_2)"
   ]
  },
  {
   "cell_type": "code",
   "execution_count": 6,
   "metadata": {},
   "outputs": [],
   "source": [
    "# ok, nwo see the intensity of pram and tt inside and outside\n",
    "T = h5py.File('Derived_Data_3.h5', 'r')\n",
    "\n",
    "\n",
    "dist_4338 = T['g4338/distance'][()]\n",
    "Time_4338 = T['g4338/time'][()]\n",
    "cosC_4338 = T['g4338/CosCen'][()]\n",
    "cosV_4338 = T['g4338/CosVel'][()]\n",
    "RP_4338 = T['g4338/RP'][()]\n",
    "TSt_4338 = T['g4338/TSt'][()]\n",
    "gMass_4338 = T['g4338/gMass'][()]\n",
    "SFR_4338 = T['g4338/SFR'][()]\n",
    "starMass_4338 = T['g4338/starMass'][()]\n",
    "Gas_4338 = T['g4338/Gas'][()]\n",
    "RestForce_4338 = T['g4338/RestForce'][()]\n",
    "\n",
    "dist_4339 = T['g4339/distance'][()]\n",
    "Time_4339 = T['g4339/time'][()]\n",
    "cosC_4339 = T['g4339/CosCen'][()]\n",
    "cosV_4339 = T['g4339/CosVel'][()]\n",
    "RP_4339 = T['g4339/RP'][()]\n",
    "TSt_4339 = T['g4339/TSt'][()]\n",
    "gMass_4339 = T['g4339/gMass'][()]\n",
    "SFR_4339 = T['g4339/SFR'][()]\n",
    "starMass_4339 = T['g4339/starMass'][()]\n",
    "Gas_4339 = T['g4339/Gas'][()]\n",
    "RestForce_4339 = T['g4339/RestForce'][()]\n",
    "\n",
    "dist_4341 = T['g4341/distance'][()]\n",
    "Time_4341 = T['g4341/time'][()]\n",
    "cosC_4341 = T['g4341/CosCen'][()]\n",
    "cosV_4341 = T['g4341/CosVel'][()]\n",
    "RP_4341 = T['g4341/RP'][()]\n",
    "TSt_4341 = T['g4341/TSt'][()]\n",
    "gMass_4341 = T['g4341/gMass'][()]\n",
    "SFR_4341 = T['g4341/SFR'][()]\n",
    "starMass_4341 = T['g4341/starMass'][()]\n",
    "Gas_4341 = T['g4341/Gas'][()]\n",
    "RestForce_4341 = T['g4341/RestForce'][()]\n",
    "\n",
    "dist_4343 = T['g4343/distance'][()]\n",
    "Time_4343 = T['g4343/time'][()]\n",
    "cosC_4343 = T['g4343/CosCen'][()]\n",
    "cosV_4343 = T['g4343/CosVel'][()]\n",
    "RP_4343 = T['g4343/RP'][()]\n",
    "TSt_4343 = T['g4343/TSt'][()]\n",
    "gMass_4343 = T['g4343/gMass'][()]\n",
    "SFR_4343 = T['g4343/SFR'][()]\n",
    "starMass_4343 = T['g4343/starMass'][()]\n",
    "Gas_4343 = T['g4343/Gas'][()]\n",
    "RestForce_4343 = T['g4343/RestForce'][()]\n",
    "\n",
    "dist_4470 = T['g4470/distance'][()]\n",
    "Time_4470 = T['g4470/time'][()]\n",
    "cosC_4470 = T['g4470/CosCen'][()]\n",
    "cosV_4470 = T['g4470/CosVel'][()]\n",
    "RP_4470 = T['g4470/RP'][()]\n",
    "TSt_4470 = T['g4470/TSt'][()]\n",
    "gMass_4470 = T['g4470/gMass'][()]\n",
    "SFR_4470 = T['g4470/SFR'][()]\n",
    "starMass_4470 = T['g4470/starMass'][()]\n",
    "Gas_4470 = T['g4470/Gas'][()]\n",
    "RestForce_4470 = T['g4470/RestForce'][()]\n",
    "\n",
    "dist_4471 = T['g4471/distance'][()]\n",
    "Time_4471 = T['g4471/time'][()]\n",
    "cosC_4471 = T['g4471/CosCen'][()]\n",
    "cosV_4471 = T['g4471/CosVel'][()]\n",
    "RP_4471 = T['g4471/RP'][()]\n",
    "TSt_4471 = T['g4471/TSt'][()]\n",
    "gMass_4471 = T['g4471/gMass'][()]\n",
    "SFR_4471 = T['g4471/SFR'][()]\n",
    "starMass_4471 = T['g4471/starMass'][()]\n",
    "Gas_4471 = T['g4471/Gas'][()]\n",
    "RestForce_4471 = T['g4471/RestForce'][()]\n",
    "\n",
    "dist_4473 = T['g4473/distance'][()]\n",
    "Time_4473 = T['g4473/time'][()]\n",
    "cosC_4473 = T['g4473/CosCen'][()]\n",
    "cosV_4473 = T['g4473/CosVel'][()]\n",
    "RP_4473 = T['g4473/RP'][()]\n",
    "TSt_4473 = T['g4473/TSt'][()]\n",
    "gMass_4473 = T['g4473/gMass'][()]\n",
    "SFR_4473 = T['g4473/SFR'][()]\n",
    "starMass_4473 = T['g4473/starMass'][()]\n",
    "Gas_4473 = T['g4473/Gas'][()]\n",
    "RestForce_4473 = T['g4473/RestForce'][()]\n",
    "\n",
    "dist_4474 = T['g4474/distance'][()]\n",
    "Time_4474 = T['g4474/time'][()]\n",
    "cosC_4474 = T['g4474/CosCen'][()]\n",
    "cosV_4474 = T['g4474/CosVel'][()]\n",
    "RP_4474 = T['g4474/RP'][()]\n",
    "TSt_4474 = T['g4474/TSt'][()]\n",
    "gMass_4474 = T['g4474/gMass'][()]\n",
    "SFR_4474 = T['g4474/SFR'][()]\n",
    "starMass_4474 = T['g4474/starMass'][()]\n",
    "Gas_4474 = T['g4474/Gas'][()]\n",
    "RestForce_4474 = T['g4474/RestForce'][()]"
   ]
  },
  {
   "cell_type": "code",
   "execution_count": 22,
   "metadata": {},
   "outputs": [],
   "source": [
    "def getAve(dist, RP, TS):\n",
    "    i1 = np.where(dist<0.2)\n",
    "    i2 = np.where((dist>0.2) & (dist<1.))\n",
    "    \n",
    "    RP1 = np.mean(RP[i1])\n",
    "    TS1 = np.mean(TS[i1])\n",
    "    \n",
    "    RP2 = np.mean(RP[i2])\n",
    "    TS2 = np.mean(TS[i2])\n",
    "    \n",
    "    print(RP1, RP2)\n",
    "    return RP1/RP2, TS1/TS2"
   ]
  },
  {
   "cell_type": "code",
   "execution_count": 23,
   "metadata": {},
   "outputs": [
    {
     "name": "stdout",
     "output_type": "stream",
     "text": [
      "2.70530230995766e-16 4.1492781179186547e-17\n"
     ]
    },
    {
     "data": {
      "text/plain": [
       "(6.5199348731886975, 1.4696897954392463)"
      ]
     },
     "execution_count": 23,
     "metadata": {},
     "output_type": "execute_result"
    }
   ],
   "source": [
    "getAve(dist_4338, RP_4338, TSt_4338/gMass_4338)"
   ]
  },
  {
   "cell_type": "code",
   "execution_count": 24,
   "metadata": {},
   "outputs": [
    {
     "name": "stdout",
     "output_type": "stream",
     "text": [
      "4.241806745812335e-16 1.7921260370766201e-16\n"
     ]
    },
    {
     "data": {
      "text/plain": [
       "(2.366913184706429, 1.5916238498786373)"
      ]
     },
     "execution_count": 24,
     "metadata": {},
     "output_type": "execute_result"
    }
   ],
   "source": [
    "getAve(dist_4339, RP_4339, TSt_4339/gMass_4339)"
   ]
  },
  {
   "cell_type": "code",
   "execution_count": 25,
   "metadata": {},
   "outputs": [
    {
     "name": "stdout",
     "output_type": "stream",
     "text": [
      "2.1191432134021942e-16 3.3711387195907445e-17\n"
     ]
    },
    {
     "data": {
      "text/plain": [
       "(6.286134714917509, 3.4908677812335713)"
      ]
     },
     "execution_count": 25,
     "metadata": {},
     "output_type": "execute_result"
    }
   ],
   "source": [
    "getAve(dist_4341, RP_4341, TSt_4341/gMass_4341)"
   ]
  },
  {
   "cell_type": "code",
   "execution_count": 26,
   "metadata": {},
   "outputs": [
    {
     "name": "stdout",
     "output_type": "stream",
     "text": [
      "2.830108390892455e-16 1.0456292678160848e-16\n"
     ]
    },
    {
     "data": {
      "text/plain": [
       "(2.7066078561510207, 3.6123985648917847)"
      ]
     },
     "execution_count": 26,
     "metadata": {},
     "output_type": "execute_result"
    }
   ],
   "source": [
    "getAve(dist_4343, RP_4343, TSt_4343/gMass_4343)"
   ]
  },
  {
   "cell_type": "code",
   "execution_count": 27,
   "metadata": {},
   "outputs": [
    {
     "name": "stdout",
     "output_type": "stream",
     "text": [
      "nan 3.390137032027516e-17\n"
     ]
    },
    {
     "data": {
      "text/plain": [
       "(nan, nan)"
      ]
     },
     "execution_count": 27,
     "metadata": {},
     "output_type": "execute_result"
    }
   ],
   "source": [
    "getAve(dist_4470, RP_4470, TSt_4470/gMass_4470)"
   ]
  },
  {
   "cell_type": "code",
   "execution_count": 28,
   "metadata": {},
   "outputs": [
    {
     "name": "stdout",
     "output_type": "stream",
     "text": [
      "5.1915072316273914e-17 3.9896608929292595e-17\n"
     ]
    },
    {
     "data": {
      "text/plain": [
       "(1.3012402234054836, 1.9464608985351597)"
      ]
     },
     "execution_count": 28,
     "metadata": {},
     "output_type": "execute_result"
    }
   ],
   "source": [
    "getAve(dist_4471, RP_4471, TSt_4471/gMass_4471)"
   ]
  },
  {
   "cell_type": "code",
   "execution_count": 29,
   "metadata": {},
   "outputs": [
    {
     "name": "stdout",
     "output_type": "stream",
     "text": [
      "nan 5.2405997267739323e-17\n"
     ]
    },
    {
     "data": {
      "text/plain": [
       "(nan, nan)"
      ]
     },
     "execution_count": 29,
     "metadata": {},
     "output_type": "execute_result"
    }
   ],
   "source": [
    "getAve(dist_4473, RP_4473, TSt_4473/gMass_4473)"
   ]
  },
  {
   "cell_type": "code",
   "execution_count": 30,
   "metadata": {},
   "outputs": [
    {
     "name": "stdout",
     "output_type": "stream",
     "text": [
      "nan 1.0874311126550923e-16\n"
     ]
    },
    {
     "data": {
      "text/plain": [
       "(nan, nan)"
      ]
     },
     "execution_count": 30,
     "metadata": {},
     "output_type": "execute_result"
    }
   ],
   "source": [
    "getAve(dist_4474, RP_4474, TSt_4474/gMass_4474)"
   ]
  },
  {
   "cell_type": "code",
   "execution_count": 31,
   "metadata": {},
   "outputs": [
    {
     "data": {
      "text/plain": [
       "2.4831022766454765e-16"
      ]
     },
     "execution_count": 31,
     "metadata": {},
     "output_type": "execute_result"
    }
   ],
   "source": [
    "np.mean([5.1915072316273914e-17, 2.830108390892455e-16, 2.1191432134021942e-16, 4.241806745812335e-16, 2.70530230995766e-16])"
   ]
  },
  {
   "cell_type": "code",
   "execution_count": 16,
   "metadata": {},
   "outputs": [],
   "source": [
    "# and the mergers of the central galaxies, in total.\n",
    "\n",
    "def split_unique_id(unique_id):\n",
    "    \"\"\"Splits the ids assign to the subhalos by the merger tree code by snap number and subfind number \"\"\"\n",
    "    subfind_number = int(unique_id % 1e6)\n",
    "    snap_number = int((unique_id - subfind_number) / 1e6)\n",
    "    \n",
    "    return snap_number, subfind_number\n",
    "\n",
    "def get_main_branch_unique_ids(subtree, node):\n",
    "    \"\"\"Gets the unique ids of the subhalos belonging to the main branch of the selected subhalo (node)\"\"\"\n",
    "    mpb = [node, ]\n",
    "    i = 0\n",
    "    while True:\n",
    "        succesors = list(subtree.successors(node))\n",
    "        if len(succesors) == 0:\n",
    "            break\n",
    "        node = succesors[0] # select only the first succesor (main branch)\n",
    "        mpb.append(node)\n",
    "        \n",
    "    return mpb"
   ]
  },
  {
   "cell_type": "code",
   "execution_count": 17,
   "metadata": {},
   "outputs": [],
   "source": [
    "def get_main_branch_and_progNumb(subtree, node):\n",
    "    \"\"\"Gets the unique ids of the subhalos belonging to the main branch of the selected subhalo (node)\"\"\"\n",
    "    mpb = [node, ]\n",
    "    numb = [[node], ]\n",
    "    i = 0\n",
    "    while True:\n",
    "        successors = list(subtree.successors(node))\n",
    "        if len(successors) == 0:\n",
    "            break\n",
    "        node = successors[0] # select only the first succesor (main branch)\n",
    "        mpb.append(node)\n",
    "        numb.append(successors)\n",
    "        \n",
    "    return mpb, numb\n",
    "\n",
    "OmegaM = sim['SnapNumber_128/Header/Omega0'][()]\n",
    "Cosmo = apc.FlatLambdaCDM(H0=100, Om0=OmegaM) # H0 = 100, so all quantities are in h or /h"
   ]
  },
  {
   "cell_type": "code",
   "execution_count": 18,
   "metadata": {},
   "outputs": [
    {
     "name": "stdout",
     "output_type": "stream",
     "text": [
      "126 0.0\n",
      "125 0.0\n",
      "124 5.9628840799465505e-06\n",
      "123 0.0\n",
      "122 1.600421690620524e-05\n",
      "121 2.002908488798525e-05\n",
      "120 0.0\n",
      "119 0.0\n",
      "118 0.0\n",
      "117 0.0013020408401325137\n",
      "116 0.0003169750025363742\n",
      "115 0.0011163696455750841\n",
      "114 6.096277477771353e-05\n",
      "113 0.0\n",
      "112 0.0009324431213502186\n",
      "111 0.0\n",
      "110 2.8563465825018886e-05\n",
      "109 0.0\n",
      "108 0.0008453706670776144\n",
      "107 2.8616046314740544e-05\n",
      "106 1.2224463025807496e-05\n",
      "105 0.0\n",
      "104 4.132086355499071e-05\n",
      "103 3.598883477236215e-05\n",
      "102 6.2256075418898686e-06\n",
      "101 6.522072501967551e-05\n",
      "100 0.04950051494699522\n",
      "99 0.0\n",
      "98 0.0\n",
      "97 4.572436222517664e-06\n",
      "96 3.835310980636767e-05\n",
      "95 0.00026498453710336787\n",
      "94 0.0\n",
      "93 0.00010618012773001147\n",
      "92 0.00026974894381076754\n",
      "91 2.4683189214148226e-06\n",
      "90 2.4702796950129334e-06\n",
      "89 6.23818645944675e-05\n",
      "88 2.2461437717642037e-05\n",
      "87 2.0126289049715993e-05\n",
      "86 1.5179034038683159e-05\n",
      "85 0.0003224390776033171\n",
      "84 0.0\n",
      "83 2.8785394751897592e-05\n",
      "82 0.0003020263445890786\n",
      "81 7.740585167288365e-05\n",
      "80 0.0068161676504461715\n",
      "79 1.0844893746260947e-05\n",
      "78 0.0\n",
      "77 8.24368373171847e-06\n",
      "76 8.394795203806016e-06\n",
      "75 0.00021880689730970431\n",
      "74 0.000783215175101334\n",
      "73 0.0\n",
      "72 9.217175111597233e-05\n",
      "71 3.0067373529593435e-06\n",
      "70 2.107447393129729e-05\n",
      "69 0.0015217361016041946\n",
      "68 7.456835736721061e-05\n",
      "67 5.961999373932607e-05\n",
      "66 0.00014066929692215993\n",
      "65 2.5876538192310333e-05\n",
      "64 0.000567609327622573\n",
      "63 2.6534537255649112e-05\n",
      "62 4.4485093906573996e-05\n",
      "61 0.00010678682358305006\n",
      "60 2.508144780506276e-05\n",
      "59 1.471903380470843e-05\n",
      "58 8.413608922999714e-05\n",
      "57 0.19373823212996533\n",
      "56 0.0006028104601196952\n",
      "55 0.00015563307982438556\n",
      "54 0.0012662136947977206\n",
      "53 0.007455202507530956\n",
      "52 0.2823626885152911\n",
      "51 0.008254011291837402\n",
      "50 0.03773017587412552\n",
      "49 0.2638537294773645\n",
      "48 2.054743687837821\n",
      "47 0.178126820885359\n",
      "46 0.39067636369209136\n",
      "45 1.1468876145831697\n",
      "44 0.0\n",
      "43 0.0\n",
      "40 0.0068053286037952545\n",
      "38 0.0\n",
      "37 0.044402723575483784\n",
      "34 0.7890543785835648\n",
      "48 2.054743687837821 4.168797641528048\n",
      "57 0.19373823212996533 2.4456444451483383\n",
      "7.4846908186963965 Gyr\n"
     ]
    }
   ],
   "source": [
    "fofID = 4337\n",
    "\n",
    "uniqueID = int(128*1e6+fofID)\n",
    "stree = networkx.dfs_tree(trees, str(uniqueID))\n",
    "mtree, numbs = get_main_branch_and_progNumb(stree, str(uniqueID))\n",
    "\n",
    "maxx, snapmaxx = 0, 0\n",
    "first, snapfirst, fi = 0, 0, 0\n",
    "for n in numbs:\n",
    "    if len(n)>1:\n",
    "        main = n[0]\n",
    "        snap, fofi = split_unique_id(int(main))\n",
    "        offM = sim['SnapNumber_{}/SubGroups/PartType4/Offsets'.format(snap)][fofi].astype('int')\n",
    "        stMass = sim['SnapNumber_{}/PartType4/Masses'.format(snap)][offM[0]:offM[1]]\n",
    "        mainN = np.sum(stMass)\n",
    "        otherN = 0\n",
    "        for ni in n[1:]:\n",
    "            snapS, fofS = split_unique_id(int(ni))\n",
    "            offS = sim['SnapNumber_{}/SubGroups/PartType4/Offsets'.format(snapS)][fofS].astype('int')\n",
    "            otherstMass = sim['SnapNumber_{}/PartType4/Masses'.format(snap)][offS[0]:offS[1]]\n",
    "            otherN += np.sum(otherstMass)\n",
    "        ratio = otherN/mainN\n",
    "        if ratio> maxx:\n",
    "            maxx = ratio\n",
    "            snapmaxx = snap\n",
    "        if ratio >= 0.1 and fi==0:\n",
    "            first = ratio\n",
    "            snapfirst = snap\n",
    "            fi = 1\n",
    "        print(snap, ratio)\n",
    "\n",
    "print(snapmaxx, maxx, sim['SnapNumber_{}/Header/Redshift'.format(snapmaxx)][()])\n",
    "print(snapfirst, first, sim['SnapNumber_{}/Header/Redshift'.format(snapfirst)][()])\n",
    "print(Cosmo.lookback_time(sim['SnapNumber_{}/Header/Redshift'.format(snapfirst)][()]))"
   ]
  },
  {
   "cell_type": "code",
   "execution_count": 19,
   "metadata": {},
   "outputs": [
    {
     "name": "stdout",
     "output_type": "stream",
     "text": [
      "126 0.0\n",
      "125 0.0\n",
      "124 0.0\n",
      "123 0.00015085355439680963\n",
      "122 0.0\n",
      "121 0.0\n",
      "120 0.0\n",
      "119 0.0087327989408657\n",
      "118 0.0\n",
      "117 0.0\n",
      "116 0.0\n",
      "115 0.0\n",
      "114 0.0\n",
      "113 0.0\n",
      "112 0.0\n",
      "111 0.0\n",
      "110 0.0\n",
      "109 0.0\n",
      "108 0.0\n",
      "107 0.0\n",
      "106 0.0\n",
      "105 0.0\n",
      "104 0.0\n",
      "103 0.0\n",
      "102 0.0\n",
      "101 1.833997919389961e-05\n",
      "100 0.0\n",
      "99 3.81504647996086e-05\n",
      "96 0.0\n",
      "95 0.0\n",
      "94 0.0\n",
      "93 0.0\n",
      "92 0.0002509686008994451\n",
      "91 6.374078194216592e-05\n",
      "90 0.0\n",
      "89 0.0\n",
      "88 0.0\n",
      "87 0.0004896420930955405\n",
      "86 0.0\n",
      "85 0.0008300061864946388\n",
      "84 0.0\n",
      "83 0.0\n",
      "82 0.0005649917690901163\n",
      "81 2.7540831650302332e-05\n",
      "80 0.0\n",
      "79 2.7571945195014793e-05\n",
      "78 0.0001116783430383297\n",
      "77 2.8816357032316404e-05\n",
      "76 0.0\n",
      "75 0.04436337128685303\n",
      "74 0.0008290567414463573\n",
      "73 0.0001739681891342567\n",
      "72 0.0\n",
      "71 0.0\n",
      "70 0.007353404592176273\n",
      "69 7.176760840477878e-05\n",
      "66 0.0\n",
      "63 0.002135974262915296\n",
      "61 4.494848228786178e-05\n",
      "60 0.0\n",
      "59 0.0005188177813995878\n",
      "58 0.0\n",
      "56 0.0\n",
      "55 0.0030125739615101247\n",
      "54 0.06338886398041635\n",
      "53 0.0\n",
      "52 0.002275714410815161\n",
      "51 0.16561691223608618\n",
      "50 0.009894243515657734\n",
      "49 0.0008959781975288754\n",
      "48 0.0005915406159652328\n",
      "47 0.007388882277530413\n",
      "46 0.0021942670024405514\n",
      "45 0.0\n",
      "44 0.003824870238716895\n",
      "43 0.006666169579050876\n",
      "42 0.007574580352987287\n",
      "41 0.0029568426376496456\n",
      "40 0.03086642293997478\n",
      "39 0.0032192051097276967\n",
      "38 0.026203964094851658\n",
      "36 0.018395524015080704\n",
      "35 0.0945047408603888\n",
      "34 0.15936850533052108\n",
      "33 0.1015011191287957\n",
      "32 0.0\n",
      "31 0.2998820714493216\n",
      "31 0.2998820714493216 10.375184625465014\n",
      "51 0.16561691223608618 3.4933029922851775\n",
      "8.068101900176174 Gyr\n"
     ]
    }
   ],
   "source": [
    "fofID = 4469\n",
    "\n",
    "uniqueID = int(128*1e6+fofID)\n",
    "stree = networkx.dfs_tree(trees, str(uniqueID))\n",
    "mtree, numbs = get_main_branch_and_progNumb(stree, str(uniqueID))\n",
    "\n",
    "maxx, snapmaxx = 0, 0\n",
    "first, snapfirst, fi = 0, 0, 0\n",
    "for n in numbs:\n",
    "    if len(n)>1:\n",
    "        main = n[0]\n",
    "        snap, fofi = split_unique_id(int(main))\n",
    "        offM = sim['SnapNumber_{}/SubGroups/PartType4/Offsets'.format(snap)][fofi].astype('int')\n",
    "        stMass = sim['SnapNumber_{}/PartType4/Masses'.format(snap)][offM[0]:offM[1]]\n",
    "        mainN = np.sum(stMass)\n",
    "        otherN = 0\n",
    "        for ni in n[1:]:\n",
    "            snapS, fofS = split_unique_id(int(ni))\n",
    "            offS = sim['SnapNumber_{}/SubGroups/PartType4/Offsets'.format(snapS)][fofS].astype('int')\n",
    "            otherstMass = sim['SnapNumber_{}/PartType4/Masses'.format(snap)][offS[0]:offS[1]]\n",
    "            otherN += np.sum(otherstMass)\n",
    "        ratio = otherN/mainN\n",
    "        if ratio> maxx:\n",
    "            maxx = ratio\n",
    "            snapmaxx = snap\n",
    "        if ratio >= 0.1 and fi==0:\n",
    "            first = ratio\n",
    "            snapfirst = snap\n",
    "            fi = 1\n",
    "        print(snap, ratio)\n",
    "\n",
    "print(snapmaxx, maxx, sim['SnapNumber_{}/Header/Redshift'.format(snapmaxx)][()])\n",
    "print(snapfirst, first, sim['SnapNumber_{}/Header/Redshift'.format(snapfirst)][()])\n",
    "print(Cosmo.lookback_time(sim['SnapNumber_{}/Header/Redshift'.format(snapfirst)][()]))"
   ]
  },
  {
   "cell_type": "code",
   "execution_count": 20,
   "metadata": {},
   "outputs": [
    {
     "data": {
      "text/latex": [
       "$3.747164 \\; \\mathrm{Gyr}$"
      ],
      "text/plain": [
       "<Quantity 3.74716398 Gyr>"
      ]
     },
     "execution_count": 20,
     "metadata": {},
     "output_type": "execute_result"
    }
   ],
   "source": [
    "Cosmo.lookback_time(0.55)"
   ]
  },
  {
   "cell_type": "code",
   "execution_count": 21,
   "metadata": {},
   "outputs": [
    {
     "data": {
      "text/plain": [
       "0.38219559019532867"
      ]
     },
     "execution_count": 21,
     "metadata": {},
     "output_type": "execute_result"
    }
   ],
   "source": [
    "sim['SnapNumber_101/Header/Redshift'][()]"
   ]
  },
  {
   "cell_type": "code",
   "execution_count": null,
   "metadata": {},
   "outputs": [],
   "source": []
  }
 ],
 "metadata": {
  "kernelspec": {
   "display_name": "Python 3",
   "language": "python",
   "name": "python3"
  },
  "language_info": {
   "codemirror_mode": {
    "name": "ipython",
    "version": 3
   },
   "file_extension": ".py",
   "mimetype": "text/x-python",
   "name": "python",
   "nbconvert_exporter": "python",
   "pygments_lexer": "ipython3",
   "version": "3.6.10"
  }
 },
 "nbformat": 4,
 "nbformat_minor": 4
}
